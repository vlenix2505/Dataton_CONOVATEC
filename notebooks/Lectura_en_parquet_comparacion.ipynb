{
  "cells": [
    {
      "cell_type": "code",
      "execution_count": 7,
      "metadata": {
        "id": "73D9QJ7v7PLx"
      },
      "outputs": [],
      "source": [
        "import urllib.request\n",
        "import pandas as pd\n",
        "import seaborn as sns\n",
        "import matplotlib.pyplot as plt"
      ]
    },
    {
      "cell_type": "markdown",
      "metadata": {},
      "source": [
        "Leer esto desde el csv original toma 8 min 36 s aproximadamente"
      ]
    },
    {
      "cell_type": "code",
      "execution_count": null,
      "metadata": {},
      "outputs": [],
      "source": [
        "import polars as pl\n",
        "\n",
        "ruta = \"../data/raw/Prestaciones de salud asociadas a los asegurados con Diabetes Mellitus.csv\"\n",
        "\n",
        "schema_fix = {\n",
        "    \"CODPREST\": pl.Utf8,\n",
        "    \"IDCIE10\": pl.Utf8,\n",
        "}\n",
        "\n",
        "df = pl.read_csv(\n",
        "    ruta,\n",
        "    separator=\",\",\n",
        "    encoding=\"latin1\",\n",
        "    schema_overrides=schema_fix,\n",
        "    null_values=[\"\", \"S.I.\", \"S0001\"],\n",
        "    truncate_ragged_lines=True,  # This will truncate extra fields in long rows\n",
        "    ignore_errors=True,          # This will skip rows that still can't be parsed\n",
        "    try_parse_dates=True         # Helps with date parsing if needed\n",
        ")"
      ]
    },
    {
      "cell_type": "code",
      "execution_count": 8,
      "metadata": {},
      "outputs": [
        {
          "ename": "NameError",
          "evalue": "name 'df' is not defined",
          "output_type": "error",
          "traceback": [
            "\u001b[31m---------------------------------------------------------------------------\u001b[39m",
            "\u001b[31mNameError\u001b[39m                                 Traceback (most recent call last)",
            "\u001b[36mCell\u001b[39m\u001b[36m \u001b[39m\u001b[32mIn[8]\u001b[39m\u001b[32m, line 1\u001b[39m\n\u001b[32m----> \u001b[39m\u001b[32m1\u001b[39m \u001b[43mdf\u001b[49m.head(\u001b[32m7\u001b[39m)\n",
            "\u001b[31mNameError\u001b[39m: name 'df' is not defined"
          ]
        }
      ],
      "source": [
        "df.head(7)"
      ]
    },
    {
      "cell_type": "markdown",
      "metadata": {},
      "source": [
        "Leerlo en parquet toma solo 4 s"
      ]
    },
    {
      "cell_type": "code",
      "execution_count": 1,
      "metadata": {},
      "outputs": [
        {
          "data": {
            "text/html": [
              "<div><style>\n",
              ".dataframe > thead > tr,\n",
              ".dataframe > tbody > tr {\n",
              "  text-align: right;\n",
              "  white-space: pre-wrap;\n",
              "}\n",
              "</style>\n",
              "<small>shape: (10, 30)</small><table border=\"1\" class=\"dataframe\"><thead><tr><th>FECHA_CORTE</th><th>ULTIMO_MES_CONSUMOS</th><th>CODIGO_ANONIMIZADO</th><th>FECHA_NACIMIENTO</th><th>EDAD</th><th>SEXO</th><th>TIPO_DIABETES</th><th>FECHA_FALLECIMIENTO</th><th>UBIGEO</th><th>DEPARTAMENTO</th><th>PROVINCIA</th><th>DISTRITO</th><th>NIVEL_EESS</th><th>CODIGO_SERV_PRESTACIONAL</th><th>SERVICIO_PRESTACIONAL</th><th>DIAS_HOSP</th><th>ID_REGISTRO_REL</th><th>FECHA_ATENCION</th><th>TIPO_PERSONAL_SALUD</th><th>FECATE_POST_FECFED</th><th>CODDIA</th><th>C10_NOMBRE</th><th>TIPO_DIAGNOSTICO</th><th>TIPO_CONSUMO</th><th>CODIGO_CONSUMO</th><th>NOMBRE_CONSUMO</th><th>PRESENTACION_MEDICAMENTO</th><th>FORMA_FARMACEUTICA</th><th>CANTIDAD_ENTREGADA</th><th>VALOR_NETO</th></tr><tr><td>i64</td><td>i64</td><td>str</td><td>i64</td><td>i64</td><td>str</td><td>str</td><td>i64</td><td>i64</td><td>str</td><td>str</td><td>str</td><td>i64</td><td>i64</td><td>str</td><td>i64</td><td>str</td><td>i64</td><td>str</td><td>str</td><td>str</td><td>str</td><td>str</td><td>str</td><td>i64</td><td>str</td><td>str</td><td>str</td><td>i64</td><td>f64</td></tr></thead><tbody><tr><td>20240614</td><td>202309</td><td>&quot;18C9F497A5208F212E68D50C112AFD…</td><td>19830209</td><td>38</td><td>&quot;FEMENINO&quot;</td><td>&quot;DIABETES MELLITUS TIPO 2&quot;</td><td>null</td><td>150108</td><td>&quot;LIMA&quot;</td><td>&quot;LIMA&quot;</td><td>&quot;CHORRILLOS&quot;</td><td>1</td><td>9</td><td>&quot;ATENCIÃN PRENATAL&quot;</td><td>0</td><td>&quot;DM0042047563&quot;</td><td>20220106</td><td>&quot;ENFERMERO(A)&quot;</td><td>&quot;NO&quot;</td><td>&quot;Z348&quot;</td><td>&quot;SUPERVISION DE OTROS EMBARAZOS…</td><td>&quot;DEFINITIVO&nbsp;&nbsp;&nbsp;&nbsp;&nbsp;&quot;</td><td>&quot;MEDICAMENTO&quot;</td><td>20635</td><td>&quot;CALCIO CARBONATO&quot;</td><td>null</td><td>&quot;TAB&quot;</td><td>60</td><td>0.0</td></tr><tr><td>20240614</td><td>202309</td><td>&quot;8337E3C9F5F90AB9ADADD63D319C47…</td><td>19760507</td><td>47</td><td>&quot;FEMENINO&quot;</td><td>&quot;DIABETES MELLITUS TIPO 2&quot;</td><td>null</td><td>150106</td><td>&quot;LIMA&quot;</td><td>&quot;LIMA&quot;</td><td>&quot;CARABAYLLO&quot;</td><td>1</td><td>56</td><td>&quot;CONSULTA EXTERNA&quot;</td><td>null</td><td>&quot;DM0043980595&quot;</td><td>20230620</td><td>&quot;MEDICO&quot;</td><td>&quot;SI&quot;</td><td>&quot;F200&quot;</td><td>&quot;ESQUIZOFRENIA PARANOIDE&quot;</td><td>&quot;REPETIDO&nbsp;&nbsp;&nbsp;&nbsp;&nbsp;&nbsp;&nbsp;&quot;</td><td>&quot;MEDICAMENTO&quot;</td><td>3874</td><td>&quot;HALOPERIDOL (COMO DECANOATO)&quot;</td><td>&quot;1 mL&quot;</td><td>&quot;INY&quot;</td><td>2</td><td>0.0</td></tr><tr><td>20240614</td><td>202309</td><td>&quot;10991DD5539E8E7DA5F1543EE71B1D…</td><td>19781024</td><td>43</td><td>&quot;MASCULINO&quot;</td><td>&quot;DIABETES MELLITUS NO ESPECIFIC…</td><td>20220612</td><td>150135</td><td>&quot;LIMA&quot;</td><td>&quot;LIMA&quot;</td><td>&quot;SAN MARTÃN DE PORRES&quot;</td><td>3</td><td>65</td><td>&quot;INTERNAMIENTO EN EESS SIN INTE…</td><td>7</td><td>&quot;DM0043974259&quot;</td><td>20220606</td><td>&quot;MEDICO&quot;</td><td>&quot;SI&quot;</td><td>&quot;C859&quot;</td><td>&quot;LINFOMA NO HODGKIN&nbsp;&nbsp;NO ESPECIF…</td><td>&quot;REPETIDO&nbsp;&nbsp;&nbsp;&nbsp;&nbsp;&nbsp;&nbsp;&quot;</td><td>&quot;MEDICAMENTO&quot;</td><td>35040</td><td>&quot;OMEPRAZOL&quot;</td><td>null</td><td>&quot;TAB_LM&quot;</td><td>15</td><td>0.945</td></tr><tr><td>20240614</td><td>202309</td><td>&quot;9ED115C3E24F0B26F8B2BAD3849F2D…</td><td>19550720</td><td>67</td><td>&quot;FEMENINO&quot;</td><td>&quot;DIABETES MELLITUS TIPO 2&quot;</td><td>null</td><td>150110</td><td>&quot;LIMA&quot;</td><td>&quot;LIMA&quot;</td><td>&quot;COMAS&quot;</td><td>1</td><td>56</td><td>&quot;CONSULTA EXTERNA&quot;</td><td>0</td><td>&quot;DM0044094856&quot;</td><td>20220801</td><td>&quot;MEDICO&quot;</td><td>&quot;SI&quot;</td><td>&quot;J00X&quot;</td><td>&quot;RINOFARINGITIS AGUDA [RESFRIAD…</td><td>&quot;DEFINITIVO&nbsp;&nbsp;&nbsp;&nbsp;&nbsp;&quot;</td><td>&quot;MEDICAMENTO&quot;</td><td>4982</td><td>&quot;NAPROXENO&quot;</td><td>null</td><td>&quot;TAB&quot;</td><td>8</td><td>0.0</td></tr><tr><td>20240614</td><td>202309</td><td>&quot;8F5CDAF371AFCFB9B93BD52BFE5682…</td><td>19540906</td><td>67</td><td>&quot;FEMENINO&quot;</td><td>&quot;DIABETES MELLITUS TIPO 2&quot;</td><td>null</td><td>110301</td><td>&quot;ICA&quot;</td><td>&quot;NAZCA&quot;</td><td>&quot;NASCA&quot;</td><td>2</td><td>62</td><td>&quot;ATENCIÃN POR EMERGENCIA&quot;</td><td>null</td><td>&quot;DM0044097912&quot;</td><td>20220825</td><td>&quot;MEDICO&quot;</td><td>&quot;SI&quot;</td><td>&quot;J208&quot;</td><td>&quot;BRONQUITIS AGUDA DEBIDA A OTRO…</td><td>&quot;DEFINITIVO&nbsp;&nbsp;&nbsp;&nbsp;&nbsp;&quot;</td><td>&quot;MEDICAMENTO&quot;</td><td>4982</td><td>&quot;NAPROXENO&quot;</td><td>null</td><td>&quot;TAB&quot;</td><td>10</td><td>0.0</td></tr><tr><td>20240614</td><td>202309</td><td>&quot;F0362A16D552BA88EC574825F40185…</td><td>19790224</td><td>43</td><td>&quot;FEMENINO&quot;</td><td>&quot;DIABETES MELLITUS TIPO 2&quot;</td><td>null</td><td>60101</td><td>&quot;CAJAMARCA&quot;</td><td>&quot;CAJAMARCA&quot;</td><td>&quot;CAJAMARCA&quot;</td><td>2</td><td>65</td><td>&quot;INTERNAMIENTO EN EESS SIN INTE…</td><td>15</td><td>&quot;DM0042244574&quot;</td><td>20221117</td><td>&quot;MEDICO&quot;</td><td>&quot;SI&quot;</td><td>&quot;I10X&quot;</td><td>&quot;HIPERTENSION ESENCIAL (PRIMARI…</td><td>&quot;DEFINITIVO&nbsp;&nbsp;&nbsp;&nbsp;&nbsp;&quot;</td><td>&quot;MEDICAMENTO&quot;</td><td>4695</td><td>&quot;METFORMINA CLORHIDRATO&quot;</td><td>null</td><td>&quot;TAB&quot;</td><td>102</td><td>0.0</td></tr><tr><td>20240614</td><td>202309</td><td>&quot;36CAB77EADAE0D4F1ECFD393D02D52…</td><td>19970421</td><td>24</td><td>&quot;FEMENINO&quot;</td><td>&quot;DIABETES MELLITUS TIPO 2&quot;</td><td>null</td><td>200701</td><td>&quot;PIURA&quot;</td><td>&quot;TALARA&quot;</td><td>&quot;PARIÃAS&quot;</td><td>1</td><td>62</td><td>&quot;ATENCIÃN POR EMERGENCIA&quot;</td><td>null</td><td>&quot;DM0033447540&quot;</td><td>20220324</td><td>&quot;MEDICO&quot;</td><td>&quot;NO&quot;</td><td>&quot;K805&quot;</td><td>&quot;CALCULO DE CONDUCTO BILIAR SIN…</td><td>&quot;DEFINITIVO&nbsp;&nbsp;&nbsp;&nbsp;&nbsp;&quot;</td><td>&quot;MEDICAMENTO&quot;</td><td>4677</td><td>&quot;METAMIZOL SODICO&quot;</td><td>&quot;2 mL&quot;</td><td>&quot;INY&quot;</td><td>1</td><td>0.0</td></tr><tr><td>20240614</td><td>202309</td><td>&quot;0FD16D23F6116218EBCF94476C2E96…</td><td>19481202</td><td>73</td><td>&quot;MASCULINO&quot;</td><td>&quot;DIABETES MELLITUS TIPO 2&quot;</td><td>null</td><td>150135</td><td>&quot;LIMA&quot;</td><td>&quot;LIMA&quot;</td><td>&quot;SAN MARTÃN DE PORRES&quot;</td><td>3</td><td>56</td><td>&quot;CONSULTA EXTERNA&quot;</td><td>null</td><td>&quot;DM0036097604&quot;</td><td>20221102</td><td>&quot;MEDICO&quot;</td><td>&quot;SI&quot;</td><td>&quot;N189&quot;</td><td>&quot;ENFERMEDAD RENAL CRONICA&nbsp;&nbsp;NO E…</td><td>&quot;PRESUNTIVO&nbsp;&nbsp;&nbsp;&nbsp;&nbsp;&quot;</td><td>&quot;MEDICAMENTO&quot;</td><td>3713</td><td>&quot;FUROSEMIDA&quot;</td><td>null</td><td>&quot;TAB&quot;</td><td>60</td><td>5.4</td></tr><tr><td>20240614</td><td>202309</td><td>&quot;03CD16E01392B5CFCB717BCDC428C8…</td><td>19600229</td><td>62</td><td>&quot;FEMENINO&quot;</td><td>&quot;DIABETES MELLITUS TIPO 2&quot;</td><td>null</td><td>230104</td><td>&quot;TACNA&quot;</td><td>&quot;TACNA&quot;</td><td>&quot;CIUDAD NUEVA&quot;</td><td>1</td><td>56</td><td>&quot;CONSULTA EXTERNA&quot;</td><td>null</td><td>&quot;DM0051513940&quot;</td><td>20230124</td><td>&quot;MEDICO&quot;</td><td>&quot;SI&quot;</td><td>&quot;I10X&quot;</td><td>&quot;HIPERTENSION ESENCIAL (PRIMARI…</td><td>&quot;REPETIDO&nbsp;&nbsp;&nbsp;&nbsp;&nbsp;&nbsp;&nbsp;&quot;</td><td>&quot;MEDICAMENTO&quot;</td><td>3078</td><td>&quot;ENALAPRIL MALEATO&quot;</td><td>null</td><td>&quot;TAB&quot;</td><td>30</td><td>0.0</td></tr><tr><td>20240614</td><td>202309</td><td>&quot;B71C16E2CB2A8B0EDD06EA0007579E…</td><td>19460908</td><td>76</td><td>&quot;FEMENINO&quot;</td><td>&quot;DIABETES MELLITUS NO ESPECIFIC…</td><td>null</td><td>100604</td><td>&quot;HUÃNUCO&quot;</td><td>&quot;LEONCIO PRADO&quot;</td><td>&quot;JOSÃ CRESPO Y CASTILLO&quot;</td><td>1</td><td>56</td><td>&quot;CONSULTA EXTERNA&quot;</td><td>null</td><td>&quot;DM0056012651&quot;</td><td>20230206</td><td>&quot;MEDICO&quot;</td><td>&quot;SI&quot;</td><td>&quot;E149&quot;</td><td>&quot;DIABETES MELLITUS&nbsp;&nbsp;NO ESPECIFI…</td><td>&quot;DEFINITIVO&nbsp;&nbsp;&nbsp;&nbsp;&nbsp;&quot;</td><td>&quot;MEDICAMENTO&quot;</td><td>4696</td><td>&quot;METFORMINA CLORHIDRATO&quot;</td><td>null</td><td>&quot;TAB&quot;</td><td>30</td><td>1.11</td></tr></tbody></table></div>"
            ],
            "text/plain": [
              "shape: (10, 30)\n",
              "┌───────────┬───────────┬───────────┬───────────┬───┬───────────┬───────────┬───────────┬──────────┐\n",
              "│ FECHA_COR ┆ ULTIMO_ME ┆ CODIGO_AN ┆ FECHA_NAC ┆ … ┆ PRESENTAC ┆ FORMA_FAR ┆ CANTIDAD_ ┆ VALOR_NE │\n",
              "│ TE        ┆ S_CONSUMO ┆ ONIMIZADO ┆ IMIENTO   ┆   ┆ ION_MEDIC ┆ MACEUTICA ┆ ENTREGADA ┆ TO       │\n",
              "│ ---       ┆ S         ┆ ---       ┆ ---       ┆   ┆ AMENTO    ┆ ---       ┆ ---       ┆ ---      │\n",
              "│ i64       ┆ ---       ┆ str       ┆ i64       ┆   ┆ ---       ┆ str       ┆ i64       ┆ f64      │\n",
              "│           ┆ i64       ┆           ┆           ┆   ┆ str       ┆           ┆           ┆          │\n",
              "╞═══════════╪═══════════╪═══════════╪═══════════╪═══╪═══════════╪═══════════╪═══════════╪══════════╡\n",
              "│ 20240614  ┆ 202309    ┆ 18C9F497A ┆ 19830209  ┆ … ┆ null      ┆ TAB       ┆ 60        ┆ 0.0      │\n",
              "│           ┆           ┆ 5208F212E ┆           ┆   ┆           ┆           ┆           ┆          │\n",
              "│           ┆           ┆ 68D50C112 ┆           ┆   ┆           ┆           ┆           ┆          │\n",
              "│           ┆           ┆ AFD…      ┆           ┆   ┆           ┆           ┆           ┆          │\n",
              "│ 20240614  ┆ 202309    ┆ 8337E3C9F ┆ 19760507  ┆ … ┆ 1 mL      ┆ INY       ┆ 2         ┆ 0.0      │\n",
              "│           ┆           ┆ 5F90AB9AD ┆           ┆   ┆           ┆           ┆           ┆          │\n",
              "│           ┆           ┆ ADD63D319 ┆           ┆   ┆           ┆           ┆           ┆          │\n",
              "│           ┆           ┆ C47…      ┆           ┆   ┆           ┆           ┆           ┆          │\n",
              "│ 20240614  ┆ 202309    ┆ 10991DD55 ┆ 19781024  ┆ … ┆ null      ┆ TAB_LM    ┆ 15        ┆ 0.945    │\n",
              "│           ┆           ┆ 39E8E7DA5 ┆           ┆   ┆           ┆           ┆           ┆          │\n",
              "│           ┆           ┆ F1543EE71 ┆           ┆   ┆           ┆           ┆           ┆          │\n",
              "│           ┆           ┆ B1D…      ┆           ┆   ┆           ┆           ┆           ┆          │\n",
              "│ 20240614  ┆ 202309    ┆ 9ED115C3E ┆ 19550720  ┆ … ┆ null      ┆ TAB       ┆ 8         ┆ 0.0      │\n",
              "│           ┆           ┆ 24F0B26F8 ┆           ┆   ┆           ┆           ┆           ┆          │\n",
              "│           ┆           ┆ B2BAD3849 ┆           ┆   ┆           ┆           ┆           ┆          │\n",
              "│           ┆           ┆ F2D…      ┆           ┆   ┆           ┆           ┆           ┆          │\n",
              "│ 20240614  ┆ 202309    ┆ 8F5CDAF37 ┆ 19540906  ┆ … ┆ null      ┆ TAB       ┆ 10        ┆ 0.0      │\n",
              "│           ┆           ┆ 1AFCFB9B9 ┆           ┆   ┆           ┆           ┆           ┆          │\n",
              "│           ┆           ┆ 3BD52BFE5 ┆           ┆   ┆           ┆           ┆           ┆          │\n",
              "│           ┆           ┆ 682…      ┆           ┆   ┆           ┆           ┆           ┆          │\n",
              "│ 20240614  ┆ 202309    ┆ F0362A16D ┆ 19790224  ┆ … ┆ null      ┆ TAB       ┆ 102       ┆ 0.0      │\n",
              "│           ┆           ┆ 552BA88EC ┆           ┆   ┆           ┆           ┆           ┆          │\n",
              "│           ┆           ┆ 574825F40 ┆           ┆   ┆           ┆           ┆           ┆          │\n",
              "│           ┆           ┆ 185…      ┆           ┆   ┆           ┆           ┆           ┆          │\n",
              "│ 20240614  ┆ 202309    ┆ 36CAB77EA ┆ 19970421  ┆ … ┆ 2 mL      ┆ INY       ┆ 1         ┆ 0.0      │\n",
              "│           ┆           ┆ DAE0D4F1E ┆           ┆   ┆           ┆           ┆           ┆          │\n",
              "│           ┆           ┆ CFD393D02 ┆           ┆   ┆           ┆           ┆           ┆          │\n",
              "│           ┆           ┆ D52…      ┆           ┆   ┆           ┆           ┆           ┆          │\n",
              "│ 20240614  ┆ 202309    ┆ 0FD16D23F ┆ 19481202  ┆ … ┆ null      ┆ TAB       ┆ 60        ┆ 5.4      │\n",
              "│           ┆           ┆ 6116218EB ┆           ┆   ┆           ┆           ┆           ┆          │\n",
              "│           ┆           ┆ CF94476C2 ┆           ┆   ┆           ┆           ┆           ┆          │\n",
              "│           ┆           ┆ E96…      ┆           ┆   ┆           ┆           ┆           ┆          │\n",
              "│ 20240614  ┆ 202309    ┆ 03CD16E01 ┆ 19600229  ┆ … ┆ null      ┆ TAB       ┆ 30        ┆ 0.0      │\n",
              "│           ┆           ┆ 392B5CFCB ┆           ┆   ┆           ┆           ┆           ┆          │\n",
              "│           ┆           ┆ 717BCDC42 ┆           ┆   ┆           ┆           ┆           ┆          │\n",
              "│           ┆           ┆ 8C8…      ┆           ┆   ┆           ┆           ┆           ┆          │\n",
              "│ 20240614  ┆ 202309    ┆ B71C16E2C ┆ 19460908  ┆ … ┆ null      ┆ TAB       ┆ 30        ┆ 1.11     │\n",
              "│           ┆           ┆ B2A8B0EDD ┆           ┆   ┆           ┆           ┆           ┆          │\n",
              "│           ┆           ┆ 06EA00075 ┆           ┆   ┆           ┆           ┆           ┆          │\n",
              "│           ┆           ┆ 79E…      ┆           ┆   ┆           ┆           ┆           ┆          │\n",
              "└───────────┴───────────┴───────────┴───────────┴───┴───────────┴───────────┴───────────┴──────────┘"
            ]
          },
          "execution_count": 1,
          "metadata": {},
          "output_type": "execute_result"
        }
      ],
      "source": [
        "import polars as pl\n",
        "\n",
        "# Read the Parquet file from relative path\n",
        "df = pl.read_parquet(\"../data/interim/Prestaciones_de_salud_asociadas_a_los_asegurados_con_Diabetes_Mellitus.parquet\")\n",
        "\n",
        "# Show the first 10 rows\n",
        "df.head(10)\n"
      ]
    },
    {
      "cell_type": "code",
      "execution_count": 6,
      "metadata": {},
      "outputs": [
        {
          "name": "stdout",
          "output_type": "stream",
          "text": [
            "<class 'polars.dataframe.frame.DataFrame'>\n",
            "shape: (45_666_822, 30)\n",
            "┌───────────┬───────────┬───────────┬───────────┬───┬───────────┬───────────┬───────────┬──────────┐\n",
            "│ FECHA_COR ┆ ULTIMO_ME ┆ CODIGO_AN ┆ FECHA_NAC ┆ … ┆ PRESENTAC ┆ FORMA_FAR ┆ CANTIDAD_ ┆ VALOR_NE │\n",
            "│ TE        ┆ S_CONSUMO ┆ ONIMIZADO ┆ IMIENTO   ┆   ┆ ION_MEDIC ┆ MACEUTICA ┆ ENTREGADA ┆ TO       │\n",
            "│ ---       ┆ S         ┆ ---       ┆ ---       ┆   ┆ AMENTO    ┆ ---       ┆ ---       ┆ ---      │\n",
            "│ i64       ┆ ---       ┆ str       ┆ i64       ┆   ┆ ---       ┆ str       ┆ i64       ┆ f64      │\n",
            "│           ┆ i64       ┆           ┆           ┆   ┆ str       ┆           ┆           ┆          │\n",
            "╞═══════════╪═══════════╪═══════════╪═══════════╪═══╪═══════════╪═══════════╪═══════════╪══════════╡\n",
            "│ 20240614  ┆ 202309    ┆ 18C9F497A ┆ 19830209  ┆ … ┆ null      ┆ TAB       ┆ 60        ┆ 0.0      │\n",
            "│           ┆           ┆ 5208F212E ┆           ┆   ┆           ┆           ┆           ┆          │\n",
            "│           ┆           ┆ 68D50C112 ┆           ┆   ┆           ┆           ┆           ┆          │\n",
            "│           ┆           ┆ AFD…      ┆           ┆   ┆           ┆           ┆           ┆          │\n",
            "│ 20240614  ┆ 202309    ┆ 8337E3C9F ┆ 19760507  ┆ … ┆ 1 mL      ┆ INY       ┆ 2         ┆ 0.0      │\n",
            "│           ┆           ┆ 5F90AB9AD ┆           ┆   ┆           ┆           ┆           ┆          │\n",
            "│           ┆           ┆ ADD63D319 ┆           ┆   ┆           ┆           ┆           ┆          │\n",
            "│           ┆           ┆ C47…      ┆           ┆   ┆           ┆           ┆           ┆          │\n",
            "│ 20240614  ┆ 202309    ┆ 10991DD55 ┆ 19781024  ┆ … ┆ null      ┆ TAB_LM    ┆ 15        ┆ 0.945    │\n",
            "│           ┆           ┆ 39E8E7DA5 ┆           ┆   ┆           ┆           ┆           ┆          │\n",
            "│           ┆           ┆ F1543EE71 ┆           ┆   ┆           ┆           ┆           ┆          │\n",
            "│           ┆           ┆ B1D…      ┆           ┆   ┆           ┆           ┆           ┆          │\n",
            "│ 20240614  ┆ 202309    ┆ 9ED115C3E ┆ 19550720  ┆ … ┆ null      ┆ TAB       ┆ 8         ┆ 0.0      │\n",
            "│           ┆           ┆ 24F0B26F8 ┆           ┆   ┆           ┆           ┆           ┆          │\n",
            "│           ┆           ┆ B2BAD3849 ┆           ┆   ┆           ┆           ┆           ┆          │\n",
            "│           ┆           ┆ F2D…      ┆           ┆   ┆           ┆           ┆           ┆          │\n",
            "│ 20240614  ┆ 202309    ┆ 8F5CDAF37 ┆ 19540906  ┆ … ┆ null      ┆ TAB       ┆ 10        ┆ 0.0      │\n",
            "│           ┆           ┆ 1AFCFB9B9 ┆           ┆   ┆           ┆           ┆           ┆          │\n",
            "│           ┆           ┆ 3BD52BFE5 ┆           ┆   ┆           ┆           ┆           ┆          │\n",
            "│           ┆           ┆ 682…      ┆           ┆   ┆           ┆           ┆           ┆          │\n",
            "│ …         ┆ …         ┆ …         ┆ …         ┆ … ┆ …         ┆ …         ┆ …         ┆ …        │\n",
            "│ 20240614  ┆ 202309    ┆ E58452425 ┆ 19500620  ┆ … ┆ null      ┆ null      ┆ 18        ┆ 301.5    │\n",
            "│           ┆           ┆ 165ADF9D7 ┆           ┆   ┆           ┆           ┆           ┆          │\n",
            "│           ┆           ┆ A8FCF7A95 ┆           ┆   ┆           ┆           ┆           ┆          │\n",
            "│           ┆           ┆ 03A…      ┆           ┆   ┆           ┆           ┆           ┆          │\n",
            "│ 20240614  ┆ 202309    ┆ 75DB0D81C ┆ 19740526  ┆ … ┆ null      ┆ null      ┆ null      ┆ null     │\n",
            "│           ┆           ┆ 80B321B69 ┆           ┆   ┆           ┆           ┆           ┆          │\n",
            "│           ┆           ┆ C64D158FA ┆           ┆   ┆           ┆           ┆           ┆          │\n",
            "│           ┆           ┆ 76F…      ┆           ┆   ┆           ┆           ┆           ┆          │\n",
            "│ 20240614  ┆ 202309    ┆ 7C7AA4184 ┆ 19650930  ┆ … ┆ 20 mL     ┆ INY       ┆ 1         ┆ 0.0      │\n",
            "│           ┆           ┆ D27355843 ┆           ┆   ┆           ┆           ┆           ┆          │\n",
            "│           ┆           ┆ 80044E773 ┆           ┆   ┆           ┆           ┆           ┆          │\n",
            "│           ┆           ┆ 820…      ┆           ┆   ┆           ┆           ┆           ┆          │\n",
            "│ 20240614  ┆ 202309    ┆ 99D26B897 ┆ 19770923  ┆ … ┆ null      ┆ null      ┆ 1         ┆ 0.0      │\n",
            "│           ┆           ┆ 33BC33925 ┆           ┆   ┆           ┆           ┆           ┆          │\n",
            "│           ┆           ┆ E5BF49EA5 ┆           ┆   ┆           ┆           ┆           ┆          │\n",
            "│           ┆           ┆ 99A…      ┆           ┆   ┆           ┆           ┆           ┆          │\n",
            "│ 20240614  ┆ 202309    ┆ DCDE866B1 ┆ 19570927  ┆ … ┆ null      ┆ null      ┆ null      ┆ null     │\n",
            "│           ┆           ┆ 2F157C78D ┆           ┆   ┆           ┆           ┆           ┆          │\n",
            "│           ┆           ┆ D2B3B62FB ┆           ┆   ┆           ┆           ┆           ┆          │\n",
            "│           ┆           ┆ 496…      ┆           ┆   ┆           ┆           ┆           ┆          │\n",
            "└───────────┴───────────┴───────────┴───────────┴───┴───────────┴───────────┴───────────┴──────────┘\n"
          ]
        }
      ],
      "source": [
        "print(type(df))\n",
        "print(df)\n"
      ]
    },
    {
      "cell_type": "code",
      "execution_count": 10,
      "metadata": {},
      "outputs": [
        {
          "name": "stderr",
          "output_type": "stream",
          "text": [
            "C:\\Users\\quine\\AppData\\Local\\Temp\\ipykernel_3952\\3052466088.py:48: DeprecationWarning: `pl.count()` is deprecated. Please use `pl.len()` instead.\n",
            "(Deprecated in version 0.20.5)\n",
            "  .agg(pl.count().alias('count'))\n"
          ]
        },
        {
          "ename": "",
          "evalue": "",
          "output_type": "error",
          "traceback": [
            "\u001b[1;31mThe Kernel crashed while executing code in the current cell or a previous cell. \n",
            "\u001b[1;31mPlease review the code in the cell(s) to identify a possible cause of the failure. \n",
            "\u001b[1;31mClick <a href='https://aka.ms/vscodeJupyterKernelCrash'>here</a> for more info. \n",
            "\u001b[1;31mView Jupyter <a href='command:jupyter.viewOutput'>log</a> for further details."
          ]
        }
      ],
      "source": [
        "import polars as pl\n",
        "\n",
        "# 1️⃣ Seleccionar columnas y eliminar duplicados\n",
        "df_personas = (\n",
        "    df.select([\n",
        "        'CODIGO_ANONIMIZADO',\n",
        "        'SEXO',\n",
        "        'EDAD',\n",
        "        'FECHA_NACIMIENTO',\n",
        "        'FECHA_FALLECIMIENTO',\n",
        "        'UBIGEO',\n",
        "        'DEPARTAMENTO',\n",
        "        'PROVINCIA',\n",
        "        'DISTRITO',\n",
        "        'TIPO_DIABETES',\n",
        "        'NIVEL_EESS',\n",
        "        'DIAS_HOSP',\n",
        "        'FECHA_ATENCION',\n",
        "        'TIPO_PERSONAL_SALUD',\n",
        "        'CODIGO_CONSUMO',\n",
        "        'NOMBRE_CONSUMO',\n",
        "        'CANTIDAD_ENTREGADA',\n",
        "        'VALOR_NETO'\n",
        "    ])\n",
        "    .unique()\n",
        ")\n",
        "\n",
        "# 2️⃣ Calcular columnas tipo window\n",
        "df_personas = df_personas.with_columns([\n",
        "    pl.col('EDAD').max().over('CODIGO_ANONIMIZADO').alias('EDAD_MAX'),\n",
        "    pl.col('DIAS_HOSP').sum().over('CODIGO_ANONIMIZADO').alias('TOTAL_DIAS_HOSP'),\n",
        "    pl.col('VALOR_NETO').sum().over('CODIGO_ANONIMIZADO').alias('TOTAL_VALOR_NETO'),\n",
        "    pl.col('FECHA_ATENCION').count().over('CODIGO_ANONIMIZADO').alias('COUNT_ATENCIONES'),\n",
        "    pl.col('FECHA_ATENCION').max().over('CODIGO_ANONIMIZADO').alias('LAST_FECHA_ATENCION'),\n",
        "])\n",
        "\n",
        "# 3️⃣ Flags binarios\n",
        "df_personas = df_personas.with_columns([\n",
        "    (pl.col('FECHA_FALLECIMIENTO').is_not_null()).cast(pl.Int8).alias('FALLECIDO'),\n",
        "    (pl.col('TIPO_DIABETES').is_not_null()).cast(pl.Int8).alias('TIENE_DIABETES'),\n",
        "    (pl.col('DIAS_HOSP') > 0).cast(pl.Int8).alias('TIENE_HOSPITALIZACION'),\n",
        "])\n",
        "\n",
        "# 4️⃣ Diabetes principal\n",
        "df_diabetes_type = (\n",
        "    df.filter(pl.col('TIPO_DIABETES').is_not_null())\n",
        "    .group_by(['CODIGO_ANONIMIZADO', 'TIPO_DIABETES'])  # Changed groupby to group_by\n",
        "    .agg(pl.count().alias('count'))\n",
        "    .sort(['CODIGO_ANONIMIZADO', 'count'], descending=[False, True])\n",
        "    .unique(subset=['CODIGO_ANONIMIZADO'])\n",
        "    .select([\n",
        "        'CODIGO_ANONIMIZADO',\n",
        "        pl.col('TIPO_DIABETES').alias('TIPO_DIABETES_PRINCIPAL')\n",
        "    ])\n",
        ")\n",
        "\n",
        "# 5️⃣ Medicamento principal\n",
        "df_top_med = (\n",
        "    df.filter(pl.col('CODIGO_CONSUMO').is_not_null())\n",
        "    .group_by(['CODIGO_ANONIMIZADO', 'CODIGO_CONSUMO', 'NOMBRE_CONSUMO'])  # Changed groupby to group_by\n",
        "    .agg(pl.col('CANTIDAD_ENTREGADA').sum().alias('TOTAL_CANTIDAD'))\n",
        "    .sort(['CODIGO_ANONIMIZADO', 'TOTAL_CANTIDAD'], descending=[False, True])\n",
        "    .unique(subset=['CODIGO_ANONIMIZADO'])\n",
        "    .select([\n",
        "        'CODIGO_ANONIMIZADO',\n",
        "        pl.col('CODIGO_CONSUMO').alias('PRINCIPAL_CODIGO_CONSUMO'),\n",
        "        pl.col('NOMBRE_CONSUMO').alias('PRINCIPAL_NOMBRE_CONSUMO')\n",
        "    ])\n",
        ")\n",
        "\n",
        "# 6️⃣ Consolidado\n",
        "df_consolidado = (\n",
        "    df_personas.group_by('CODIGO_ANONIMIZADO').agg([  # Changed groupby to group_by\n",
        "        pl.col('SEXO').first(),\n",
        "        pl.col('EDAD_MAX').max().alias('EDAD'),\n",
        "        pl.col('FECHA_NACIMIENTO').first(),\n",
        "        pl.col('FALLECIDO').max(),\n",
        "        pl.col('FECHA_FALLECIMIENTO').first(),\n",
        "        pl.col('UBIGEO').first(),\n",
        "        pl.col('DEPARTAMENTO').first(),\n",
        "        pl.col('PROVINCIA').first(),\n",
        "        pl.col('DISTRITO').first(),\n",
        "        pl.col('TIENE_DIABETES').max(),\n",
        "        pl.col('TOTAL_DIAS_HOSP').sum().alias('TOTAL_DIAS_HOSPITALIZACION'),\n",
        "        pl.col('TOTAL_VALOR_NETO').max().alias('TOTAL_GASTO_MEDICAMENTOS'),\n",
        "        pl.col('COUNT_ATENCIONES').max().alias('TOTAL_ATENCIONES'),\n",
        "        pl.col('LAST_FECHA_ATENCION').max().alias('ULTIMA_ATENCION'),\n",
        "        pl.col('NIVEL_EESS').first().alias('NIVEL_ESTABLECIMIENTO_PRINCIPAL'),\n",
        "        pl.col('TIENE_HOSPITALIZACION').max().alias('HOSPITALIZADO_ALGUNA_VEZ')\n",
        "    ])\n",
        ")\n",
        "\n",
        "# 7️⃣ Unir\n",
        "df_consolidado = (\n",
        "    df_consolidado\n",
        "    .join(df_diabetes_type, on='CODIGO_ANONIMIZADO', how='left')\n",
        "    .join(df_top_med, on='CODIGO_ANONIMIZADO', how='left')\n",
        "    .sort('CODIGO_ANONIMIZADO')\n",
        ")\n",
        "\n",
        "# ✅ Mostrar\n",
        "print(df_consolidado.schema)\n",
        "print(df_consolidado.head(10))"
      ]
    },
    {
      "cell_type": "code",
      "execution_count": 1,
      "metadata": {},
      "outputs": [
        {
          "ename": "NameError",
          "evalue": "name 'df_consolidado' is not defined",
          "output_type": "error",
          "traceback": [
            "\u001b[31m---------------------------------------------------------------------------\u001b[39m",
            "\u001b[31mNameError\u001b[39m                                 Traceback (most recent call last)",
            "\u001b[36mCell\u001b[39m\u001b[36m \u001b[39m\u001b[32mIn[1]\u001b[39m\u001b[32m, line 1\u001b[39m\n\u001b[32m----> \u001b[39m\u001b[32m1\u001b[39m \u001b[43mdf_consolidado\u001b[49m.head()\n",
            "\u001b[31mNameError\u001b[39m: name 'df_consolidado' is not defined"
          ]
        }
      ],
      "source": [
        "df_consolidado.head()"
      ]
    },
    {
      "cell_type": "code",
      "execution_count": 21,
      "metadata": {},
      "outputs": [
        {
          "data": {
            "text/plain": [
              "(45666822, 29)"
            ]
          },
          "execution_count": 21,
          "metadata": {},
          "output_type": "execute_result"
        }
      ],
      "source": [
        "df.shape"
      ]
    },
    {
      "cell_type": "code",
      "execution_count": 5,
      "metadata": {},
      "outputs": [],
      "source": [
        "df = df.drop(\"FECHA_CORTE\")\n"
      ]
    },
    {
      "cell_type": "code",
      "execution_count": 6,
      "metadata": {},
      "outputs": [],
      "source": [
        "df = df.filter(\n",
        "    pl.col(\"FECHA_ATENCION\").cast(pl.Utf8).str.starts_with(\"2019\") |\n",
        "    pl.col(\"FECHA_ATENCION\").cast(pl.Utf8).str.starts_with(\"2020\") |\n",
        "    pl.col(\"FECHA_ATENCION\").cast(pl.Utf8).str.starts_with(\"2021\") |\n",
        "    pl.col(\"FECHA_ATENCION\").cast(pl.Utf8).str.starts_with(\"2022\") |\n",
        "    pl.col(\"FECHA_ATENCION\").cast(pl.Utf8).str.starts_with(\"2023\") |\n",
        "    pl.col(\"FECHA_ATENCION\").cast(pl.Utf8).str.starts_with(\"2024\") |\n",
        "    pl.col(\"FECHA_ATENCION\").cast(pl.Utf8).str.starts_with(\"2025\")\n",
        ")\n"
      ]
    },
    {
      "cell_type": "code",
      "execution_count": null,
      "metadata": {},
      "outputs": [
        {
          "name": "stdout",
          "output_type": "stream",
          "text": [
            "¿Hay fechas que empiezan con 2020? True\n"
          ]
        }
      ],
      "source": [
        "tiene_2020 = df.filter(\n",
        "    pl.col(\"FECHA_ATENCION\").cast(pl.Utf8).str.starts_with(\"2022\")\n",
        ").height > 0\n",
        "\n",
        "print(\"¿Hay fechas que empiezan con 2020?\", tiene_2022)\n"
      ]
    },
    {
      "cell_type": "code",
      "execution_count": 8,
      "metadata": {},
      "outputs": [
        {
          "name": "stderr",
          "output_type": "stream",
          "text": [
            "C:\\Users\\quine\\AppData\\Local\\Temp\\ipykernel_12532\\2042947322.py:16: DeprecationWarning: `GroupBy.count` was renamed; use `GroupBy.len` instead\n",
            "  .count()                  # devuelve columnas: anio | count\n"
          ]
        },
        {
          "name": "stdout",
          "output_type": "stream",
          "text": [
            "shape: (2, 2)\n",
            "┌──────┬──────────┐\n",
            "│ anio ┆ count    │\n",
            "│ ---  ┆ ---      │\n",
            "│ str  ┆ u32      │\n",
            "╞══════╪══════════╡\n",
            "│ 2022 ┆ 24017621 │\n",
            "│ 2023 ┆ 21649201 │\n",
            "└──────┴──────────┘\n",
            "¿Hay fechas que empiezan con 2020? False\n"
          ]
        }
      ],
      "source": [
        "import polars as pl\n",
        "\n",
        "# 1) Añade una columna con el año (primeros 4 caracteres).\n",
        "df_anios = df.with_columns(\n",
        "    pl.col(\"FECHA_ATENCION\")\n",
        "      .cast(pl.Utf8)          # asegúrate de que sea texto\n",
        "      .str.slice(0, 4)        # extrae los 4 primeros caracteres\n",
        "      .alias(\"anio\")\n",
        ")\n",
        "\n",
        "# 2) Cuenta cuántos registros hay para 2022‑2025\n",
        "cuentas_22_25 = (\n",
        "    df_anios\n",
        "    .filter(pl.col(\"anio\").is_in([\"2022\", \"2023\", \"2024\", \"2025\"]))\n",
        "    .group_by(\"anio\")\n",
        "    .count()                  # devuelve columnas: anio | count\n",
        "    .sort(\"anio\")             # orden ascendente\n",
        ")\n",
        "\n",
        "print(cuentas_22_25)\n",
        "\n",
        "# 3) ¿Quedan fechas que empiecen con 2020?\n",
        "hay_2020 = (\n",
        "    df_anios\n",
        "    .filter(pl.col(\"anio\") == \"2020\")\n",
        "    .height > 0\n",
        ")\n",
        "\n",
        "print(\"¿Hay fechas que empiezan con 2020?\", hay_2020)\n"
      ]
    },
    {
      "cell_type": "code",
      "execution_count": 9,
      "metadata": {},
      "outputs": [
        {
          "name": "stdout",
          "output_type": "stream",
          "text": [
            "Tamaño aproximado del DataFrame:\n",
            "- 17290.49 MB\n",
            "- 16.8852 GB\n"
          ]
        }
      ],
      "source": [
        "# Tamaño en bytes\n",
        "size_bytes = df.estimated_size()\n",
        "\n",
        "# Convertir a megabytes (MB) y gigabytes (GB)\n",
        "size_mb = size_bytes / (1024 ** 2)\n",
        "size_gb = size_bytes / (1024 ** 3)\n",
        "\n",
        "print(f\"Tamaño aproximado del DataFrame:\")\n",
        "print(f\"- {size_mb:.2f} MB\")\n",
        "print(f\"- {size_gb:.4f} GB\")\n"
      ]
    },
    {
      "cell_type": "code",
      "execution_count": 10,
      "metadata": {},
      "outputs": [],
      "source": [
        "df = df.with_columns(\n",
        "    pl.col(\"SEXO\")\n",
        "    .replace({\"FEMENINO\": 0, \"MASCULINO\": 1})\n",
        "    .cast(pl.Int8)\n",
        "    .alias(\"SEXO\")\n",
        ")\n"
      ]
    },
    {
      "cell_type": "markdown",
      "metadata": {},
      "source": [
        "FEMENINO 0\n",
        "MASCULINO 1"
      ]
    },
    {
      "cell_type": "code",
      "execution_count": 11,
      "metadata": {},
      "outputs": [
        {
          "name": "stdout",
          "output_type": "stream",
          "text": [
            "Tamaño aproximado del DataFrame:\n",
            "- 16972.13 MB\n",
            "- 16.5743 GB\n"
          ]
        }
      ],
      "source": [
        "# Tamaño en bytes\n",
        "size_bytes = df.estimated_size()\n",
        "\n",
        "# Convertir a megabytes (MB) y gigabytes (GB)\n",
        "size_mb = size_bytes / (1024 ** 2)\n",
        "size_gb = size_bytes / (1024 ** 3)\n",
        "\n",
        "print(f\"Tamaño aproximado del DataFrame:\")\n",
        "print(f\"- {size_mb:.2f} MB\")\n",
        "print(f\"- {size_gb:.4f} GB\")\n"
      ]
    },
    {
      "cell_type": "code",
      "execution_count": 12,
      "metadata": {},
      "outputs": [
        {
          "data": {
            "text/html": [
              "<div><style>\n",
              ".dataframe > thead > tr,\n",
              ".dataframe > tbody > tr {\n",
              "  text-align: right;\n",
              "  white-space: pre-wrap;\n",
              "}\n",
              "</style>\n",
              "<small>shape: (2, 2)</small><table border=\"1\" class=\"dataframe\"><thead><tr><th>FECATE_POST_FECFED</th><th>count</th></tr><tr><td>str</td><td>u32</td></tr></thead><tbody><tr><td>&quot;SI&quot;</td><td>39020624</td></tr><tr><td>&quot;NO&quot;</td><td>6646198</td></tr></tbody></table></div>"
            ],
            "text/plain": [
              "shape: (2, 2)\n",
              "┌────────────────────┬──────────┐\n",
              "│ FECATE_POST_FECFED ┆ count    │\n",
              "│ ---                ┆ ---      │\n",
              "│ str                ┆ u32      │\n",
              "╞════════════════════╪══════════╡\n",
              "│ SI                 ┆ 39020624 │\n",
              "│ NO                 ┆ 6646198  │\n",
              "└────────────────────┴──────────┘"
            ]
          },
          "execution_count": 12,
          "metadata": {},
          "output_type": "execute_result"
        }
      ],
      "source": [
        "df['FECATE_POST_FECFED'].value_counts()"
      ]
    },
    {
      "cell_type": "code",
      "execution_count": 13,
      "metadata": {},
      "outputs": [],
      "source": [
        "import polars as pl\n",
        "\n",
        "df = df.with_columns(\n",
        "    pl.col(\"FECATE_POST_FECFED\")\n",
        "      .str.to_uppercase()            # normaliza mayúsculas/minúsculas\n",
        "      .replace({\"NO\": 0, \"SI\": 1})   # ahora sí coinciden todas\n",
        "      .cast(pl.Int8)                 # ya solo hay enteros y nulos\n",
        "      .alias(\"FECATE_POST_FECFED\")\n",
        ")\n"
      ]
    },
    {
      "cell_type": "code",
      "execution_count": 14,
      "metadata": {},
      "outputs": [
        {
          "name": "stdout",
          "output_type": "stream",
          "text": [
            "Tamaño aproximado del DataFrame:\n",
            "- 16928.58 MB\n",
            "- 16.5318 GB\n"
          ]
        }
      ],
      "source": [
        "# Tamaño en bytes\n",
        "size_bytes = df.estimated_size()\n",
        "\n",
        "# Convertir a megabytes (MB) y gigabytes (GB)\n",
        "size_mb = size_bytes / (1024 ** 2)\n",
        "size_gb = size_bytes / (1024 ** 3)\n",
        "\n",
        "print(f\"Tamaño aproximado del DataFrame:\")\n",
        "print(f\"- {size_mb:.2f} MB\")\n",
        "print(f\"- {size_gb:.4f} GB\")\n"
      ]
    },
    {
      "cell_type": "code",
      "execution_count": 15,
      "metadata": {},
      "outputs": [
        {
          "data": {
            "text/html": [
              "<div><style>\n",
              ".dataframe > thead > tr,\n",
              ".dataframe > tbody > tr {\n",
              "  text-align: right;\n",
              "  white-space: pre-wrap;\n",
              "}\n",
              "</style>\n",
              "<small>shape: (4, 2)</small><table border=\"1\" class=\"dataframe\"><thead><tr><th>TIPO_CONSUMO</th><th>count</th></tr><tr><td>str</td><td>u32</td></tr></thead><tbody><tr><td>&quot;MEDICAMENTO&quot;</td><td>14456467</td></tr><tr><td>&quot;REGISTRO SIN CONSUMO&quot;</td><td>2923211</td></tr><tr><td>&quot;PROCEDIMIENTO&quot;</td><td>21844927</td></tr><tr><td>&quot;INSUMO&quot;</td><td>6442217</td></tr></tbody></table></div>"
            ],
            "text/plain": [
              "shape: (4, 2)\n",
              "┌──────────────────────┬──────────┐\n",
              "│ TIPO_CONSUMO         ┆ count    │\n",
              "│ ---                  ┆ ---      │\n",
              "│ str                  ┆ u32      │\n",
              "╞══════════════════════╪══════════╡\n",
              "│ MEDICAMENTO          ┆ 14456467 │\n",
              "│ REGISTRO SIN CONSUMO ┆ 2923211  │\n",
              "│ PROCEDIMIENTO        ┆ 21844927 │\n",
              "│ INSUMO               ┆ 6442217  │\n",
              "└──────────────────────┴──────────┘"
            ]
          },
          "execution_count": 15,
          "metadata": {},
          "output_type": "execute_result"
        }
      ],
      "source": [
        "df['TIPO_CONSUMO'].value_counts()"
      ]
    },
    {
      "cell_type": "code",
      "execution_count": 16,
      "metadata": {},
      "outputs": [],
      "source": [
        "df = df.with_columns(\n",
        "    pl.col(\"TIPO_CONSUMO\")\n",
        "      .replace({\n",
        "          \"INSUMO\": 0,\n",
        "          \"MEDICAMENTO\": 1,\n",
        "          \"PROCEDIMIENTO\": 2,\n",
        "          \"REGISTRO SIN CONSUMO\": 3\n",
        "      })\n",
        "      .cast(pl.Int8)\n",
        "      .alias(\"TIPO_CONSUMO\")\n",
        ")\n"
      ]
    },
    {
      "cell_type": "code",
      "execution_count": 43,
      "metadata": {},
      "outputs": [
        {
          "name": "stdout",
          "output_type": "stream",
          "text": [
            "Tamaño aproximado del DataFrame:\n",
            "- 16433.11 MB\n",
            "- 16.0480 GB\n"
          ]
        }
      ],
      "source": [
        "# Tamaño en bytes\n",
        "size_bytes = df.estimated_size()\n",
        "\n",
        "# Convertir a megabytes (MB) y gigabytes (GB)\n",
        "size_mb = size_bytes / (1024 ** 2)\n",
        "size_gb = size_bytes / (1024 ** 3)\n",
        "\n",
        "print(f\"Tamaño aproximado del DataFrame:\")\n",
        "print(f\"- {size_mb:.2f} MB\")\n",
        "print(f\"- {size_gb:.4f} GB\")\n"
      ]
    },
    {
      "cell_type": "code",
      "execution_count": 18,
      "metadata": {},
      "outputs": [
        {
          "data": {
            "text/html": [
              "<div><style>\n",
              ".dataframe > thead > tr,\n",
              ".dataframe > tbody > tr {\n",
              "  text-align: right;\n",
              "  white-space: pre-wrap;\n",
              "}\n",
              "</style>\n",
              "<small>shape: (3, 2)</small><table border=\"1\" class=\"dataframe\"><thead><tr><th>TIPO_DIAGNOSTICO</th><th>count</th></tr><tr><td>str</td><td>u32</td></tr></thead><tbody><tr><td>&quot;DEFINITIVO&nbsp;&nbsp;&nbsp;&nbsp;&nbsp;&quot;</td><td>36005251</td></tr><tr><td>&quot;PRESUNTIVO&nbsp;&nbsp;&nbsp;&nbsp;&nbsp;&quot;</td><td>3249876</td></tr><tr><td>&quot;REPETIDO&nbsp;&nbsp;&nbsp;&nbsp;&nbsp;&nbsp;&nbsp;&quot;</td><td>6411695</td></tr></tbody></table></div>"
            ],
            "text/plain": [
              "shape: (3, 2)\n",
              "┌──────────────────┬──────────┐\n",
              "│ TIPO_DIAGNOSTICO ┆ count    │\n",
              "│ ---              ┆ ---      │\n",
              "│ str              ┆ u32      │\n",
              "╞══════════════════╪══════════╡\n",
              "│ DEFINITIVO       ┆ 36005251 │\n",
              "│ PRESUNTIVO       ┆ 3249876  │\n",
              "│ REPETIDO         ┆ 6411695  │\n",
              "└──────────────────┴──────────┘"
            ]
          },
          "execution_count": 18,
          "metadata": {},
          "output_type": "execute_result"
        }
      ],
      "source": [
        "\n",
        "df['TIPO_DIAGNOSTICO'].value_counts()"
      ]
    },
    {
      "cell_type": "markdown",
      "metadata": {},
      "source": [
        "## Data Quality and cleaning\n"
      ]
    },
    {
      "cell_type": "code",
      "execution_count": 22,
      "metadata": {},
      "outputs": [
        {
          "data": {
            "text/html": [
              "<div><style>\n",
              ".dataframe > thead > tr,\n",
              ".dataframe > tbody > tr {\n",
              "  text-align: right;\n",
              "  white-space: pre-wrap;\n",
              "}\n",
              "</style>\n",
              "<small>shape: (5, 29)</small><table border=\"1\" class=\"dataframe\"><thead><tr><th>ULTIMO_MES_CONSUMOS</th><th>CODIGO_ANONIMIZADO</th><th>FECHA_NACIMIENTO</th><th>EDAD</th><th>SEXO</th><th>TIPO_DIABETES</th><th>FECHA_FALLECIMIENTO</th><th>UBIGEO</th><th>DEPARTAMENTO</th><th>PROVINCIA</th><th>DISTRITO</th><th>NIVEL_EESS</th><th>CODIGO_SERV_PRESTACIONAL</th><th>SERVICIO_PRESTACIONAL</th><th>DIAS_HOSP</th><th>ID_REGISTRO_REL</th><th>FECHA_ATENCION</th><th>TIPO_PERSONAL_SALUD</th><th>FECATE_POST_FECFED</th><th>CODDIA</th><th>C10_NOMBRE</th><th>TIPO_DIAGNOSTICO</th><th>TIPO_CONSUMO</th><th>CODIGO_CONSUMO</th><th>NOMBRE_CONSUMO</th><th>PRESENTACION_MEDICAMENTO</th><th>FORMA_FARMACEUTICA</th><th>CANTIDAD_ENTREGADA</th><th>VALOR_NETO</th></tr><tr><td>i64</td><td>str</td><td>i64</td><td>i64</td><td>i8</td><td>str</td><td>i64</td><td>i64</td><td>str</td><td>str</td><td>str</td><td>i64</td><td>i64</td><td>str</td><td>i64</td><td>str</td><td>i64</td><td>str</td><td>i8</td><td>str</td><td>str</td><td>str</td><td>i8</td><td>i64</td><td>str</td><td>str</td><td>str</td><td>i64</td><td>f64</td></tr></thead><tbody><tr><td>202309</td><td>&quot;18C9F497A5208F212E68D50C112AFD…</td><td>19830209</td><td>38</td><td>0</td><td>&quot;DIABETES MELLITUS TIPO 2&quot;</td><td>null</td><td>150108</td><td>&quot;LIMA&quot;</td><td>&quot;LIMA&quot;</td><td>&quot;CHORRILLOS&quot;</td><td>1</td><td>9</td><td>&quot;ATENCIÃN PRENATAL&quot;</td><td>0</td><td>&quot;DM0042047563&quot;</td><td>20220106</td><td>&quot;ENFERMERO(A)&quot;</td><td>0</td><td>&quot;Z348&quot;</td><td>&quot;SUPERVISION DE OTROS EMBARAZOS…</td><td>&quot;DEFINITIVO&nbsp;&nbsp;&nbsp;&nbsp;&nbsp;&quot;</td><td>1</td><td>20635</td><td>&quot;CALCIO CARBONATO&quot;</td><td>null</td><td>&quot;TAB&quot;</td><td>60</td><td>0.0</td></tr><tr><td>202309</td><td>&quot;8337E3C9F5F90AB9ADADD63D319C47…</td><td>19760507</td><td>47</td><td>0</td><td>&quot;DIABETES MELLITUS TIPO 2&quot;</td><td>null</td><td>150106</td><td>&quot;LIMA&quot;</td><td>&quot;LIMA&quot;</td><td>&quot;CARABAYLLO&quot;</td><td>1</td><td>56</td><td>&quot;CONSULTA EXTERNA&quot;</td><td>null</td><td>&quot;DM0043980595&quot;</td><td>20230620</td><td>&quot;MEDICO&quot;</td><td>1</td><td>&quot;F200&quot;</td><td>&quot;ESQUIZOFRENIA PARANOIDE&quot;</td><td>&quot;REPETIDO&nbsp;&nbsp;&nbsp;&nbsp;&nbsp;&nbsp;&nbsp;&quot;</td><td>1</td><td>3874</td><td>&quot;HALOPERIDOL (COMO DECANOATO)&quot;</td><td>&quot;1 mL&quot;</td><td>&quot;INY&quot;</td><td>2</td><td>0.0</td></tr><tr><td>202309</td><td>&quot;10991DD5539E8E7DA5F1543EE71B1D…</td><td>19781024</td><td>43</td><td>1</td><td>&quot;DIABETES MELLITUS NO ESPECIFIC…</td><td>20220612</td><td>150135</td><td>&quot;LIMA&quot;</td><td>&quot;LIMA&quot;</td><td>&quot;SAN MARTÃN DE PORRES&quot;</td><td>3</td><td>65</td><td>&quot;INTERNAMIENTO EN EESS SIN INTE…</td><td>7</td><td>&quot;DM0043974259&quot;</td><td>20220606</td><td>&quot;MEDICO&quot;</td><td>1</td><td>&quot;C859&quot;</td><td>&quot;LINFOMA NO HODGKIN&nbsp;&nbsp;NO ESPECIF…</td><td>&quot;REPETIDO&nbsp;&nbsp;&nbsp;&nbsp;&nbsp;&nbsp;&nbsp;&quot;</td><td>1</td><td>35040</td><td>&quot;OMEPRAZOL&quot;</td><td>null</td><td>&quot;TAB_LM&quot;</td><td>15</td><td>0.945</td></tr><tr><td>202309</td><td>&quot;9ED115C3E24F0B26F8B2BAD3849F2D…</td><td>19550720</td><td>67</td><td>0</td><td>&quot;DIABETES MELLITUS TIPO 2&quot;</td><td>null</td><td>150110</td><td>&quot;LIMA&quot;</td><td>&quot;LIMA&quot;</td><td>&quot;COMAS&quot;</td><td>1</td><td>56</td><td>&quot;CONSULTA EXTERNA&quot;</td><td>0</td><td>&quot;DM0044094856&quot;</td><td>20220801</td><td>&quot;MEDICO&quot;</td><td>1</td><td>&quot;J00X&quot;</td><td>&quot;RINOFARINGITIS AGUDA [RESFRIAD…</td><td>&quot;DEFINITIVO&nbsp;&nbsp;&nbsp;&nbsp;&nbsp;&quot;</td><td>1</td><td>4982</td><td>&quot;NAPROXENO&quot;</td><td>null</td><td>&quot;TAB&quot;</td><td>8</td><td>0.0</td></tr><tr><td>202309</td><td>&quot;8F5CDAF371AFCFB9B93BD52BFE5682…</td><td>19540906</td><td>67</td><td>0</td><td>&quot;DIABETES MELLITUS TIPO 2&quot;</td><td>null</td><td>110301</td><td>&quot;ICA&quot;</td><td>&quot;NAZCA&quot;</td><td>&quot;NASCA&quot;</td><td>2</td><td>62</td><td>&quot;ATENCIÃN POR EMERGENCIA&quot;</td><td>null</td><td>&quot;DM0044097912&quot;</td><td>20220825</td><td>&quot;MEDICO&quot;</td><td>1</td><td>&quot;J208&quot;</td><td>&quot;BRONQUITIS AGUDA DEBIDA A OTRO…</td><td>&quot;DEFINITIVO&nbsp;&nbsp;&nbsp;&nbsp;&nbsp;&quot;</td><td>1</td><td>4982</td><td>&quot;NAPROXENO&quot;</td><td>null</td><td>&quot;TAB&quot;</td><td>10</td><td>0.0</td></tr></tbody></table></div>"
            ],
            "text/plain": [
              "shape: (5, 29)\n",
              "┌────────────┬────────────┬────────────┬──────┬───┬────────────┬───────────┬───────────┬───────────┐\n",
              "│ ULTIMO_MES ┆ CODIGO_ANO ┆ FECHA_NACI ┆ EDAD ┆ … ┆ PRESENTACI ┆ FORMA_FAR ┆ CANTIDAD_ ┆ VALOR_NET │\n",
              "│ _CONSUMOS  ┆ NIMIZADO   ┆ MIENTO     ┆ ---  ┆   ┆ ON_MEDICAM ┆ MACEUTICA ┆ ENTREGADA ┆ O         │\n",
              "│ ---        ┆ ---        ┆ ---        ┆ i64  ┆   ┆ ENTO       ┆ ---       ┆ ---       ┆ ---       │\n",
              "│ i64        ┆ str        ┆ i64        ┆      ┆   ┆ ---        ┆ str       ┆ i64       ┆ f64       │\n",
              "│            ┆            ┆            ┆      ┆   ┆ str        ┆           ┆           ┆           │\n",
              "╞════════════╪════════════╪════════════╪══════╪═══╪════════════╪═══════════╪═══════════╪═══════════╡\n",
              "│ 202309     ┆ 18C9F497A5 ┆ 19830209   ┆ 38   ┆ … ┆ null       ┆ TAB       ┆ 60        ┆ 0.0       │\n",
              "│            ┆ 208F212E68 ┆            ┆      ┆   ┆            ┆           ┆           ┆           │\n",
              "│            ┆ D50C112AFD ┆            ┆      ┆   ┆            ┆           ┆           ┆           │\n",
              "│            ┆ …          ┆            ┆      ┆   ┆            ┆           ┆           ┆           │\n",
              "│ 202309     ┆ 8337E3C9F5 ┆ 19760507   ┆ 47   ┆ … ┆ 1 mL       ┆ INY       ┆ 2         ┆ 0.0       │\n",
              "│            ┆ F90AB9ADAD ┆            ┆      ┆   ┆            ┆           ┆           ┆           │\n",
              "│            ┆ D63D319C47 ┆            ┆      ┆   ┆            ┆           ┆           ┆           │\n",
              "│            ┆ …          ┆            ┆      ┆   ┆            ┆           ┆           ┆           │\n",
              "│ 202309     ┆ 10991DD553 ┆ 19781024   ┆ 43   ┆ … ┆ null       ┆ TAB_LM    ┆ 15        ┆ 0.945     │\n",
              "│            ┆ 9E8E7DA5F1 ┆            ┆      ┆   ┆            ┆           ┆           ┆           │\n",
              "│            ┆ 543EE71B1D ┆            ┆      ┆   ┆            ┆           ┆           ┆           │\n",
              "│            ┆ …          ┆            ┆      ┆   ┆            ┆           ┆           ┆           │\n",
              "│ 202309     ┆ 9ED115C3E2 ┆ 19550720   ┆ 67   ┆ … ┆ null       ┆ TAB       ┆ 8         ┆ 0.0       │\n",
              "│            ┆ 4F0B26F8B2 ┆            ┆      ┆   ┆            ┆           ┆           ┆           │\n",
              "│            ┆ BAD3849F2D ┆            ┆      ┆   ┆            ┆           ┆           ┆           │\n",
              "│            ┆ …          ┆            ┆      ┆   ┆            ┆           ┆           ┆           │\n",
              "│ 202309     ┆ 8F5CDAF371 ┆ 19540906   ┆ 67   ┆ … ┆ null       ┆ TAB       ┆ 10        ┆ 0.0       │\n",
              "│            ┆ AFCFB9B93B ┆            ┆      ┆   ┆            ┆           ┆           ┆           │\n",
              "│            ┆ D52BFE5682 ┆            ┆      ┆   ┆            ┆           ┆           ┆           │\n",
              "│            ┆ …          ┆            ┆      ┆   ┆            ┆           ┆           ┆           │\n",
              "└────────────┴────────────┴────────────┴──────┴───┴────────────┴───────────┴───────────┴───────────┘"
            ]
          },
          "execution_count": 22,
          "metadata": {},
          "output_type": "execute_result"
        }
      ],
      "source": [
        "df.head()"
      ]
    },
    {
      "cell_type": "code",
      "execution_count": 27,
      "metadata": {},
      "outputs": [
        {
          "data": {
            "text/html": [
              "<div><style>\n",
              ".dataframe > thead > tr,\n",
              ".dataframe > tbody > tr {\n",
              "  text-align: right;\n",
              "  white-space: pre-wrap;\n",
              "}\n",
              "</style>\n",
              "<small>shape: (9, 30)</small><table border=\"1\" class=\"dataframe\"><thead><tr><th>statistic</th><th>ULTIMO_MES_CONSUMOS</th><th>CODIGO_ANONIMIZADO</th><th>FECHA_NACIMIENTO</th><th>EDAD</th><th>SEXO</th><th>TIPO_DIABETES</th><th>FECHA_FALLECIMIENTO</th><th>UBIGEO</th><th>DEPARTAMENTO</th><th>PROVINCIA</th><th>DISTRITO</th><th>NIVEL_EESS</th><th>CODIGO_SERV_PRESTACIONAL</th><th>SERVICIO_PRESTACIONAL</th><th>DIAS_HOSP</th><th>ID_REGISTRO_REL</th><th>FECHA_ATENCION</th><th>TIPO_PERSONAL_SALUD</th><th>FECATE_POST_FECFED</th><th>CODDIA</th><th>C10_NOMBRE</th><th>TIPO_DIAGNOSTICO</th><th>TIPO_CONSUMO</th><th>CODIGO_CONSUMO</th><th>NOMBRE_CONSUMO</th><th>PRESENTACION_MEDICAMENTO</th><th>FORMA_FARMACEUTICA</th><th>CANTIDAD_ENTREGADA</th><th>VALOR_NETO</th></tr><tr><td>str</td><td>f64</td><td>str</td><td>f64</td><td>f64</td><td>f64</td><td>str</td><td>f64</td><td>f64</td><td>str</td><td>str</td><td>str</td><td>f64</td><td>f64</td><td>str</td><td>f64</td><td>str</td><td>f64</td><td>str</td><td>f64</td><td>str</td><td>str</td><td>str</td><td>f64</td><td>f64</td><td>str</td><td>str</td><td>str</td><td>f64</td><td>f64</td></tr></thead><tbody><tr><td>&quot;count&quot;</td><td>4.5666822e7</td><td>&quot;45666822&quot;</td><td>4.5666822e7</td><td>4.5666822e7</td><td>4.5666822e7</td><td>&quot;45666822&quot;</td><td>4.234851e6</td><td>4.5666822e7</td><td>&quot;45666822&quot;</td><td>&quot;45666822&quot;</td><td>&quot;45666822&quot;</td><td>4.5666822e7</td><td>4.5666821e7</td><td>&quot;45666822&quot;</td><td>1.4383863e7</td><td>&quot;45666822&quot;</td><td>4.5666822e7</td><td>&quot;45666803&quot;</td><td>4.5666822e7</td><td>&quot;45666822&quot;</td><td>&quot;45666822&quot;</td><td>&quot;45666822&quot;</td><td>4.5666822e7</td><td>4.1373914e7</td><td>&quot;42743611&quot;</td><td>&quot;5341166&quot;</td><td>&quot;20898681&quot;</td><td>4.2743611e7</td><td>4.2743611e7</td></tr><tr><td>&quot;null_count&quot;</td><td>0.0</td><td>&quot;0&quot;</td><td>0.0</td><td>0.0</td><td>0.0</td><td>&quot;0&quot;</td><td>4.1431971e7</td><td>0.0</td><td>&quot;0&quot;</td><td>&quot;0&quot;</td><td>&quot;0&quot;</td><td>0.0</td><td>1.0</td><td>&quot;0&quot;</td><td>3.1282959e7</td><td>&quot;0&quot;</td><td>0.0</td><td>&quot;19&quot;</td><td>0.0</td><td>&quot;0&quot;</td><td>&quot;0&quot;</td><td>&quot;0&quot;</td><td>0.0</td><td>4.292908e6</td><td>&quot;2923211&quot;</td><td>&quot;40325656&quot;</td><td>&quot;24768141&quot;</td><td>2.923211e6</td><td>2.923211e6</td></tr><tr><td>&quot;mean&quot;</td><td>202309.0</td><td>null</td><td>1.9647e7</td><td>57.292522</td><td>0.309926</td><td>null</td><td>2.0227e7</td><td>135858.059037</td><td>null</td><td>null</td><td>null</td><td>1.89906</td><td>111.569133</td><td>null</td><td>7.690697</td><td>null</td><td>2.0225e7</td><td>null</td><td>0.854463</td><td>null</td><td>null</td><td>null</td><td>1.465308</td><td>47777.640504</td><td>null</td><td>null</td><td>null</td><td>49.752353</td><td>12.193144</td></tr><tr><td>&quot;std&quot;</td><td>0.0</td><td>null</td><td>164429.919976</td><td>16.446489</td><td>0.462463</td><td>null</td><td>5368.494774</td><td>52177.174301</td><td>null</td><td>null</td><td>null</td><td>0.837164</td><td>204.260502</td><td>null</td><td>16.349572</td><td>null</td><td>4921.42565</td><td>null</td><td>0.352641</td><td>null</td><td>null</td><td>null</td><td>0.811763</td><td>52957.653455</td><td>null</td><td>null</td><td>null</td><td>5083.235038</td><td>176.448667</td></tr><tr><td>&quot;min&quot;</td><td>202309.0</td><td>&quot;000015CA7003D37272A17DE250F6AF…</td><td>1.9040512e7</td><td>0.0</td><td>0.0</td><td>&quot;DIABETES MELLITUS ASOCIADA CON…</td><td>2.0220101e7</td><td>10101.0</td><td>&quot;AMAZONAS&quot;</td><td>&quot;ABANCAY&quot;</td><td>&quot;ABANCAY&quot;</td><td>0.0</td><td>1.0</td><td>&quot;APOYO AL DIAGNÃSTICO&quot;</td><td>0.0</td><td>&quot;DM0023457864&quot;</td><td>2.0220101e7</td><td>&quot;AUXILIAR DE ENFERMERIA&quot;</td><td>0.0</td><td>&quot;A000&quot;</td><td>&quot;(OSTEO)ARTROSIS EROSIVA&quot;</td><td>&quot;DEFINITIVO&nbsp;&nbsp;&nbsp;&nbsp;&nbsp;&quot;</td><td>0.0</td><td>1.0</td><td>&quot;2 3 5-TRIFENIL-2H-TETRAZOLIUM …</td><td>&quot; &quot;</td><td>&quot;AER&quot;</td><td>1.0</td><td>0.0</td></tr><tr><td>&quot;25%&quot;</td><td>202309.0</td><td>null</td><td>1.9530609e7</td><td>47.0</td><td>0.0</td><td>null</td><td>2.022092e7</td><td>110501.0</td><td>null</td><td>null</td><td>null</td><td>1.0</td><td>56.0</td><td>null</td><td>0.0</td><td>null</td><td>2.022063e7</td><td>null</td><td>1.0</td><td>null</td><td>null</td><td>null</td><td>1.0</td><td>5103.0</td><td>null</td><td>null</td><td>null</td><td>1.0</td><td>0.0</td></tr><tr><td>&quot;50%&quot;</td><td>202309.0</td><td>null</td><td>1.9630513e7</td><td>59.0</td><td>0.0</td><td>null</td><td>2.0230324e7</td><td>150110.0</td><td>null</td><td>null</td><td>null</td><td>2.0</td><td>56.0</td><td>null</td><td>2.0</td><td>null</td><td>2.0221213e7</td><td>null</td><td>1.0</td><td>null</td><td>null</td><td>null</td><td>2.0</td><td>35080.0</td><td>null</td><td>null</td><td>null</td><td>1.0</td><td>0.65</td></tr><tr><td>&quot;75%&quot;</td><td>202309.0</td><td>null</td><td>1.9741203e7</td><td>69.0</td><td>1.0</td><td>null</td><td>2.0230807e7</td><td>150142.0</td><td>null</td><td>null</td><td>null</td><td>3.0</td><td>65.0</td><td>null</td><td>9.0</td><td>null</td><td>2.0230511e7</td><td>null</td><td>1.0</td><td>null</td><td>null</td><td>null</td><td>2.0</td><td>85018.0</td><td>null</td><td>null</td><td>null</td><td>5.0</td><td>6.19</td></tr><tr><td>&quot;max&quot;</td><td>202309.0</td><td>&quot;FFFFFBA01CCD1C2A4085CCA471BCF6…</td><td>2.0230926e7</td><td>118.0</td><td>1.0</td><td>&quot;SIN IDENTIFICAR&quot;</td><td>2.0240226e7</td><td>250401.0</td><td>&quot;ÃNCASH&quot;</td><td>&quot;ZARUMILLA&quot;</td><td>&quot;ÃAHUIMPUQUIO&quot;</td><td>3.0</td><td>911.0</td><td>&quot;TRATAMIENTO PROFILACTICO A NIÃ…</td><td>742.0</td><td>&quot;DM0090683210&quot;</td><td>2.023093e7</td><td>&quot;TRABAJADORA SOCIAL&quot;</td><td>1.0</td><td>&quot;Z999&quot;</td><td>&quot;YERSINIOSIS EXTRAINTESTINAL&quot;</td><td>&quot;REPETIDO&nbsp;&nbsp;&nbsp;&nbsp;&nbsp;&nbsp;&nbsp;&quot;</td><td>3.0</td><td>9.712401e6</td><td>&quot;Ãcido Ãºrico; otra fuente&quot;</td><td>&quot;m3&quot;</td><td>&quot;UNI&quot;</td><td>7.377e6</td><td>334461.6</td></tr></tbody></table></div>"
            ],
            "text/plain": [
              "shape: (9, 30)\n",
              "┌───────────┬───────────┬───────────┬───────────┬───┬───────────┬───────────┬───────────┬──────────┐\n",
              "│ statistic ┆ ULTIMO_ME ┆ CODIGO_AN ┆ FECHA_NAC ┆ … ┆ PRESENTAC ┆ FORMA_FAR ┆ CANTIDAD_ ┆ VALOR_NE │\n",
              "│ ---       ┆ S_CONSUMO ┆ ONIMIZADO ┆ IMIENTO   ┆   ┆ ION_MEDIC ┆ MACEUTICA ┆ ENTREGADA ┆ TO       │\n",
              "│ str       ┆ S         ┆ ---       ┆ ---       ┆   ┆ AMENTO    ┆ ---       ┆ ---       ┆ ---      │\n",
              "│           ┆ ---       ┆ str       ┆ f64       ┆   ┆ ---       ┆ str       ┆ f64       ┆ f64      │\n",
              "│           ┆ f64       ┆           ┆           ┆   ┆ str       ┆           ┆           ┆          │\n",
              "╞═══════════╪═══════════╪═══════════╪═══════════╪═══╪═══════════╪═══════════╪═══════════╪══════════╡\n",
              "│ count     ┆ 4.5666822 ┆ 45666822  ┆ 4.5666822 ┆ … ┆ 5341166   ┆ 20898681  ┆ 4.2743611 ┆ 4.274361 │\n",
              "│           ┆ e7        ┆           ┆ e7        ┆   ┆           ┆           ┆ e7        ┆ 1e7      │\n",
              "│ null_coun ┆ 0.0       ┆ 0         ┆ 0.0       ┆ … ┆ 40325656  ┆ 24768141  ┆ 2.923211e ┆ 2.923211 │\n",
              "│ t         ┆           ┆           ┆           ┆   ┆           ┆           ┆ 6         ┆ e6       │\n",
              "│ mean      ┆ 202309.0  ┆ null      ┆ 1.9647e7  ┆ … ┆ null      ┆ null      ┆ 49.752353 ┆ 12.19314 │\n",
              "│           ┆           ┆           ┆           ┆   ┆           ┆           ┆           ┆ 4        │\n",
              "│ std       ┆ 0.0       ┆ null      ┆ 164429.91 ┆ … ┆ null      ┆ null      ┆ 5083.2350 ┆ 176.4486 │\n",
              "│           ┆           ┆           ┆ 9976      ┆   ┆           ┆           ┆ 38        ┆ 67       │\n",
              "│ min       ┆ 202309.0  ┆ 000015CA7 ┆ 1.9040512 ┆ … ┆           ┆ AER       ┆ 1.0       ┆ 0.0      │\n",
              "│           ┆           ┆ 003D37272 ┆ e7        ┆   ┆           ┆           ┆           ┆          │\n",
              "│           ┆           ┆ A17DE250F ┆           ┆   ┆           ┆           ┆           ┆          │\n",
              "│           ┆           ┆ 6AF…      ┆           ┆   ┆           ┆           ┆           ┆          │\n",
              "│ 25%       ┆ 202309.0  ┆ null      ┆ 1.9530609 ┆ … ┆ null      ┆ null      ┆ 1.0       ┆ 0.0      │\n",
              "│           ┆           ┆           ┆ e7        ┆   ┆           ┆           ┆           ┆          │\n",
              "│ 50%       ┆ 202309.0  ┆ null      ┆ 1.9630513 ┆ … ┆ null      ┆ null      ┆ 1.0       ┆ 0.65     │\n",
              "│           ┆           ┆           ┆ e7        ┆   ┆           ┆           ┆           ┆          │\n",
              "│ 75%       ┆ 202309.0  ┆ null      ┆ 1.9741203 ┆ … ┆ null      ┆ null      ┆ 5.0       ┆ 6.19     │\n",
              "│           ┆           ┆           ┆ e7        ┆   ┆           ┆           ┆           ┆          │\n",
              "│ max       ┆ 202309.0  ┆ FFFFFBA01 ┆ 2.0230926 ┆ … ┆ m3        ┆ UNI       ┆ 7.377e6   ┆ 334461.6 │\n",
              "│           ┆           ┆ CCD1C2A40 ┆ e7        ┆   ┆           ┆           ┆           ┆          │\n",
              "│           ┆           ┆ 85CCA471B ┆           ┆   ┆           ┆           ┆           ┆          │\n",
              "│           ┆           ┆ CF6…      ┆           ┆   ┆           ┆           ┆           ┆          │\n",
              "└───────────┴───────────┴───────────┴───────────┴───┴───────────┴───────────┴───────────┴──────────┘"
            ]
          },
          "execution_count": 27,
          "metadata": {},
          "output_type": "execute_result"
        }
      ],
      "source": [
        "df.describe()\n"
      ]
    },
    {
      "cell_type": "markdown",
      "metadata": {},
      "source": [
        "## Limpiando valores nulos"
      ]
    },
    {
      "cell_type": "code",
      "execution_count": 74,
      "metadata": {},
      "outputs": [
        {
          "name": "stdout",
          "output_type": "stream",
          "text": [
            "Null Summary Per Column:\n",
            "\n"
          ]
        },
        {
          "data": {
            "text/html": [
              "<div><style>\n",
              ".dataframe > thead > tr,\n",
              ".dataframe > tbody > tr {\n",
              "  text-align: right;\n",
              "  white-space: pre-wrap;\n",
              "}\n",
              "</style>\n",
              "<small>shape: (26, 3)</small><table border=\"1\" class=\"dataframe\"><thead><tr><th>column</th><th>null_count</th><th>null_percentage</th></tr><tr><td>str</td><td>i64</td><td>f64</td></tr></thead><tbody><tr><td>&quot;FECHA_FALLECIMIENTO&quot;</td><td>41431971</td><td>90.726635</td></tr><tr><td>&quot;DIAS_HOSP&quot;</td><td>31282959</td><td>68.502597</td></tr><tr><td>&quot;NOMBRE_CONSUMO&quot;</td><td>2923211</td><td>6.40117</td></tr><tr><td>&quot;CANTIDAD_ENTREGADA&quot;</td><td>2923211</td><td>6.40117</td></tr><tr><td>&quot;CODIGO_SERV_PRESTACIONAL&quot;</td><td>1</td><td>0.000002</td></tr><tr><td>&quot;ULTIMO_MES_CONSUMOS&quot;</td><td>0</td><td>0.0</td></tr><tr><td>&quot;CODIGO_ANONIMIZADO&quot;</td><td>0</td><td>0.0</td></tr><tr><td>&quot;FECHA_NACIMIENTO&quot;</td><td>0</td><td>0.0</td></tr><tr><td>&quot;EDAD&quot;</td><td>0</td><td>0.0</td></tr><tr><td>&quot;SEXO&quot;</td><td>0</td><td>0.0</td></tr><tr><td>&quot;TIPO_DIABETES&quot;</td><td>0</td><td>0.0</td></tr><tr><td>&quot;UBIGEO&quot;</td><td>0</td><td>0.0</td></tr><tr><td>&quot;DEPARTAMENTO&quot;</td><td>0</td><td>0.0</td></tr><tr><td>&quot;PROVINCIA&quot;</td><td>0</td><td>0.0</td></tr><tr><td>&quot;DISTRITO&quot;</td><td>0</td><td>0.0</td></tr><tr><td>&quot;NIVEL_EESS&quot;</td><td>0</td><td>0.0</td></tr><tr><td>&quot;SERVICIO_PRESTACIONAL&quot;</td><td>0</td><td>0.0</td></tr><tr><td>&quot;ID_REGISTRO_REL&quot;</td><td>0</td><td>0.0</td></tr><tr><td>&quot;FECHA_ATENCION&quot;</td><td>0</td><td>0.0</td></tr><tr><td>&quot;TIPO_PERSONAL_SALUD&quot;</td><td>0</td><td>0.0</td></tr><tr><td>&quot;FECATE_POST_FECFED&quot;</td><td>0</td><td>0.0</td></tr><tr><td>&quot;CODDIA&quot;</td><td>0</td><td>0.0</td></tr><tr><td>&quot;C10_NOMBRE&quot;</td><td>0</td><td>0.0</td></tr><tr><td>&quot;TIPO_DIAGNOSTICO&quot;</td><td>0</td><td>0.0</td></tr><tr><td>&quot;TIPO_CONSUMO&quot;</td><td>0</td><td>0.0</td></tr><tr><td>&quot;VALOR_NETO&quot;</td><td>0</td><td>0.0</td></tr></tbody></table></div>"
            ],
            "text/plain": [
              "shape: (26, 3)\n",
              "┌──────────────────────────┬────────────┬─────────────────┐\n",
              "│ column                   ┆ null_count ┆ null_percentage │\n",
              "│ ---                      ┆ ---        ┆ ---             │\n",
              "│ str                      ┆ i64        ┆ f64             │\n",
              "╞══════════════════════════╪════════════╪═════════════════╡\n",
              "│ FECHA_FALLECIMIENTO      ┆ 41431971   ┆ 90.726635       │\n",
              "│ DIAS_HOSP                ┆ 31282959   ┆ 68.502597       │\n",
              "│ NOMBRE_CONSUMO           ┆ 2923211    ┆ 6.40117         │\n",
              "│ CANTIDAD_ENTREGADA       ┆ 2923211    ┆ 6.40117         │\n",
              "│ CODIGO_SERV_PRESTACIONAL ┆ 1          ┆ 0.000002        │\n",
              "│ ULTIMO_MES_CONSUMOS      ┆ 0          ┆ 0.0             │\n",
              "│ CODIGO_ANONIMIZADO       ┆ 0          ┆ 0.0             │\n",
              "│ FECHA_NACIMIENTO         ┆ 0          ┆ 0.0             │\n",
              "│ EDAD                     ┆ 0          ┆ 0.0             │\n",
              "│ SEXO                     ┆ 0          ┆ 0.0             │\n",
              "│ TIPO_DIABETES            ┆ 0          ┆ 0.0             │\n",
              "│ UBIGEO                   ┆ 0          ┆ 0.0             │\n",
              "│ DEPARTAMENTO             ┆ 0          ┆ 0.0             │\n",
              "│ PROVINCIA                ┆ 0          ┆ 0.0             │\n",
              "│ DISTRITO                 ┆ 0          ┆ 0.0             │\n",
              "│ NIVEL_EESS               ┆ 0          ┆ 0.0             │\n",
              "│ SERVICIO_PRESTACIONAL    ┆ 0          ┆ 0.0             │\n",
              "│ ID_REGISTRO_REL          ┆ 0          ┆ 0.0             │\n",
              "│ FECHA_ATENCION           ┆ 0          ┆ 0.0             │\n",
              "│ TIPO_PERSONAL_SALUD      ┆ 0          ┆ 0.0             │\n",
              "│ FECATE_POST_FECFED       ┆ 0          ┆ 0.0             │\n",
              "│ CODDIA                   ┆ 0          ┆ 0.0             │\n",
              "│ C10_NOMBRE               ┆ 0          ┆ 0.0             │\n",
              "│ TIPO_DIAGNOSTICO         ┆ 0          ┆ 0.0             │\n",
              "│ TIPO_CONSUMO             ┆ 0          ┆ 0.0             │\n",
              "│ VALOR_NETO               ┆ 0          ┆ 0.0             │\n",
              "└──────────────────────────┴────────────┴─────────────────┘"
            ]
          },
          "execution_count": 74,
          "metadata": {},
          "output_type": "execute_result"
        }
      ],
      "source": [
        "# Count nulls per column\n",
        "null_counts = [\n",
        "    df.select(pl.col(col).is_null().sum()).item()\n",
        "    for col in df.columns\n",
        "]\n",
        "\n",
        "# Total values in column\n",
        "total_rows = df.height\n",
        "\n",
        "# Build summary table\n",
        "summary = pl.DataFrame({\n",
        "    \"column\": df.columns,\n",
        "    \"null_count\": null_counts,\n",
        "    \"null_percentage\": [count / total_rows * 100 for count in null_counts]\n",
        "}).sort(\"null_percentage\", descending=True)\n",
        "\n",
        "# Total nulls and overall percentage\n",
        "total_nulls = sum(null_counts)\n",
        "total_values = df.height * df.width\n",
        "total_null_percentage = total_nulls / total_values * 100\n",
        "\n",
        "# Force full display of the table\n",
        "pl.Config.set_tbl_cols(len(summary.columns))  # Show all columns\n",
        "pl.Config.set_tbl_rows(len(summary))          # Show all rows\n",
        "\n",
        "# Print summary table\n",
        "print(\"Null Summary Per Column:\\n\")\n",
        "summary\n"
      ]
    },
    {
      "cell_type": "code",
      "execution_count": null,
      "metadata": {},
      "outputs": [
        {
          "name": "stdout",
          "output_type": "stream",
          "text": [
            "\n",
            "Total null values: 150871288\n",
            "Percentage of total nulls: 11.39%\n"
          ]
        }
      ],
      "source": [
        "# Print totals\n",
        "print(f\"\\nTotal null values: {total_nulls}\")\n",
        "print(f\"Percentage of total nulls: {total_null_percentage:.2f}%\")"
      ]
    },
    {
      "cell_type": "markdown",
      "metadata": {},
      "source": [
        "### FECHA_FALLECIMIENTO"
      ]
    },
    {
      "cell_type": "markdown",
      "metadata": {},
      "source": [
        "Los valores nulos en fecha fallecimiento representan aquellos que aún no han fallecido"
      ]
    },
    {
      "cell_type": "markdown",
      "metadata": {},
      "source": [
        "### PRESENTACION_MEDICAMENTO"
      ]
    },
    {
      "cell_type": "code",
      "execution_count": null,
      "metadata": {},
      "outputs": [
        {
          "name": "stderr",
          "output_type": "stream",
          "text": [
            "C:\\Users\\quine\\AppData\\Local\\Temp\\ipykernel_12532\\3712656259.py:3: DeprecationWarning: `pl.count()` is deprecated. Please use `pl.len()` instead.\n",
            "(Deprecated in version 0.20.5)\n",
            "  .agg(pl.count().alias(\"count\")) \\\n"
          ]
        },
        {
          "data": {
            "text/html": [
              "<div><style>\n",
              ".dataframe > thead > tr,\n",
              ".dataframe > tbody > tr {\n",
              "  text-align: right;\n",
              "  white-space: pre-wrap;\n",
              "}\n",
              "</style>\n",
              "<small>shape: (269, 2)</small><table border=\"1\" class=\"dataframe\"><thead><tr><th>PRESENTACION_MEDICAMENTO</th><th>count</th></tr><tr><td>str</td><td>u32</td></tr></thead><tbody><tr><td>null</td><td>40325656</td></tr><tr><td>&quot;2 mL&quot;</td><td>1234224</td></tr><tr><td>&quot;1 mL&quot;</td><td>543246</td></tr><tr><td>&quot;3 mL&quot;</td><td>483945</td></tr><tr><td>&quot;1 L&quot;</td><td>464443</td></tr><tr><td>&quot;5 mL&quot;</td><td>358903</td></tr><tr><td>&quot;10 mL&quot;</td><td>325120</td></tr><tr><td>&quot;100 mL&quot;</td><td>217513</td></tr><tr><td>&quot;20 mL&quot;</td><td>205555</td></tr><tr><td>&quot;120 mL&quot;</td><td>166769</td></tr><tr><td>&quot;150 mL&quot;</td><td>159568</td></tr><tr><td>&quot;20 g&quot;</td><td>142915</td></tr><tr><td>&quot;200 DOSIS&quot;</td><td>126015</td></tr><tr><td>&quot;15 mL&quot;</td><td>118196</td></tr><tr><td>&quot;180 mL&quot;</td><td>79108</td></tr><tr><td>&hellip;</td><td>&hellip;</td></tr><tr><td>&quot;3.875 L&quot;</td><td>1</td></tr><tr><td>&quot;67.5 mL&quot;</td><td>1</td></tr><tr><td>&quot;11.2 g&quot;</td><td>1</td></tr><tr><td>&quot;4.135 g&quot;</td><td>1</td></tr><tr><td>&quot;225 g&quot;</td><td>1</td></tr><tr><td>&quot;20 gr&quot;</td><td>1</td></tr><tr><td>&quot;2 5 mL&quot;</td><td>1</td></tr><tr><td>&quot;235 mL&quot;</td><td>1</td></tr><tr><td>&quot;370 g&quot;</td><td>1</td></tr><tr><td>&quot;0.23 mL&quot;</td><td>1</td></tr><tr><td>&quot;380 g&quot;</td><td>1</td></tr><tr><td>&quot;VIAL 0.45 mL X 6 DOSIS&quot;</td><td>1</td></tr><tr><td>&quot;28.4 g&quot;</td><td>1</td></tr><tr><td>&quot;VIAL X 0.5 mL&quot;</td><td>1</td></tr></tbody></table></div>"
            ],
            "text/plain": [
              "shape: (269, 2)\n",
              "┌──────────────────────────┬──────────┐\n",
              "│ PRESENTACION_MEDICAMENTO ┆ count    │\n",
              "│ ---                      ┆ ---      │\n",
              "│ str                      ┆ u32      │\n",
              "╞══════════════════════════╪══════════╡\n",
              "│ null                     ┆ 40325656 │\n",
              "│ 2 mL                     ┆ 1234224  │\n",
              "│ 1 mL                     ┆ 543246   │\n",
              "│ 3 mL                     ┆ 483945   │\n",
              "│ 1 L                      ┆ 464443   │\n",
              "│ 5 mL                     ┆ 358903   │\n",
              "│ 10 mL                    ┆ 325120   │\n",
              "│ 100 mL                   ┆ 217513   │\n",
              "│ 20 mL                    ┆ 205555   │\n",
              "│ 120 mL                   ┆ 166769   │\n",
              "│ 150 mL                   ┆ 159568   │\n",
              "│ 20 g                     ┆ 142915   │\n",
              "│ 200 DOSIS                ┆ 126015   │\n",
              "│ 15 mL                    ┆ 118196   │\n",
              "│ 180 mL                   ┆ 79108    │\n",
              "│ …                        ┆ …        │\n",
              "│ 3.875 L                  ┆ 1        │\n",
              "│ 67.5 mL                  ┆ 1        │\n",
              "│ 11.2 g                   ┆ 1        │\n",
              "│ 4.135 g                  ┆ 1        │\n",
              "│ 225 g                    ┆ 1        │\n",
              "│ 20 gr                    ┆ 1        │\n",
              "│ 2 5 mL                   ┆ 1        │\n",
              "│ 235 mL                   ┆ 1        │\n",
              "│ 370 g                    ┆ 1        │\n",
              "│ 0.23 mL                  ┆ 1        │\n",
              "│ 380 g                    ┆ 1        │\n",
              "│ VIAL 0.45 mL X 6 DOSIS   ┆ 1        │\n",
              "│ 28.4 g                   ┆ 1        │\n",
              "│ VIAL X 0.5 mL            ┆ 1        │\n",
              "└──────────────────────────┴──────────┘"
            ]
          },
          "execution_count": 41,
          "metadata": {},
          "output_type": "execute_result"
        }
      ],
      "source": [
        "df.select(\"PRESENTACION_MEDICAMENTO\") \\\n",
        "  .group_by(\"PRESENTACION_MEDICAMENTO\") \\\n",
        "  .agg(pl.count().alias(\"count\")) \\\n",
        "  .sort(\"count\", descending=True)\n"
      ]
    },
    {
      "cell_type": "code",
      "execution_count": 42,
      "metadata": {},
      "outputs": [],
      "source": [
        "df = df.drop(\"PRESENTACION_MEDICAMENTO\")\n"
      ]
    },
    {
      "cell_type": "markdown",
      "metadata": {},
      "source": [
        "### DIAS_HOSP "
      ]
    },
    {
      "cell_type": "markdown",
      "metadata": {},
      "source": [
        "Vemos que los nulos representan atenciones no presenciales dentro de un establecimiento de un hospital, mientras que 0 días representa horas que pudo haber estado dentro de un hospital como para la prevención de caries.\n",
        "\n",
        "Posteriormente crearemos una variable ¿Estuvo hospitalizado?"
      ]
    },
    {
      "cell_type": "code",
      "execution_count": 46,
      "metadata": {},
      "outputs": [
        {
          "name": "stderr",
          "output_type": "stream",
          "text": [
            "C:\\Users\\quine\\AppData\\Local\\Temp\\ipykernel_12532\\1912763567.py:3: DeprecationWarning: `pl.count()` is deprecated. Please use `pl.len()` instead.\n",
            "(Deprecated in version 0.20.5)\n",
            "  .agg(pl.count().alias(\"count\")) \\\n"
          ]
        },
        {
          "data": {
            "text/html": [
              "<div><style>\n",
              ".dataframe > thead > tr,\n",
              ".dataframe > tbody > tr {\n",
              "  text-align: right;\n",
              "  white-space: pre-wrap;\n",
              "}\n",
              "</style>\n",
              "<small>shape: (216, 2)</small><table border=\"1\" class=\"dataframe\"><thead><tr><th>DIAS_HOSP</th><th>count</th></tr><tr><td>i64</td><td>u32</td></tr></thead><tbody><tr><td>null</td><td>31282959</td></tr><tr><td>0</td><td>6409974</td></tr><tr><td>3</td><td>668391</td></tr><tr><td>2</td><td>668045</td></tr><tr><td>4</td><td>573380</td></tr><tr><td>1</td><td>513168</td></tr><tr><td>5</td><td>507012</td></tr><tr><td>6</td><td>455787</td></tr><tr><td>7</td><td>437683</td></tr><tr><td>8</td><td>379899</td></tr><tr><td>9</td><td>325637</td></tr><tr><td>10</td><td>291930</td></tr><tr><td>11</td><td>252982</td></tr><tr><td>12</td><td>226665</td></tr><tr><td>&hellip;</td><td>&hellip;</td></tr><tr><td>219</td><td>89</td></tr><tr><td>374</td><td>71</td></tr><tr><td>365</td><td>70</td></tr><tr><td>184</td><td>69</td></tr><tr><td>369</td><td>66</td></tr><tr><td>306</td><td>56</td></tr><tr><td>742</td><td>54</td></tr><tr><td>172</td><td>48</td></tr><tr><td>736</td><td>39</td></tr><tr><td>732</td><td>26</td></tr><tr><td>183</td><td>24</td></tr><tr><td>740</td><td>18</td></tr><tr><td>338</td><td>14</td></tr><tr><td>345</td><td>1</td></tr></tbody></table></div>"
            ],
            "text/plain": [
              "shape: (216, 2)\n",
              "┌───────────┬──────────┐\n",
              "│ DIAS_HOSP ┆ count    │\n",
              "│ ---       ┆ ---      │\n",
              "│ i64       ┆ u32      │\n",
              "╞═══════════╪══════════╡\n",
              "│ null      ┆ 31282959 │\n",
              "│ 0         ┆ 6409974  │\n",
              "│ 3         ┆ 668391   │\n",
              "│ 2         ┆ 668045   │\n",
              "│ 4         ┆ 573380   │\n",
              "│ 1         ┆ 513168   │\n",
              "│ 5         ┆ 507012   │\n",
              "│ 6         ┆ 455787   │\n",
              "│ 7         ┆ 437683   │\n",
              "│ 8         ┆ 379899   │\n",
              "│ 9         ┆ 325637   │\n",
              "│ 10        ┆ 291930   │\n",
              "│ 11        ┆ 252982   │\n",
              "│ 12        ┆ 226665   │\n",
              "│ …         ┆ …        │\n",
              "│ 219       ┆ 89       │\n",
              "│ 374       ┆ 71       │\n",
              "│ 365       ┆ 70       │\n",
              "│ 184       ┆ 69       │\n",
              "│ 369       ┆ 66       │\n",
              "│ 306       ┆ 56       │\n",
              "│ 742       ┆ 54       │\n",
              "│ 172       ┆ 48       │\n",
              "│ 736       ┆ 39       │\n",
              "│ 732       ┆ 26       │\n",
              "│ 183       ┆ 24       │\n",
              "│ 740       ┆ 18       │\n",
              "│ 338       ┆ 14       │\n",
              "│ 345       ┆ 1        │\n",
              "└───────────┴──────────┘"
            ]
          },
          "execution_count": 46,
          "metadata": {},
          "output_type": "execute_result"
        }
      ],
      "source": [
        "df.select(\"DIAS_HOSP\") \\\n",
        "  .group_by(\"DIAS_HOSP\") \\\n",
        "  .agg(pl.count().alias(\"count\")) \\\n",
        "  .sort(\"count\", descending=True)\n"
      ]
    },
    {
      "cell_type": "code",
      "execution_count": 54,
      "metadata": {},
      "outputs": [
        {
          "data": {
            "text/html": [
              "<div><style>\n",
              ".dataframe > thead > tr,\n",
              ".dataframe > tbody > tr {\n",
              "  text-align: right;\n",
              "  white-space: pre-wrap;\n",
              "}\n",
              "</style>\n",
              "<small>shape: (6_409_974, 28)</small><table border=\"1\" class=\"dataframe\"><thead><tr><th>ULTIMO_MES_CONSUMOS</th><th>CODIGO_ANONIMIZADO</th><th>FECHA_NACIMIENTO</th><th>EDAD</th><th>SEXO</th><th>TIPO_DIABETES</th><th>FECHA_FALLECIMIENTO</th><th>UBIGEO</th><th>DEPARTAMENTO</th><th>PROVINCIA</th><th>DISTRITO</th><th>NIVEL_EESS</th><th>CODIGO_SERV_PRESTACIONAL</th><th>SERVICIO_PRESTACIONAL</th><th>DIAS_HOSP</th><th>ID_REGISTRO_REL</th><th>FECHA_ATENCION</th><th>TIPO_PERSONAL_SALUD</th><th>FECATE_POST_FECFED</th><th>CODDIA</th><th>C10_NOMBRE</th><th>TIPO_DIAGNOSTICO</th><th>TIPO_CONSUMO</th><th>CODIGO_CONSUMO</th><th>NOMBRE_CONSUMO</th><th>FORMA_FARMACEUTICA</th><th>CANTIDAD_ENTREGADA</th><th>VALOR_NETO</th></tr><tr><td>i64</td><td>str</td><td>i64</td><td>i64</td><td>i8</td><td>str</td><td>i64</td><td>i64</td><td>str</td><td>str</td><td>str</td><td>i64</td><td>i64</td><td>str</td><td>i64</td><td>str</td><td>i64</td><td>str</td><td>i8</td><td>str</td><td>str</td><td>str</td><td>i8</td><td>i64</td><td>str</td><td>str</td><td>i64</td><td>f64</td></tr></thead><tbody><tr><td>202309</td><td>&quot;18C9F497A5208F212E68D50C112AFD…</td><td>19830209</td><td>38</td><td>0</td><td>&quot;DIABETES MELLITUS TIPO 2&quot;</td><td>null</td><td>150108</td><td>&quot;LIMA&quot;</td><td>&quot;LIMA&quot;</td><td>&quot;CHORRILLOS&quot;</td><td>1</td><td>9</td><td>&quot;ATENCIÃN PRENATAL&quot;</td><td>0</td><td>&quot;DM0042047563&quot;</td><td>20220106</td><td>&quot;ENFERMERO(A)&quot;</td><td>0</td><td>&quot;Z348&quot;</td><td>&quot;SUPERVISION DE OTROS EMBARAZOS…</td><td>&quot;DEFINITIVO&nbsp;&nbsp;&nbsp;&nbsp;&nbsp;&quot;</td><td>1</td><td>20635</td><td>&quot;CALCIO CARBONATO&quot;</td><td>&quot;TAB&quot;</td><td>60</td><td>0.0</td></tr><tr><td>202309</td><td>&quot;9ED115C3E24F0B26F8B2BAD3849F2D…</td><td>19550720</td><td>67</td><td>0</td><td>&quot;DIABETES MELLITUS TIPO 2&quot;</td><td>null</td><td>150110</td><td>&quot;LIMA&quot;</td><td>&quot;LIMA&quot;</td><td>&quot;COMAS&quot;</td><td>1</td><td>56</td><td>&quot;CONSULTA EXTERNA&quot;</td><td>0</td><td>&quot;DM0044094856&quot;</td><td>20220801</td><td>&quot;MEDICO&quot;</td><td>1</td><td>&quot;J00X&quot;</td><td>&quot;RINOFARINGITIS AGUDA [RESFRIAD…</td><td>&quot;DEFINITIVO&nbsp;&nbsp;&nbsp;&nbsp;&nbsp;&quot;</td><td>1</td><td>4982</td><td>&quot;NAPROXENO&quot;</td><td>&quot;TAB&quot;</td><td>8</td><td>0.0</td></tr><tr><td>202309</td><td>&quot;8B4E5D835EB1692921C929529C02CE…</td><td>19590806</td><td>62</td><td>0</td><td>&quot;DIABETES MELLITUS TIPO 1&quot;</td><td>null</td><td>60307</td><td>&quot;CAJAMARCA&quot;</td><td>&quot;CELENDÃN&quot;</td><td>&quot;MIGUEL IGLESIAS&quot;</td><td>1</td><td>56</td><td>&quot;CONSULTA EXTERNA&quot;</td><td>0</td><td>&quot;DM0042432103&quot;</td><td>20220105</td><td>&quot;ENFERMERO(A)&quot;</td><td>1</td><td>&quot;I10X&quot;</td><td>&quot;HIPERTENSION ESENCIAL (PRIMARI…</td><td>&quot;REPETIDO&nbsp;&nbsp;&nbsp;&nbsp;&nbsp;&nbsp;&nbsp;&quot;</td><td>1</td><td>4523</td><td>&quot;LOSARTAN POTASICO&quot;</td><td>&quot;TAB&quot;</td><td>30</td><td>0.0</td></tr><tr><td>202309</td><td>&quot;F85467AB4F0FC3096046A688EB2558…</td><td>19850814</td><td>36</td><td>0</td><td>&quot;DIABETES MELLITUS NO ESPECIFIC…</td><td>null</td><td>150143</td><td>&quot;LIMA&quot;</td><td>&quot;LIMA&quot;</td><td>&quot;VILLA MARÃA DEL TRIUNFO&quot;</td><td>1</td><td>62</td><td>&quot;ATENCIÃN POR EMERGENCIA&quot;</td><td>0</td><td>&quot;DM0040310575&quot;</td><td>20220608</td><td>&quot;MEDICO&quot;</td><td>0</td><td>&quot;J209&quot;</td><td>&quot;BRONQUITIS AGUDA&nbsp;&nbsp;NO ESPECIFIC…</td><td>&quot;DEFINITIVO&nbsp;&nbsp;&nbsp;&nbsp;&nbsp;&quot;</td><td>1</td><td>947</td><td>&quot;AZITROMICINA&quot;</td><td>&quot;TAB&quot;</td><td>5</td><td>0.0</td></tr><tr><td>202309</td><td>&quot;17CFBEB082B7887DE145A55D698F7B…</td><td>19550918</td><td>66</td><td>0</td><td>&quot;DIABETES MELLITUS TIPO 2&quot;</td><td>null</td><td>150142</td><td>&quot;LIMA&quot;</td><td>&quot;LIMA&quot;</td><td>&quot;VILLA EL SALVADOR&quot;</td><td>1</td><td>56</td><td>&quot;CONSULTA EXTERNA&quot;</td><td>0</td><td>&quot;DM0044700429&quot;</td><td>20220630</td><td>&quot;MEDICO&quot;</td><td>1</td><td>&quot;E119&quot;</td><td>&quot;DIABETES MELLITUS TIPO 2 SIN M…</td><td>&quot;DEFINITIVO&nbsp;&nbsp;&nbsp;&nbsp;&nbsp;&quot;</td><td>1</td><td>3758</td><td>&quot;GLIBENCLAMIDA&quot;</td><td>&quot;TAB&quot;</td><td>90</td><td>4.5</td></tr><tr><td>202309</td><td>&quot;736D9EBCDD690DF245186202B33BA8…</td><td>19650102</td><td>57</td><td>0</td><td>&quot;DIABETES MELLITUS TIPO 2&quot;</td><td>null</td><td>150132</td><td>&quot;LIMA&quot;</td><td>&quot;LIMA&quot;</td><td>&quot;SAN JUAN DE LURIGANCHO&quot;</td><td>1</td><td>56</td><td>&quot;CONSULTA EXTERNA&quot;</td><td>0</td><td>&quot;DM0056517096&quot;</td><td>20220411</td><td>&quot;MEDICO&quot;</td><td>1</td><td>&quot;E785&quot;</td><td>&quot;HIPERLIPIDEMIA NO ESPECIFICADA&quot;</td><td>&quot;REPETIDO&nbsp;&nbsp;&nbsp;&nbsp;&nbsp;&nbsp;&nbsp;&quot;</td><td>1</td><td>904</td><td>&quot;ATORVASTATINA (COMO SAL CALCIC…</td><td>&quot;TAB&quot;</td><td>15</td><td>0.0</td></tr><tr><td>202309</td><td>&quot;0BA9C896DBB215860E1E575C4BD42F…</td><td>19690902</td><td>52</td><td>1</td><td>&quot;DIABETES MELLITUS TIPO 2&quot;</td><td>null</td><td>51107</td><td>&quot;AYACUCHO&quot;</td><td>&quot;VILCAS HUAMÃN&quot;</td><td>&quot;SAURAMA&quot;</td><td>1</td><td>56</td><td>&quot;CONSULTA EXTERNA&quot;</td><td>0</td><td>&quot;DM0042997257&quot;</td><td>20220721</td><td>&quot;TEC. ENFERMERIA&quot;</td><td>1</td><td>&quot;J039&quot;</td><td>&quot;AMIGDALITIS AGUDA&nbsp;&nbsp;NO ESPECIFI…</td><td>&quot;DEFINITIVO&nbsp;&nbsp;&nbsp;&nbsp;&nbsp;&quot;</td><td>1</td><td>2149</td><td>&quot;CLORFENAMINA MALEATO&quot;</td><td>&quot;TAB&quot;</td><td>5</td><td>0.0</td></tr><tr><td>202309</td><td>&quot;60CD668F25E7BCDC64DE26BDAE0839…</td><td>19930612</td><td>29</td><td>0</td><td>&quot;DIABETES MELLITUS NO ESPECIFIC…</td><td>null</td><td>150106</td><td>&quot;LIMA&quot;</td><td>&quot;LIMA&quot;</td><td>&quot;CARABAYLLO&quot;</td><td>1</td><td>9</td><td>&quot;ATENCIÃN PRENATAL&quot;</td><td>0</td><td>&quot;DM0033583454&quot;</td><td>20220624</td><td>&quot;ENFERMERO(A)&quot;</td><td>0</td><td>&quot;Z348&quot;</td><td>&quot;SUPERVISION DE OTROS EMBARAZOS…</td><td>&quot;DEFINITIVO&nbsp;&nbsp;&nbsp;&nbsp;&nbsp;&quot;</td><td>1</td><td>3513</td><td>&quot;ACIDO FOLICO + FERROSO SULFATO…</td><td>&quot;TAB&quot;</td><td>30</td><td>0.0</td></tr><tr><td>202309</td><td>&quot;37B86FE74C4A67B5953287BC74D693…</td><td>19700728</td><td>51</td><td>0</td><td>&quot;DIABETES MELLITUS TIPO 2&quot;</td><td>null</td><td>160107</td><td>&quot;LORETO&quot;</td><td>&quot;MAYNAS&quot;</td><td>&quot;NAPO&quot;</td><td>1</td><td>56</td><td>&quot;CONSULTA EXTERNA&quot;</td><td>0</td><td>&quot;DM0052671199&quot;</td><td>20220420</td><td>&quot;PSICOLOGO&quot;</td><td>0</td><td>&quot;E780&quot;</td><td>&quot;HIPERCOLESTEROLEMIA PURA&quot;</td><td>&quot;DEFINITIVO&nbsp;&nbsp;&nbsp;&nbsp;&nbsp;&quot;</td><td>1</td><td>903</td><td>&quot;ATORVASTATINA (COMO SAL CALCIC…</td><td>&quot;TAB&quot;</td><td>30</td><td>0.0</td></tr><tr><td>202309</td><td>&quot;846FDAF0F065AC319421C928B8BE4D…</td><td>19540325</td><td>68</td><td>0</td><td>&quot;DIABETES MELLITUS TIPO 2&quot;</td><td>null</td><td>230110</td><td>&quot;TACNA&quot;</td><td>&quot;TACNA&quot;</td><td>&quot;CORONEL GREGORIO ALBARRACÃN L…</td><td>1</td><td>56</td><td>&quot;CONSULTA EXTERNA&quot;</td><td>0</td><td>&quot;DM0052673530&quot;</td><td>20220716</td><td>&quot;MEDICO&quot;</td><td>1</td><td>&quot;M159&quot;</td><td>&quot;POLIARTROSIS&nbsp;&nbsp;NO ESPECIFICADA&quot;</td><td>&quot;PRESUNTIVO&nbsp;&nbsp;&nbsp;&nbsp;&nbsp;&quot;</td><td>1</td><td>4982</td><td>&quot;NAPROXENO&quot;</td><td>&quot;TAB&quot;</td><td>20</td><td>0.0</td></tr><tr><td>202309</td><td>&quot;ED1C8BE18433F0547A913747ABD967…</td><td>19710506</td><td>50</td><td>0</td><td>&quot;DIABETES MELLITUS TIPO 2&quot;</td><td>null</td><td>120305</td><td>&quot;JUNÃN&quot;</td><td>&quot;CHANCHAMAYO&quot;</td><td>&quot;SAN RAMÃN&quot;</td><td>1</td><td>56</td><td>&quot;CONSULTA EXTERNA&quot;</td><td>0</td><td>&quot;DM0037180248&quot;</td><td>20220215</td><td>&quot;MEDICO&quot;</td><td>1</td><td>&quot;B373&quot;</td><td>&quot;CANDIDIASIS DE LA VULVA Y DE L…</td><td>&quot;DEFINITIVO&nbsp;&nbsp;&nbsp;&nbsp;&nbsp;&quot;</td><td>1</td><td>1930</td><td>&quot;CLARITROMICINA&quot;</td><td>&quot;TAB&quot;</td><td>14</td><td>0.0</td></tr><tr><td>202309</td><td>&quot;5A7392F0465092CA7A24B5C5A15170…</td><td>19600328</td><td>61</td><td>0</td><td>&quot;DIABETES MELLITUS TIPO 2&quot;</td><td>20240124</td><td>160108</td><td>&quot;LORETO&quot;</td><td>&quot;MAYNAS&quot;</td><td>&quot;PUNCHANA&quot;</td><td>1</td><td>56</td><td>&quot;CONSULTA EXTERNA&quot;</td><td>0</td><td>&quot;DM0047387718&quot;</td><td>20220207</td><td>&quot;MEDICO&quot;</td><td>1</td><td>&quot;E119&quot;</td><td>&quot;DIABETES MELLITUS TIPO 2 SIN M…</td><td>&quot;REPETIDO&nbsp;&nbsp;&nbsp;&nbsp;&nbsp;&nbsp;&nbsp;&quot;</td><td>1</td><td>3758</td><td>&quot;GLIBENCLAMIDA&quot;</td><td>&quot;TAB&quot;</td><td>120</td><td>4.8</td></tr><tr><td>202309</td><td>&quot;833DE8D58E3EE4B35088B3BF963CF2…</td><td>19610331</td><td>60</td><td>1</td><td>&quot;DIABETES MELLITUS TIPO 2&quot;</td><td>null</td><td>70101</td><td>&quot;CALLAO&quot;</td><td>&quot;PROV. CONST. DEL CALLAO&quot;</td><td>&quot;CALLAO&quot;</td><td>1</td><td>56</td><td>&quot;CONSULTA EXTERNA&quot;</td><td>0</td><td>&quot;DM0047462609&quot;</td><td>20220216</td><td>&quot;MEDICO&quot;</td><td>0</td><td>&quot;I48X&quot;</td><td>&quot;FIBRILACION Y ALETEO AURICULAR&quot;</td><td>&quot;DEFINITIVO&nbsp;&nbsp;&nbsp;&nbsp;&nbsp;&quot;</td><td>1</td><td>91</td><td>&quot;ACIDO ACETILSALICILICO&quot;</td><td>&quot;TAB&quot;</td><td>30</td><td>0.0</td></tr><tr><td>202309</td><td>&quot;68AB3F9F787C8B04E795005FA9158A…</td><td>19420101</td><td>80</td><td>1</td><td>&quot;DIABETES MELLITUS TIPO 2&quot;</td><td>null</td><td>150110</td><td>&quot;LIMA&quot;</td><td>&quot;LIMA&quot;</td><td>&quot;COMAS&quot;</td><td>1</td><td>56</td><td>&quot;CONSULTA EXTERNA&quot;</td><td>0</td><td>&quot;DM0047547025&quot;</td><td>20220209</td><td>&quot;MEDICO&quot;</td><td>1</td><td>&quot;I10X&quot;</td><td>&quot;HIPERTENSION ESENCIAL (PRIMARI…</td><td>&quot;REPETIDO&nbsp;&nbsp;&nbsp;&nbsp;&nbsp;&nbsp;&nbsp;&quot;</td><td>1</td><td>4523</td><td>&quot;LOSARTAN POTASICO&quot;</td><td>&quot;TAB&quot;</td><td>60</td><td>4.2</td></tr><tr><td>&hellip;</td><td>&hellip;</td><td>&hellip;</td><td>&hellip;</td><td>&hellip;</td><td>&hellip;</td><td>&hellip;</td><td>&hellip;</td><td>&hellip;</td><td>&hellip;</td><td>&hellip;</td><td>&hellip;</td><td>&hellip;</td><td>&hellip;</td><td>&hellip;</td><td>&hellip;</td><td>&hellip;</td><td>&hellip;</td><td>&hellip;</td><td>&hellip;</td><td>&hellip;</td><td>&hellip;</td><td>&hellip;</td><td>&hellip;</td><td>&hellip;</td><td>&hellip;</td><td>&hellip;</td><td>&hellip;</td></tr><tr><td>202309</td><td>&quot;6172C76B58C1F5AD75AAB032DC50A6…</td><td>19480106</td><td>74</td><td>0</td><td>&quot;DIABETES MELLITUS NO ESPECIFIC…</td><td>null</td><td>80906</td><td>&quot;CUSCO&quot;</td><td>&quot;LA CONVENCIÃN&quot;</td><td>&quot;QUELLOUNO&quot;</td><td>1</td><td>75</td><td>&quot;ATENCIÃN EXTRAMURAL RURAL (VI…</td><td>0</td><td>&quot;DM0046425366&quot;</td><td>20220721</td><td>&quot;ENFERMERO(A)&quot;</td><td>1</td><td>&quot;Z724&quot;</td><td>&quot;PROBLEMAS RELACIONADOS CON LA …</td><td>&quot;DEFINITIVO&nbsp;&nbsp;&nbsp;&nbsp;&nbsp;&quot;</td><td>2</td><td>99403</td><td>&quot;ConsejerÃ­a en medicina preven…</td><td>null</td><td>1</td><td>0.0</td></tr><tr><td>202309</td><td>&quot;8AE080404F678240A31D305D4F2F29…</td><td>19681113</td><td>53</td><td>0</td><td>&quot;DIABETES MELLITUS TIPO 2&quot;</td><td>null</td><td>150137</td><td>&quot;LIMA&quot;</td><td>&quot;LIMA&quot;</td><td>&quot;SANTA ANITA&quot;</td><td>1</td><td>56</td><td>&quot;CONSULTA EXTERNA&quot;</td><td>0</td><td>&quot;DM0049279846&quot;</td><td>20220726</td><td>&quot;MEDICO&quot;</td><td>1</td><td>&quot;I10X&quot;</td><td>&quot;HIPERTENSION ESENCIAL (PRIMARI…</td><td>&quot;DEFINITIVO&nbsp;&nbsp;&nbsp;&nbsp;&nbsp;&quot;</td><td>1</td><td>91</td><td>&quot;ACIDO ACETILSALICILICO&quot;</td><td>&quot;TAB&quot;</td><td>60</td><td>0.0</td></tr><tr><td>202309</td><td>&quot;1F4C0B7C90DBF6A74F75C51B5548F9…</td><td>19920108</td><td>30</td><td>1</td><td>&quot;DIABETES MELLITUS TIPO 2&quot;</td><td>null</td><td>230110</td><td>&quot;TACNA&quot;</td><td>&quot;TACNA&quot;</td><td>&quot;CORONEL GREGORIO ALBARRACÃN L…</td><td>1</td><td>71</td><td>&quot;APOYO AL DIAGNÃSTICO&quot;</td><td>0</td><td>&quot;DM0056364476&quot;</td><td>20220527</td><td>&quot;AUXILIAR DE ENFERMERIA&quot;</td><td>1</td><td>&quot;Z017&quot;</td><td>&quot;EXAMEN DE LABORATORIO&quot;</td><td>&quot;DEFINITIVO&nbsp;&nbsp;&nbsp;&nbsp;&nbsp;&quot;</td><td>2</td><td>84460</td><td>&quot;Transferasa; amino alanina (AL…</td><td>null</td><td>1</td><td>0.0</td></tr><tr><td>202309</td><td>&quot;8B7A479E4A4A022BC488CF60660345…</td><td>19850903</td><td>36</td><td>0</td><td>&quot;DIABETES MELLITUS NO ESPECIFIC…</td><td>20231126</td><td>220104</td><td>&quot;SAN MARTÃN&quot;</td><td>&quot;MOYOBAMBA&quot;</td><td>&quot;JEPELACIO&quot;</td><td>1</td><td>18</td><td>&quot;SALUD REPRODUCTIVA (PLANIFICAC…</td><td>0</td><td>&quot;DM0029477503&quot;</td><td>20220705</td><td>&quot;ENFERMERO(A)&quot;</td><td>1</td><td>&quot;Z304&quot;</td><td>&quot;SUPERVISION DEL USO DE DROGAS …</td><td>&quot;DEFINITIVO&nbsp;&nbsp;&nbsp;&nbsp;&nbsp;&quot;</td><td>0</td><td>16657</td><td>&quot;JERINGA DESCARTABLE 3 mL CON A…</td><td>&quot;UNI&quot;</td><td>1</td><td>0.0</td></tr><tr><td>202309</td><td>&quot;7AC54D246D37E2684089449247E578…</td><td>19610206</td><td>61</td><td>0</td><td>&quot;DIABETES MELLITUS TIPO 2&quot;</td><td>null</td><td>80910</td><td>&quot;CUSCO&quot;</td><td>&quot;LA CONVENCIÃN&quot;</td><td>&quot;PICHARI&quot;</td><td>1</td><td>56</td><td>&quot;CONSULTA EXTERNA&quot;</td><td>0</td><td>&quot;DM0031907985&quot;</td><td>20220324</td><td>&quot;MEDICO&quot;</td><td>1</td><td>&quot;E109&quot;</td><td>&quot;DIABETES MELLITUS TIPO 1 SIN M…</td><td>&quot;DEFINITIVO&nbsp;&nbsp;&nbsp;&nbsp;&nbsp;&quot;</td><td>1</td><td>4696</td><td>&quot;METFORMINA CLORHIDRATO&quot;</td><td>&quot;TAB&quot;</td><td>60</td><td>0.0</td></tr><tr><td>202309</td><td>&quot;CDD953CD2C6A91FC8E3E4F1BAE7A3E…</td><td>19610601</td><td>61</td><td>1</td><td>&quot;DIABETES MELLITUS NO ESPECIFIC…</td><td>null</td><td>150133</td><td>&quot;LIMA&quot;</td><td>&quot;LIMA&quot;</td><td>&quot;SAN JUAN DE MIRAFLORES&quot;</td><td>1</td><td>56</td><td>&quot;CONSULTA EXTERNA&quot;</td><td>0</td><td>&quot;DM0036958943&quot;</td><td>20220723</td><td>&quot;MEDICO&quot;</td><td>1</td><td>&quot;J029&quot;</td><td>&quot;FARINGITIS AGUDA&nbsp;&nbsp;NO ESPECIFIC…</td><td>&quot;DEFINITIVO&nbsp;&nbsp;&nbsp;&nbsp;&nbsp;&quot;</td><td>1</td><td>5335</td><td>&quot;PARACETAMOL&quot;</td><td>&quot;TAB&quot;</td><td>10</td><td>0.0</td></tr><tr><td>202309</td><td>&quot;C58486B6A552D79D2D17A39481D8AD…</td><td>19511015</td><td>70</td><td>0</td><td>&quot;DIABETES MELLITUS NO ESPECIFIC…</td><td>null</td><td>150106</td><td>&quot;LIMA&quot;</td><td>&quot;LIMA&quot;</td><td>&quot;CARABAYLLO&quot;</td><td>1</td><td>56</td><td>&quot;CONSULTA EXTERNA&quot;</td><td>0</td><td>&quot;DM0046766197&quot;</td><td>20220325</td><td>&quot;MEDICO&quot;</td><td>1</td><td>&quot;M545&quot;</td><td>&quot;LUMBAGO NO ESPECIFICADO&quot;</td><td>&quot;DEFINITIVO&nbsp;&nbsp;&nbsp;&nbsp;&nbsp;&quot;</td><td>2</td><td>99403</td><td>&quot;ConsejerÃ­a en medicina preven…</td><td>null</td><td>1</td><td>0.0</td></tr><tr><td>202309</td><td>&quot;1AE725A906B2843335611B09633303…</td><td>19541018</td><td>67</td><td>1</td><td>&quot;DIABETES MELLITUS TIPO 2&quot;</td><td>null</td><td>150128</td><td>&quot;LIMA&quot;</td><td>&quot;LIMA&quot;</td><td>&quot;RÃMAC&quot;</td><td>1</td><td>56</td><td>&quot;CONSULTA EXTERNA&quot;</td><td>0</td><td>&quot;DM0057083815&quot;</td><td>20220725</td><td>&quot;MEDICO&quot;</td><td>1</td><td>&quot;E149&quot;</td><td>&quot;DIABETES MELLITUS&nbsp;&nbsp;NO ESPECIFI…</td><td>&quot;REPETIDO&nbsp;&nbsp;&nbsp;&nbsp;&nbsp;&nbsp;&nbsp;&quot;</td><td>1</td><td>3758</td><td>&quot;GLIBENCLAMIDA&quot;</td><td>&quot;TAB&quot;</td><td>60</td><td>2.4</td></tr><tr><td>202309</td><td>&quot;E9807B5A114B074EBA7619285ABC2D…</td><td>19731214</td><td>48</td><td>0</td><td>&quot;DIABETES MELLITUS TIPO 2&quot;</td><td>null</td><td>150703</td><td>&quot;LIMA&quot;</td><td>&quot;HUAROCHIRÃ&quot;</td><td>&quot;CALLAHUANCA&quot;</td><td>1</td><td>18</td><td>&quot;SALUD REPRODUCTIVA (PLANIFICAC…</td><td>0</td><td>&quot;DM0060362804&quot;</td><td>20220425</td><td>&quot;ENFERMERO(A)&quot;</td><td>1</td><td>&quot;Z300&quot;</td><td>&quot;CONSEJO Y ASESORAMIENTO GENERA…</td><td>&quot;DEFINITIVO&nbsp;&nbsp;&nbsp;&nbsp;&nbsp;&quot;</td><td>2</td><td>99402</td><td>&quot;ConsejerÃ­a en medicina preven…</td><td>null</td><td>1</td><td>0.0</td></tr><tr><td>202309</td><td>&quot;4BAE1545D058A104CB0CD377EACFF6…</td><td>19621002</td><td>59</td><td>0</td><td>&quot;DIABETES MELLITUS TIPO 2&quot;</td><td>null</td><td>140101</td><td>&quot;LAMBAYEQUE&quot;</td><td>&quot;CHICLAYO&quot;</td><td>&quot;CHICLAYO&quot;</td><td>1</td><td>56</td><td>&quot;CONSULTA EXTERNA&quot;</td><td>0</td><td>&quot;DM0026763253&quot;</td><td>20220610</td><td>&quot;MEDICO&quot;</td><td>1</td><td>&quot;I10X&quot;</td><td>&quot;HIPERTENSION ESENCIAL (PRIMARI…</td><td>&quot;DEFINITIVO&nbsp;&nbsp;&nbsp;&nbsp;&nbsp;&quot;</td><td>3</td><td>null</td><td>null</td><td>null</td><td>null</td><td>null</td></tr><tr><td>202309</td><td>&quot;ACBB2243A23B3FBC87CBC8A896E8BD…</td><td>19930605</td><td>28</td><td>0</td><td>&quot;DIABETES MELLITUS TIPO 2&quot;</td><td>null</td><td>140106</td><td>&quot;LAMBAYEQUE&quot;</td><td>&quot;CHICLAYO&quot;</td><td>&quot;LA VICTORIA&quot;</td><td>1</td><td>904</td><td>&quot;ATENCIÃN INTEGRAL DE SALUD DE…</td><td>0</td><td>&quot;DM0031065494&quot;</td><td>20220409</td><td>&quot;TEC. ENFERMERIA&quot;</td><td>0</td><td>&quot;E669&quot;</td><td>&quot;OBESIDAD&nbsp;&nbsp;NO ESPECIFICADA&quot;</td><td>&quot;DEFINITIVO&nbsp;&nbsp;&nbsp;&nbsp;&nbsp;&quot;</td><td>2</td><td>99401</td><td>&quot;ConsejerÃ­a en medicina preven…</td><td>null</td><td>1</td><td>0.0</td></tr><tr><td>202309</td><td>&quot;BF6F765B9C6E9DC6EEA7AF814DBD6A…</td><td>19810617</td><td>40</td><td>0</td><td>&quot;DIABETES MELLITUS TIPO 2&quot;</td><td>null</td><td>50407</td><td>&quot;AYACUCHO&quot;</td><td>&quot;HUANTA&quot;</td><td>&quot;SIVIA&quot;</td><td>2</td><td>56</td><td>&quot;CONSULTA EXTERNA&quot;</td><td>0</td><td>&quot;DM0049279414&quot;</td><td>20220408</td><td>&quot;MEDICO&quot;</td><td>1</td><td>&quot;E119&quot;</td><td>&quot;DIABETES MELLITUS TIPO 2 SIN M…</td><td>&quot;DEFINITIVO&nbsp;&nbsp;&nbsp;&nbsp;&nbsp;&quot;</td><td>2</td><td>82465</td><td>&quot;Dosaje de colesterol total en …</td><td>null</td><td>1</td><td>4.27</td></tr><tr><td>202309</td><td>&quot;E61A9207C93CC140C64BB93735F7E5…</td><td>19571010</td><td>64</td><td>1</td><td>&quot;DIABETES MELLITUS TIPO 2&quot;</td><td>null</td><td>220601</td><td>&quot;SAN MARTÃN&quot;</td><td>&quot;MARISCAL CÃCERES&quot;</td><td>&quot;JUANJUÃ&quot;</td><td>2</td><td>71</td><td>&quot;APOYO AL DIAGNÃSTICO&quot;</td><td>0</td><td>&quot;DM0065208386&quot;</td><td>20220407</td><td>&quot;OBSTETRIZ&quot;</td><td>0</td><td>&quot;E789&quot;</td><td>&quot;TRASTORNO DEL METABOLISMO DE L…</td><td>&quot;PRESUNTIVO&nbsp;&nbsp;&nbsp;&nbsp;&nbsp;&quot;</td><td>0</td><td>31963</td><td>&quot;TIRA REACTIVA PARA ORINA DE 10…</td><td>&quot;KIT&quot;</td><td>1</td><td>0.0</td></tr><tr><td>202309</td><td>&quot;8D0D6B56ABF2155C6F96371CABBFF1…</td><td>19620818</td><td>59</td><td>1</td><td>&quot;DIABETES MELLITUS NO ESPECIFIC…</td><td>null</td><td>160305</td><td>&quot;LORETO&quot;</td><td>&quot;LORETO&quot;</td><td>&quot;URARINAS&quot;</td><td>1</td><td>62</td><td>&quot;ATENCIÃN POR EMERGENCIA&quot;</td><td>0</td><td>&quot;DM0035358832&quot;</td><td>20220614</td><td>&quot;MEDICO&quot;</td><td>1</td><td>&quot;K210&quot;</td><td>&quot;ENFERMEDAD DEL REFLUJO GASTROE…</td><td>&quot;DEFINITIVO&nbsp;&nbsp;&nbsp;&nbsp;&nbsp;&quot;</td><td>1</td><td>5873</td><td>&quot;SODIO CLORURO&quot;</td><td>&quot;INY&quot;</td><td>1</td><td>0.0</td></tr></tbody></table></div>"
            ],
            "text/plain": [
              "shape: (6_409_974, 28)\n",
              "┌───────────────┬───────────────┬───────────────┬──────┬──────┬───────────────┬───────────────┬────────┬──────────────┬───────────────┬───────────────┬────────────┬───────────────┬───────────────┬───────────┬───────────────┬───────────────┬───────────────┬───────────────┬────────┬───────────────┬──────────────┬──────────────┬──────────────┬──────────────┬──────────────┬──────────────┬────────────┐\n",
              "│ ULTIMO_MES_CO ┆ CODIGO_ANONIM ┆ FECHA_NACIMIE ┆ EDAD ┆ SEXO ┆ TIPO_DIABETES ┆ FECHA_FALLECI ┆ UBIGEO ┆ DEPARTAMENTO ┆ PROVINCIA     ┆ DISTRITO      ┆ NIVEL_EESS ┆ CODIGO_SERV_P ┆ SERVICIO_PRES ┆ DIAS_HOSP ┆ ID_REGISTRO_R ┆ FECHA_ATENCIO ┆ TIPO_PERSONAL ┆ FECATE_POST_F ┆ CODDIA ┆ C10_NOMBRE    ┆ TIPO_DIAGNOS ┆ TIPO_CONSUMO ┆ CODIGO_CONSU ┆ NOMBRE_CONSU ┆ FORMA_FARMAC ┆ CANTIDAD_ENT ┆ VALOR_NETO │\n",
              "│ NSUMOS        ┆ IZADO         ┆ NTO           ┆ ---  ┆ ---  ┆ ---           ┆ MIENTO        ┆ ---    ┆ ---          ┆ ---           ┆ ---           ┆ ---        ┆ RESTACIONAL   ┆ TACIONAL      ┆ ---       ┆ EL            ┆ N             ┆ _SALUD        ┆ ECFED         ┆ ---    ┆ ---           ┆ TICO         ┆ ---          ┆ MO           ┆ MO           ┆ EUTICA       ┆ REGADA       ┆ ---        │\n",
              "│ ---           ┆ ---           ┆ ---           ┆ i64  ┆ i8   ┆ str           ┆ ---           ┆ i64    ┆ str          ┆ str           ┆ str           ┆ i64        ┆ ---           ┆ ---           ┆ i64       ┆ ---           ┆ ---           ┆ ---           ┆ ---           ┆ str    ┆ str           ┆ ---          ┆ i8           ┆ ---          ┆ ---          ┆ ---          ┆ ---          ┆ f64        │\n",
              "│ i64           ┆ str           ┆ i64           ┆      ┆      ┆               ┆ i64           ┆        ┆              ┆               ┆               ┆            ┆ i64           ┆ str           ┆           ┆ str           ┆ i64           ┆ str           ┆ i8            ┆        ┆               ┆ str          ┆              ┆ i64          ┆ str          ┆ str          ┆ i64          ┆            │\n",
              "╞═══════════════╪═══════════════╪═══════════════╪══════╪══════╪═══════════════╪═══════════════╪════════╪══════════════╪═══════════════╪═══════════════╪════════════╪═══════════════╪═══════════════╪═══════════╪═══════════════╪═══════════════╪═══════════════╪═══════════════╪════════╪═══════════════╪══════════════╪══════════════╪══════════════╪══════════════╪══════════════╪══════════════╪════════════╡\n",
              "│ 202309        ┆ 18C9F497A5208 ┆ 19830209      ┆ 38   ┆ 0    ┆ DIABETES      ┆ null          ┆ 150108 ┆ LIMA         ┆ LIMA          ┆ CHORRILLOS    ┆ 1          ┆ 9             ┆ ATENCIÃN     ┆ 0         ┆ DM0042047563  ┆ 20220106      ┆ ENFERMERO(A)  ┆ 0             ┆ Z348   ┆ SUPERVISION   ┆ DEFINITIVO   ┆ 1            ┆ 20635        ┆ CALCIO       ┆ TAB          ┆ 60           ┆ 0.0        │\n",
              "│               ┆ F212E68D50C11 ┆               ┆      ┆      ┆ MELLITUS TIPO ┆               ┆        ┆              ┆               ┆               ┆            ┆               ┆ PRENATAL      ┆           ┆               ┆               ┆               ┆               ┆        ┆ DE OTROS      ┆              ┆              ┆              ┆ CARBONATO    ┆              ┆              ┆            │\n",
              "│               ┆ 2AFD…         ┆               ┆      ┆      ┆ 2             ┆               ┆        ┆              ┆               ┆               ┆            ┆               ┆               ┆           ┆               ┆               ┆               ┆               ┆        ┆ EMBARAZOS…    ┆              ┆              ┆              ┆              ┆              ┆              ┆            │\n",
              "│ 202309        ┆ 9ED115C3E24F0 ┆ 19550720      ┆ 67   ┆ 0    ┆ DIABETES      ┆ null          ┆ 150110 ┆ LIMA         ┆ LIMA          ┆ COMAS         ┆ 1          ┆ 56            ┆ CONSULTA      ┆ 0         ┆ DM0044094856  ┆ 20220801      ┆ MEDICO        ┆ 1             ┆ J00X   ┆ RINOFARINGITI ┆ DEFINITIVO   ┆ 1            ┆ 4982         ┆ NAPROXENO    ┆ TAB          ┆ 8            ┆ 0.0        │\n",
              "│               ┆ B26F8B2BAD384 ┆               ┆      ┆      ┆ MELLITUS TIPO ┆               ┆        ┆              ┆               ┆               ┆            ┆               ┆ EXTERNA       ┆           ┆               ┆               ┆               ┆               ┆        ┆ S AGUDA       ┆              ┆              ┆              ┆              ┆              ┆              ┆            │\n",
              "│               ┆ 9F2D…         ┆               ┆      ┆      ┆ 2             ┆               ┆        ┆              ┆               ┆               ┆            ┆               ┆               ┆           ┆               ┆               ┆               ┆               ┆        ┆ [RESFRIAD…    ┆              ┆              ┆              ┆              ┆              ┆              ┆            │\n",
              "│ 202309        ┆ 8B4E5D835EB16 ┆ 19590806      ┆ 62   ┆ 0    ┆ DIABETES      ┆ null          ┆ 60307  ┆ CAJAMARCA    ┆ CELENDÃN     ┆ MIGUEL        ┆ 1          ┆ 56            ┆ CONSULTA      ┆ 0         ┆ DM0042432103  ┆ 20220105      ┆ ENFERMERO(A)  ┆ 1             ┆ I10X   ┆ HIPERTENSION  ┆ REPETIDO     ┆ 1            ┆ 4523         ┆ LOSARTAN     ┆ TAB          ┆ 30           ┆ 0.0        │\n",
              "│               ┆ 92921C929529C ┆               ┆      ┆      ┆ MELLITUS TIPO ┆               ┆        ┆              ┆               ┆ IGLESIAS      ┆            ┆               ┆ EXTERNA       ┆           ┆               ┆               ┆               ┆               ┆        ┆ ESENCIAL      ┆              ┆              ┆              ┆ POTASICO     ┆              ┆              ┆            │\n",
              "│               ┆ 02CE…         ┆               ┆      ┆      ┆ 1             ┆               ┆        ┆              ┆               ┆               ┆            ┆               ┆               ┆           ┆               ┆               ┆               ┆               ┆        ┆ (PRIMARI…     ┆              ┆              ┆              ┆              ┆              ┆              ┆            │\n",
              "│ 202309        ┆ F85467AB4F0FC ┆ 19850814      ┆ 36   ┆ 0    ┆ DIABETES      ┆ null          ┆ 150143 ┆ LIMA         ┆ LIMA          ┆ VILLA MARÃA  ┆ 1          ┆ 62            ┆ ATENCIÃN POR ┆ 0         ┆ DM0040310575  ┆ 20220608      ┆ MEDICO        ┆ 0             ┆ J209   ┆ BRONQUITIS    ┆ DEFINITIVO   ┆ 1            ┆ 947          ┆ AZITROMICINA ┆ TAB          ┆ 5            ┆ 0.0        │\n",
              "│               ┆ 3096046A688EB ┆               ┆      ┆      ┆ MELLITUS NO   ┆               ┆        ┆              ┆               ┆ DEL TRIUNFO   ┆            ┆               ┆ EMERGENCIA    ┆           ┆               ┆               ┆               ┆               ┆        ┆ AGUDA  NO     ┆              ┆              ┆              ┆              ┆              ┆              ┆            │\n",
              "│               ┆ 2558…         ┆               ┆      ┆      ┆ ESPECIFIC…    ┆               ┆        ┆              ┆               ┆               ┆            ┆               ┆               ┆           ┆               ┆               ┆               ┆               ┆        ┆ ESPECIFIC…    ┆              ┆              ┆              ┆              ┆              ┆              ┆            │\n",
              "│ 202309        ┆ 17CFBEB082B78 ┆ 19550918      ┆ 66   ┆ 0    ┆ DIABETES      ┆ null          ┆ 150142 ┆ LIMA         ┆ LIMA          ┆ VILLA EL      ┆ 1          ┆ 56            ┆ CONSULTA      ┆ 0         ┆ DM0044700429  ┆ 20220630      ┆ MEDICO        ┆ 1             ┆ E119   ┆ DIABETES      ┆ DEFINITIVO   ┆ 1            ┆ 3758         ┆ GLIBENCLAMID ┆ TAB          ┆ 90           ┆ 4.5        │\n",
              "│               ┆ 87DE145A55D69 ┆               ┆      ┆      ┆ MELLITUS TIPO ┆               ┆        ┆              ┆               ┆ SALVADOR      ┆            ┆               ┆ EXTERNA       ┆           ┆               ┆               ┆               ┆               ┆        ┆ MELLITUS TIPO ┆              ┆              ┆              ┆ A            ┆              ┆              ┆            │\n",
              "│               ┆ 8F7B…         ┆               ┆      ┆      ┆ 2             ┆               ┆        ┆              ┆               ┆               ┆            ┆               ┆               ┆           ┆               ┆               ┆               ┆               ┆        ┆ 2 SIN M…      ┆              ┆              ┆              ┆              ┆              ┆              ┆            │\n",
              "│ 202309        ┆ 736D9EBCDD690 ┆ 19650102      ┆ 57   ┆ 0    ┆ DIABETES      ┆ null          ┆ 150132 ┆ LIMA         ┆ LIMA          ┆ SAN JUAN DE   ┆ 1          ┆ 56            ┆ CONSULTA      ┆ 0         ┆ DM0056517096  ┆ 20220411      ┆ MEDICO        ┆ 1             ┆ E785   ┆ HIPERLIPIDEMI ┆ REPETIDO     ┆ 1            ┆ 904          ┆ ATORVASTATIN ┆ TAB          ┆ 15           ┆ 0.0        │\n",
              "│               ┆ DF245186202B3 ┆               ┆      ┆      ┆ MELLITUS TIPO ┆               ┆        ┆              ┆               ┆ LURIGANCHO    ┆            ┆               ┆ EXTERNA       ┆           ┆               ┆               ┆               ┆               ┆        ┆ A NO          ┆              ┆              ┆              ┆ A (COMO SAL  ┆              ┆              ┆            │\n",
              "│               ┆ 3BA8…         ┆               ┆      ┆      ┆ 2             ┆               ┆        ┆              ┆               ┆               ┆            ┆               ┆               ┆           ┆               ┆               ┆               ┆               ┆        ┆ ESPECIFICADA  ┆              ┆              ┆              ┆ CALCIC…      ┆              ┆              ┆            │\n",
              "│ 202309        ┆ 0BA9C896DBB21 ┆ 19690902      ┆ 52   ┆ 1    ┆ DIABETES      ┆ null          ┆ 51107  ┆ AYACUCHO     ┆ VILCAS        ┆ SAURAMA       ┆ 1          ┆ 56            ┆ CONSULTA      ┆ 0         ┆ DM0042997257  ┆ 20220721      ┆ TEC.          ┆ 1             ┆ J039   ┆ AMIGDALITIS   ┆ DEFINITIVO   ┆ 1            ┆ 2149         ┆ CLORFENAMINA ┆ TAB          ┆ 5            ┆ 0.0        │\n",
              "│               ┆ 5860E1E575C4B ┆               ┆      ┆      ┆ MELLITUS TIPO ┆               ┆        ┆              ┆ HUAMÃN       ┆               ┆            ┆               ┆ EXTERNA       ┆           ┆               ┆               ┆ ENFERMERIA    ┆               ┆        ┆ AGUDA  NO     ┆              ┆              ┆              ┆ MALEATO      ┆              ┆              ┆            │\n",
              "│               ┆ D42F…         ┆               ┆      ┆      ┆ 2             ┆               ┆        ┆              ┆               ┆               ┆            ┆               ┆               ┆           ┆               ┆               ┆               ┆               ┆        ┆ ESPECIFI…     ┆              ┆              ┆              ┆              ┆              ┆              ┆            │\n",
              "│ 202309        ┆ 60CD668F25E7B ┆ 19930612      ┆ 29   ┆ 0    ┆ DIABETES      ┆ null          ┆ 150106 ┆ LIMA         ┆ LIMA          ┆ CARABAYLLO    ┆ 1          ┆ 9             ┆ ATENCIÃN     ┆ 0         ┆ DM0033583454  ┆ 20220624      ┆ ENFERMERO(A)  ┆ 0             ┆ Z348   ┆ SUPERVISION   ┆ DEFINITIVO   ┆ 1            ┆ 3513         ┆ ACIDO FOLICO ┆ TAB          ┆ 30           ┆ 0.0        │\n",
              "│               ┆ CDC64DE26BDAE ┆               ┆      ┆      ┆ MELLITUS NO   ┆               ┆        ┆              ┆               ┆               ┆            ┆               ┆ PRENATAL      ┆           ┆               ┆               ┆               ┆               ┆        ┆ DE OTROS      ┆              ┆              ┆              ┆ + FERROSO    ┆              ┆              ┆            │\n",
              "│               ┆ 0839…         ┆               ┆      ┆      ┆ ESPECIFIC…    ┆               ┆        ┆              ┆               ┆               ┆            ┆               ┆               ┆           ┆               ┆               ┆               ┆               ┆        ┆ EMBARAZOS…    ┆              ┆              ┆              ┆ SULFATO…     ┆              ┆              ┆            │\n",
              "│ 202309        ┆ 37B86FE74C4A6 ┆ 19700728      ┆ 51   ┆ 0    ┆ DIABETES      ┆ null          ┆ 160107 ┆ LORETO       ┆ MAYNAS        ┆ NAPO          ┆ 1          ┆ 56            ┆ CONSULTA      ┆ 0         ┆ DM0052671199  ┆ 20220420      ┆ PSICOLOGO     ┆ 0             ┆ E780   ┆ HIPERCOLESTER ┆ DEFINITIVO   ┆ 1            ┆ 903          ┆ ATORVASTATIN ┆ TAB          ┆ 30           ┆ 0.0        │\n",
              "│               ┆ 7B5953287BC74 ┆               ┆      ┆      ┆ MELLITUS TIPO ┆               ┆        ┆              ┆               ┆               ┆            ┆               ┆ EXTERNA       ┆           ┆               ┆               ┆               ┆               ┆        ┆ OLEMIA PURA   ┆              ┆              ┆              ┆ A (COMO SAL  ┆              ┆              ┆            │\n",
              "│               ┆ D693…         ┆               ┆      ┆      ┆ 2             ┆               ┆        ┆              ┆               ┆               ┆            ┆               ┆               ┆           ┆               ┆               ┆               ┆               ┆        ┆               ┆              ┆              ┆              ┆ CALCIC…      ┆              ┆              ┆            │\n",
              "│ 202309        ┆ 846FDAF0F065A ┆ 19540325      ┆ 68   ┆ 0    ┆ DIABETES      ┆ null          ┆ 230110 ┆ TACNA        ┆ TACNA         ┆ CORONEL       ┆ 1          ┆ 56            ┆ CONSULTA      ┆ 0         ┆ DM0052673530  ┆ 20220716      ┆ MEDICO        ┆ 1             ┆ M159   ┆ POLIARTROSIS  ┆ PRESUNTIVO   ┆ 1            ┆ 4982         ┆ NAPROXENO    ┆ TAB          ┆ 20           ┆ 0.0        │\n",
              "│               ┆ C319421C928B8 ┆               ┆      ┆      ┆ MELLITUS TIPO ┆               ┆        ┆              ┆               ┆ GREGORIO      ┆            ┆               ┆ EXTERNA       ┆           ┆               ┆               ┆               ┆               ┆        ┆ NO            ┆              ┆              ┆              ┆              ┆              ┆              ┆            │\n",
              "│               ┆ BE4D…         ┆               ┆      ┆      ┆ 2             ┆               ┆        ┆              ┆               ┆ ALBARRACÃN   ┆            ┆               ┆               ┆           ┆               ┆               ┆               ┆               ┆        ┆ ESPECIFICADA  ┆              ┆              ┆              ┆              ┆              ┆              ┆            │\n",
              "│               ┆               ┆               ┆      ┆      ┆               ┆               ┆        ┆              ┆               ┆ L…            ┆            ┆               ┆               ┆           ┆               ┆               ┆               ┆               ┆        ┆               ┆              ┆              ┆              ┆              ┆              ┆              ┆            │\n",
              "│ 202309        ┆ ED1C8BE18433F ┆ 19710506      ┆ 50   ┆ 0    ┆ DIABETES      ┆ null          ┆ 120305 ┆ JUNÃN       ┆ CHANCHAMAYO   ┆ SAN RAMÃN    ┆ 1          ┆ 56            ┆ CONSULTA      ┆ 0         ┆ DM0037180248  ┆ 20220215      ┆ MEDICO        ┆ 1             ┆ B373   ┆ CANDIDIASIS   ┆ DEFINITIVO   ┆ 1            ┆ 1930         ┆ CLARITROMICI ┆ TAB          ┆ 14           ┆ 0.0        │\n",
              "│               ┆ 0547A913747AB ┆               ┆      ┆      ┆ MELLITUS TIPO ┆               ┆        ┆              ┆               ┆               ┆            ┆               ┆ EXTERNA       ┆           ┆               ┆               ┆               ┆               ┆        ┆ DE LA VULVA Y ┆              ┆              ┆              ┆ NA           ┆              ┆              ┆            │\n",
              "│               ┆ D967…         ┆               ┆      ┆      ┆ 2             ┆               ┆        ┆              ┆               ┆               ┆            ┆               ┆               ┆           ┆               ┆               ┆               ┆               ┆        ┆ DE L…         ┆              ┆              ┆              ┆              ┆              ┆              ┆            │\n",
              "│ 202309        ┆ 5A7392F046509 ┆ 19600328      ┆ 61   ┆ 0    ┆ DIABETES      ┆ 20240124      ┆ 160108 ┆ LORETO       ┆ MAYNAS        ┆ PUNCHANA      ┆ 1          ┆ 56            ┆ CONSULTA      ┆ 0         ┆ DM0047387718  ┆ 20220207      ┆ MEDICO        ┆ 1             ┆ E119   ┆ DIABETES      ┆ REPETIDO     ┆ 1            ┆ 3758         ┆ GLIBENCLAMID ┆ TAB          ┆ 120          ┆ 4.8        │\n",
              "│               ┆ 2CA7A24B5C5A1 ┆               ┆      ┆      ┆ MELLITUS TIPO ┆               ┆        ┆              ┆               ┆               ┆            ┆               ┆ EXTERNA       ┆           ┆               ┆               ┆               ┆               ┆        ┆ MELLITUS TIPO ┆              ┆              ┆              ┆ A            ┆              ┆              ┆            │\n",
              "│               ┆ 5170…         ┆               ┆      ┆      ┆ 2             ┆               ┆        ┆              ┆               ┆               ┆            ┆               ┆               ┆           ┆               ┆               ┆               ┆               ┆        ┆ 2 SIN M…      ┆              ┆              ┆              ┆              ┆              ┆              ┆            │\n",
              "│ 202309        ┆ 833DE8D58E3EE ┆ 19610331      ┆ 60   ┆ 1    ┆ DIABETES      ┆ null          ┆ 70101  ┆ CALLAO       ┆ PROV. CONST.  ┆ CALLAO        ┆ 1          ┆ 56            ┆ CONSULTA      ┆ 0         ┆ DM0047462609  ┆ 20220216      ┆ MEDICO        ┆ 0             ┆ I48X   ┆ FIBRILACION Y ┆ DEFINITIVO   ┆ 1            ┆ 91           ┆ ACIDO ACETIL ┆ TAB          ┆ 30           ┆ 0.0        │\n",
              "│               ┆ 4B35088B3BF96 ┆               ┆      ┆      ┆ MELLITUS TIPO ┆               ┆        ┆              ┆ DEL CALLAO    ┆               ┆            ┆               ┆ EXTERNA       ┆           ┆               ┆               ┆               ┆               ┆        ┆ ALETEO        ┆              ┆              ┆              ┆ SALICILICO   ┆              ┆              ┆            │\n",
              "│               ┆ 3CF2…         ┆               ┆      ┆      ┆ 2             ┆               ┆        ┆              ┆               ┆               ┆            ┆               ┆               ┆           ┆               ┆               ┆               ┆               ┆        ┆ AURICULAR     ┆              ┆              ┆              ┆              ┆              ┆              ┆            │\n",
              "│ 202309        ┆ 68AB3F9F787C8 ┆ 19420101      ┆ 80   ┆ 1    ┆ DIABETES      ┆ null          ┆ 150110 ┆ LIMA         ┆ LIMA          ┆ COMAS         ┆ 1          ┆ 56            ┆ CONSULTA      ┆ 0         ┆ DM0047547025  ┆ 20220209      ┆ MEDICO        ┆ 1             ┆ I10X   ┆ HIPERTENSION  ┆ REPETIDO     ┆ 1            ┆ 4523         ┆ LOSARTAN     ┆ TAB          ┆ 60           ┆ 4.2        │\n",
              "│               ┆ B04E795005FA9 ┆               ┆      ┆      ┆ MELLITUS TIPO ┆               ┆        ┆              ┆               ┆               ┆            ┆               ┆ EXTERNA       ┆           ┆               ┆               ┆               ┆               ┆        ┆ ESENCIAL      ┆              ┆              ┆              ┆ POTASICO     ┆              ┆              ┆            │\n",
              "│               ┆ 158A…         ┆               ┆      ┆      ┆ 2             ┆               ┆        ┆              ┆               ┆               ┆            ┆               ┆               ┆           ┆               ┆               ┆               ┆               ┆        ┆ (PRIMARI…     ┆              ┆              ┆              ┆              ┆              ┆              ┆            │\n",
              "│ …             ┆ …             ┆ …             ┆ …    ┆ …    ┆ …             ┆ …             ┆ …      ┆ …            ┆ …             ┆ …             ┆ …          ┆ …             ┆ …             ┆ …         ┆ …             ┆ …             ┆ …             ┆ …             ┆ …      ┆ …             ┆ …            ┆ …            ┆ …            ┆ …            ┆ …            ┆ …            ┆ …          │\n",
              "│ 202309        ┆ 6172C76B58C1F ┆ 19480106      ┆ 74   ┆ 0    ┆ DIABETES      ┆ null          ┆ 80906  ┆ CUSCO        ┆ LA            ┆ QUELLOUNO     ┆ 1          ┆ 75            ┆ ATENCIÃN     ┆ 0         ┆ DM0046425366  ┆ 20220721      ┆ ENFERMERO(A)  ┆ 1             ┆ Z724   ┆ PROBLEMAS     ┆ DEFINITIVO   ┆ 2            ┆ 99403        ┆ ConsejerÃ­a   ┆ null         ┆ 1            ┆ 0.0        │\n",
              "│               ┆ 5AD75AAB032DC ┆               ┆      ┆      ┆ MELLITUS NO   ┆               ┆        ┆              ┆ CONVENCIÃN   ┆               ┆            ┆               ┆ EXTRAMURAL    ┆           ┆               ┆               ┆               ┆               ┆        ┆ RELACIONADOS  ┆              ┆              ┆              ┆ en medicina  ┆              ┆              ┆            │\n",
              "│               ┆ 50A6…         ┆               ┆      ┆      ┆ ESPECIFIC…    ┆               ┆        ┆              ┆               ┆               ┆            ┆               ┆ RURAL (VI…    ┆           ┆               ┆               ┆               ┆               ┆        ┆ CON LA …      ┆              ┆              ┆              ┆ preven…      ┆              ┆              ┆            │\n",
              "│ 202309        ┆ 8AE080404F678 ┆ 19681113      ┆ 53   ┆ 0    ┆ DIABETES      ┆ null          ┆ 150137 ┆ LIMA         ┆ LIMA          ┆ SANTA ANITA   ┆ 1          ┆ 56            ┆ CONSULTA      ┆ 0         ┆ DM0049279846  ┆ 20220726      ┆ MEDICO        ┆ 1             ┆ I10X   ┆ HIPERTENSION  ┆ DEFINITIVO   ┆ 1            ┆ 91           ┆ ACIDO ACETIL ┆ TAB          ┆ 60           ┆ 0.0        │\n",
              "│               ┆ 240A31D305D4F ┆               ┆      ┆      ┆ MELLITUS TIPO ┆               ┆        ┆              ┆               ┆               ┆            ┆               ┆ EXTERNA       ┆           ┆               ┆               ┆               ┆               ┆        ┆ ESENCIAL      ┆              ┆              ┆              ┆ SALICILICO   ┆              ┆              ┆            │\n",
              "│               ┆ 2F29…         ┆               ┆      ┆      ┆ 2             ┆               ┆        ┆              ┆               ┆               ┆            ┆               ┆               ┆           ┆               ┆               ┆               ┆               ┆        ┆ (PRIMARI…     ┆              ┆              ┆              ┆              ┆              ┆              ┆            │\n",
              "│ 202309        ┆ 1F4C0B7C90DBF ┆ 19920108      ┆ 30   ┆ 1    ┆ DIABETES      ┆ null          ┆ 230110 ┆ TACNA        ┆ TACNA         ┆ CORONEL       ┆ 1          ┆ 71            ┆ APOYO AL      ┆ 0         ┆ DM0056364476  ┆ 20220527      ┆ AUXILIAR DE   ┆ 1             ┆ Z017   ┆ EXAMEN DE     ┆ DEFINITIVO   ┆ 2            ┆ 84460        ┆ Transferasa; ┆ null         ┆ 1            ┆ 0.0        │\n",
              "│               ┆ 6A74F75C51B55 ┆               ┆      ┆      ┆ MELLITUS TIPO ┆               ┆        ┆              ┆               ┆ GREGORIO      ┆            ┆               ┆ DIAGNÃSTICO  ┆           ┆               ┆               ┆ ENFERMERIA    ┆               ┆        ┆ LABORATORIO   ┆              ┆              ┆              ┆ amino        ┆              ┆              ┆            │\n",
              "│               ┆ 48F9…         ┆               ┆      ┆      ┆ 2             ┆               ┆        ┆              ┆               ┆ ALBARRACÃN   ┆            ┆               ┆               ┆           ┆               ┆               ┆               ┆               ┆        ┆               ┆              ┆              ┆              ┆ alanina (AL… ┆              ┆              ┆            │\n",
              "│               ┆               ┆               ┆      ┆      ┆               ┆               ┆        ┆              ┆               ┆ L…            ┆            ┆               ┆               ┆           ┆               ┆               ┆               ┆               ┆        ┆               ┆              ┆              ┆              ┆              ┆              ┆              ┆            │\n",
              "│ 202309        ┆ 8B7A479E4A4A0 ┆ 19850903      ┆ 36   ┆ 0    ┆ DIABETES      ┆ 20231126      ┆ 220104 ┆ SAN MARTÃN  ┆ MOYOBAMBA     ┆ JEPELACIO     ┆ 1          ┆ 18            ┆ SALUD         ┆ 0         ┆ DM0029477503  ┆ 20220705      ┆ ENFERMERO(A)  ┆ 1             ┆ Z304   ┆ SUPERVISION   ┆ DEFINITIVO   ┆ 0            ┆ 16657        ┆ JERINGA      ┆ UNI          ┆ 1            ┆ 0.0        │\n",
              "│               ┆ 22BC488CF6066 ┆               ┆      ┆      ┆ MELLITUS NO   ┆               ┆        ┆              ┆               ┆               ┆            ┆               ┆ REPRODUCTIVA  ┆           ┆               ┆               ┆               ┆               ┆        ┆ DEL USO DE    ┆              ┆              ┆              ┆ DESCARTABLE  ┆              ┆              ┆            │\n",
              "│               ┆ 0345…         ┆               ┆      ┆      ┆ ESPECIFIC…    ┆               ┆        ┆              ┆               ┆               ┆            ┆               ┆ (PLANIFICAC…  ┆           ┆               ┆               ┆               ┆               ┆        ┆ DROGAS …      ┆              ┆              ┆              ┆ 3 mL CON A…  ┆              ┆              ┆            │\n",
              "│ 202309        ┆ 7AC54D246D37E ┆ 19610206      ┆ 61   ┆ 0    ┆ DIABETES      ┆ null          ┆ 80910  ┆ CUSCO        ┆ LA            ┆ PICHARI       ┆ 1          ┆ 56            ┆ CONSULTA      ┆ 0         ┆ DM0031907985  ┆ 20220324      ┆ MEDICO        ┆ 1             ┆ E109   ┆ DIABETES      ┆ DEFINITIVO   ┆ 1            ┆ 4696         ┆ METFORMINA   ┆ TAB          ┆ 60           ┆ 0.0        │\n",
              "│               ┆ 2684089449247 ┆               ┆      ┆      ┆ MELLITUS TIPO ┆               ┆        ┆              ┆ CONVENCIÃN   ┆               ┆            ┆               ┆ EXTERNA       ┆           ┆               ┆               ┆               ┆               ┆        ┆ MELLITUS TIPO ┆              ┆              ┆              ┆ CLORHIDRATO  ┆              ┆              ┆            │\n",
              "│               ┆ E578…         ┆               ┆      ┆      ┆ 2             ┆               ┆        ┆              ┆               ┆               ┆            ┆               ┆               ┆           ┆               ┆               ┆               ┆               ┆        ┆ 1 SIN M…      ┆              ┆              ┆              ┆              ┆              ┆              ┆            │\n",
              "│ 202309        ┆ CDD953CD2C6A9 ┆ 19610601      ┆ 61   ┆ 1    ┆ DIABETES      ┆ null          ┆ 150133 ┆ LIMA         ┆ LIMA          ┆ SAN JUAN DE   ┆ 1          ┆ 56            ┆ CONSULTA      ┆ 0         ┆ DM0036958943  ┆ 20220723      ┆ MEDICO        ┆ 1             ┆ J029   ┆ FARINGITIS    ┆ DEFINITIVO   ┆ 1            ┆ 5335         ┆ PARACETAMOL  ┆ TAB          ┆ 10           ┆ 0.0        │\n",
              "│               ┆ 1FC8E3E4F1BAE ┆               ┆      ┆      ┆ MELLITUS NO   ┆               ┆        ┆              ┆               ┆ MIRAFLORES    ┆            ┆               ┆ EXTERNA       ┆           ┆               ┆               ┆               ┆               ┆        ┆ AGUDA  NO     ┆              ┆              ┆              ┆              ┆              ┆              ┆            │\n",
              "│               ┆ 7A3E…         ┆               ┆      ┆      ┆ ESPECIFIC…    ┆               ┆        ┆              ┆               ┆               ┆            ┆               ┆               ┆           ┆               ┆               ┆               ┆               ┆        ┆ ESPECIFIC…    ┆              ┆              ┆              ┆              ┆              ┆              ┆            │\n",
              "│ 202309        ┆ C58486B6A552D ┆ 19511015      ┆ 70   ┆ 0    ┆ DIABETES      ┆ null          ┆ 150106 ┆ LIMA         ┆ LIMA          ┆ CARABAYLLO    ┆ 1          ┆ 56            ┆ CONSULTA      ┆ 0         ┆ DM0046766197  ┆ 20220325      ┆ MEDICO        ┆ 1             ┆ M545   ┆ LUMBAGO NO    ┆ DEFINITIVO   ┆ 2            ┆ 99403        ┆ ConsejerÃ­a   ┆ null         ┆ 1            ┆ 0.0        │\n",
              "│               ┆ 79D2D17A39481 ┆               ┆      ┆      ┆ MELLITUS NO   ┆               ┆        ┆              ┆               ┆               ┆            ┆               ┆ EXTERNA       ┆           ┆               ┆               ┆               ┆               ┆        ┆ ESPECIFICADO  ┆              ┆              ┆              ┆ en medicina  ┆              ┆              ┆            │\n",
              "│               ┆ D8AD…         ┆               ┆      ┆      ┆ ESPECIFIC…    ┆               ┆        ┆              ┆               ┆               ┆            ┆               ┆               ┆           ┆               ┆               ┆               ┆               ┆        ┆               ┆              ┆              ┆              ┆ preven…      ┆              ┆              ┆            │\n",
              "│ 202309        ┆ 1AE725A906B28 ┆ 19541018      ┆ 67   ┆ 1    ┆ DIABETES      ┆ null          ┆ 150128 ┆ LIMA         ┆ LIMA          ┆ RÃMAC        ┆ 1          ┆ 56            ┆ CONSULTA      ┆ 0         ┆ DM0057083815  ┆ 20220725      ┆ MEDICO        ┆ 1             ┆ E149   ┆ DIABETES      ┆ REPETIDO     ┆ 1            ┆ 3758         ┆ GLIBENCLAMID ┆ TAB          ┆ 60           ┆ 2.4        │\n",
              "│               ┆ 43335611B0963 ┆               ┆      ┆      ┆ MELLITUS TIPO ┆               ┆        ┆              ┆               ┆               ┆            ┆               ┆ EXTERNA       ┆           ┆               ┆               ┆               ┆               ┆        ┆ MELLITUS  NO  ┆              ┆              ┆              ┆ A            ┆              ┆              ┆            │\n",
              "│               ┆ 3303…         ┆               ┆      ┆      ┆ 2             ┆               ┆        ┆              ┆               ┆               ┆            ┆               ┆               ┆           ┆               ┆               ┆               ┆               ┆        ┆ ESPECIFI…     ┆              ┆              ┆              ┆              ┆              ┆              ┆            │\n",
              "│ 202309        ┆ E9807B5A114B0 ┆ 19731214      ┆ 48   ┆ 0    ┆ DIABETES      ┆ null          ┆ 150703 ┆ LIMA         ┆ HUAROCHIRÃ   ┆ CALLAHUANCA   ┆ 1          ┆ 18            ┆ SALUD         ┆ 0         ┆ DM0060362804  ┆ 20220425      ┆ ENFERMERO(A)  ┆ 1             ┆ Z300   ┆ CONSEJO Y     ┆ DEFINITIVO   ┆ 2            ┆ 99402        ┆ ConsejerÃ­a   ┆ null         ┆ 1            ┆ 0.0        │\n",
              "│               ┆ 74EBA7619285A ┆               ┆      ┆      ┆ MELLITUS TIPO ┆               ┆        ┆              ┆               ┆               ┆            ┆               ┆ REPRODUCTIVA  ┆           ┆               ┆               ┆               ┆               ┆        ┆ ASESORAMIENTO ┆              ┆              ┆              ┆ en medicina  ┆              ┆              ┆            │\n",
              "│               ┆ BC2D…         ┆               ┆      ┆      ┆ 2             ┆               ┆        ┆              ┆               ┆               ┆            ┆               ┆ (PLANIFICAC…  ┆           ┆               ┆               ┆               ┆               ┆        ┆ GENERA…       ┆              ┆              ┆              ┆ preven…      ┆              ┆              ┆            │\n",
              "│ 202309        ┆ 4BAE1545D058A ┆ 19621002      ┆ 59   ┆ 0    ┆ DIABETES      ┆ null          ┆ 140101 ┆ LAMBAYEQUE   ┆ CHICLAYO      ┆ CHICLAYO      ┆ 1          ┆ 56            ┆ CONSULTA      ┆ 0         ┆ DM0026763253  ┆ 20220610      ┆ MEDICO        ┆ 1             ┆ I10X   ┆ HIPERTENSION  ┆ DEFINITIVO   ┆ 3            ┆ null         ┆ null         ┆ null         ┆ null         ┆ null       │\n",
              "│               ┆ 104CB0CD377EA ┆               ┆      ┆      ┆ MELLITUS TIPO ┆               ┆        ┆              ┆               ┆               ┆            ┆               ┆ EXTERNA       ┆           ┆               ┆               ┆               ┆               ┆        ┆ ESENCIAL      ┆              ┆              ┆              ┆              ┆              ┆              ┆            │\n",
              "│               ┆ CFF6…         ┆               ┆      ┆      ┆ 2             ┆               ┆        ┆              ┆               ┆               ┆            ┆               ┆               ┆           ┆               ┆               ┆               ┆               ┆        ┆ (PRIMARI…     ┆              ┆              ┆              ┆              ┆              ┆              ┆            │\n",
              "│ 202309        ┆ ACBB2243A23B3 ┆ 19930605      ┆ 28   ┆ 0    ┆ DIABETES      ┆ null          ┆ 140106 ┆ LAMBAYEQUE   ┆ CHICLAYO      ┆ LA VICTORIA   ┆ 1          ┆ 904           ┆ ATENCIÃN     ┆ 0         ┆ DM0031065494  ┆ 20220409      ┆ TEC.          ┆ 0             ┆ E669   ┆ OBESIDAD  NO  ┆ DEFINITIVO   ┆ 2            ┆ 99401        ┆ ConsejerÃ­a   ┆ null         ┆ 1            ┆ 0.0        │\n",
              "│               ┆ FBC87CBC8A896 ┆               ┆      ┆      ┆ MELLITUS TIPO ┆               ┆        ┆              ┆               ┆               ┆            ┆               ┆ INTEGRAL DE   ┆           ┆               ┆               ┆ ENFERMERIA    ┆               ┆        ┆ ESPECIFICADA  ┆              ┆              ┆              ┆ en medicina  ┆              ┆              ┆            │\n",
              "│               ┆ E8BD…         ┆               ┆      ┆      ┆ 2             ┆               ┆        ┆              ┆               ┆               ┆            ┆               ┆ SALUD DE…     ┆           ┆               ┆               ┆               ┆               ┆        ┆               ┆              ┆              ┆              ┆ preven…      ┆              ┆              ┆            │\n",
              "│ 202309        ┆ BF6F765B9C6E9 ┆ 19810617      ┆ 40   ┆ 0    ┆ DIABETES      ┆ null          ┆ 50407  ┆ AYACUCHO     ┆ HUANTA        ┆ SIVIA         ┆ 2          ┆ 56            ┆ CONSULTA      ┆ 0         ┆ DM0049279414  ┆ 20220408      ┆ MEDICO        ┆ 1             ┆ E119   ┆ DIABETES      ┆ DEFINITIVO   ┆ 2            ┆ 82465        ┆ Dosaje de    ┆ null         ┆ 1            ┆ 4.27       │\n",
              "│               ┆ DC6EEA7AF814D ┆               ┆      ┆      ┆ MELLITUS TIPO ┆               ┆        ┆              ┆               ┆               ┆            ┆               ┆ EXTERNA       ┆           ┆               ┆               ┆               ┆               ┆        ┆ MELLITUS TIPO ┆              ┆              ┆              ┆ colesterol   ┆              ┆              ┆            │\n",
              "│               ┆ BD6A…         ┆               ┆      ┆      ┆ 2             ┆               ┆        ┆              ┆               ┆               ┆            ┆               ┆               ┆           ┆               ┆               ┆               ┆               ┆        ┆ 2 SIN M…      ┆              ┆              ┆              ┆ total en …   ┆              ┆              ┆            │\n",
              "│ 202309        ┆ E61A9207C93CC ┆ 19571010      ┆ 64   ┆ 1    ┆ DIABETES      ┆ null          ┆ 220601 ┆ SAN MARTÃN  ┆ MARISCAL      ┆ JUANJUÃ      ┆ 2          ┆ 71            ┆ APOYO AL      ┆ 0         ┆ DM0065208386  ┆ 20220407      ┆ OBSTETRIZ     ┆ 0             ┆ E789   ┆ TRASTORNO DEL ┆ PRESUNTIVO   ┆ 0            ┆ 31963        ┆ TIRA         ┆ KIT          ┆ 1            ┆ 0.0        │\n",
              "│               ┆ 140C64BB93735 ┆               ┆      ┆      ┆ MELLITUS TIPO ┆               ┆        ┆              ┆ CÃCERES      ┆               ┆            ┆               ┆ DIAGNÃSTICO  ┆           ┆               ┆               ┆               ┆               ┆        ┆ METABOLISMO   ┆              ┆              ┆              ┆ REACTIVA     ┆              ┆              ┆            │\n",
              "│               ┆ F7E5…         ┆               ┆      ┆      ┆ 2             ┆               ┆        ┆              ┆               ┆               ┆            ┆               ┆               ┆           ┆               ┆               ┆               ┆               ┆        ┆ DE L…         ┆              ┆              ┆              ┆ PARA ORINA   ┆              ┆              ┆            │\n",
              "│               ┆               ┆               ┆      ┆      ┆               ┆               ┆        ┆              ┆               ┆               ┆            ┆               ┆               ┆           ┆               ┆               ┆               ┆               ┆        ┆               ┆              ┆              ┆              ┆ DE 10…       ┆              ┆              ┆            │\n",
              "│ 202309        ┆ 8D0D6B56ABF21 ┆ 19620818      ┆ 59   ┆ 1    ┆ DIABETES      ┆ null          ┆ 160305 ┆ LORETO       ┆ LORETO        ┆ URARINAS      ┆ 1          ┆ 62            ┆ ATENCIÃN POR ┆ 0         ┆ DM0035358832  ┆ 20220614      ┆ MEDICO        ┆ 1             ┆ K210   ┆ ENFERMEDAD    ┆ DEFINITIVO   ┆ 1            ┆ 5873         ┆ SODIO        ┆ INY          ┆ 1            ┆ 0.0        │\n",
              "│               ┆ 55C6F96371CAB ┆               ┆      ┆      ┆ MELLITUS NO   ┆               ┆        ┆              ┆               ┆               ┆            ┆               ┆ EMERGENCIA    ┆           ┆               ┆               ┆               ┆               ┆        ┆ DEL REFLUJO   ┆              ┆              ┆              ┆ CLORURO      ┆              ┆              ┆            │\n",
              "│               ┆ BFF1…         ┆               ┆      ┆      ┆ ESPECIFIC…    ┆               ┆        ┆              ┆               ┆               ┆            ┆               ┆               ┆           ┆               ┆               ┆               ┆               ┆        ┆ GASTROE…      ┆              ┆              ┆              ┆              ┆              ┆              ┆            │\n",
              "└───────────────┴───────────────┴───────────────┴──────┴──────┴───────────────┴───────────────┴────────┴──────────────┴───────────────┴───────────────┴────────────┴───────────────┴───────────────┴───────────┴───────────────┴───────────────┴───────────────┴───────────────┴────────┴───────────────┴──────────────┴──────────────┴──────────────┴──────────────┴──────────────┴──────────────┴────────────┘"
            ]
          },
          "execution_count": 54,
          "metadata": {},
          "output_type": "execute_result"
        }
      ],
      "source": [
        "import polars as pl\n",
        "\n",
        "pl.Config.set_tbl_cols(100)  # or a large enough number to cover all your columns\n",
        "pl.Config.set_tbl_width_chars(400)  # increase width if needed\n",
        "\n",
        "df.filter(pl.col(\"DIAS_HOSP\") == 0)\n"
      ]
    },
    {
      "cell_type": "code",
      "execution_count": 57,
      "metadata": {},
      "outputs": [
        {
          "data": {
            "text/html": [
              "<div><style>\n",
              ".dataframe > thead > tr,\n",
              ".dataframe > tbody > tr {\n",
              "  text-align: right;\n",
              "  white-space: pre-wrap;\n",
              "}\n",
              "</style>\n",
              "<small>shape: (138, 28)</small><table border=\"1\" class=\"dataframe\"><thead><tr><th>ULTIMO_MES_CONSUMOS</th><th>CODIGO_ANONIMIZADO</th><th>FECHA_NACIMIENTO</th><th>EDAD</th><th>SEXO</th><th>TIPO_DIABETES</th><th>FECHA_FALLECIMIENTO</th><th>UBIGEO</th><th>DEPARTAMENTO</th><th>PROVINCIA</th><th>DISTRITO</th><th>NIVEL_EESS</th><th>CODIGO_SERV_PRESTACIONAL</th><th>SERVICIO_PRESTACIONAL</th><th>DIAS_HOSP</th><th>ID_REGISTRO_REL</th><th>FECHA_ATENCION</th><th>TIPO_PERSONAL_SALUD</th><th>FECATE_POST_FECFED</th><th>CODDIA</th><th>C10_NOMBRE</th><th>TIPO_DIAGNOSTICO</th><th>TIPO_CONSUMO</th><th>CODIGO_CONSUMO</th><th>NOMBRE_CONSUMO</th><th>FORMA_FARMACEUTICA</th><th>CANTIDAD_ENTREGADA</th><th>VALOR_NETO</th></tr><tr><td>i64</td><td>str</td><td>i64</td><td>i64</td><td>i8</td><td>str</td><td>i64</td><td>i64</td><td>str</td><td>str</td><td>str</td><td>i64</td><td>i64</td><td>str</td><td>i64</td><td>str</td><td>i64</td><td>str</td><td>i8</td><td>str</td><td>str</td><td>str</td><td>i8</td><td>i64</td><td>str</td><td>str</td><td>i64</td><td>f64</td></tr></thead><tbody><tr><td>202309</td><td>&quot;E61A9207C93CC140C64BB93735F7E5…</td><td>19571010</td><td>64</td><td>1</td><td>&quot;DIABETES MELLITUS TIPO 2&quot;</td><td>null</td><td>220204</td><td>&quot;SAN MARTÃN&quot;</td><td>&quot;BELLAVISTA&quot;</td><td>&quot;HUALLAGA&quot;</td><td>1</td><td>910</td><td>&quot;TELEMONITOREO CON PRESCRIPCIÃ…</td><td>null</td><td>&quot;DM0040911071&quot;</td><td>20220923</td><td>&quot;PSICOLOGO&quot;</td><td>0</td><td>&quot;E149&quot;</td><td>&quot;DIABETES MELLITUS&nbsp;&nbsp;NO ESPECIFI…</td><td>&quot;REPETIDO&nbsp;&nbsp;&nbsp;&nbsp;&nbsp;&nbsp;&nbsp;&quot;</td><td>2</td><td>null</td><td>&quot;Telemonitoreo&quot;</td><td>null</td><td>1</td><td>0.0</td></tr><tr><td>202309</td><td>&quot;E61A9207C93CC140C64BB93735F7E5…</td><td>19571010</td><td>65</td><td>1</td><td>&quot;DIABETES MELLITUS TIPO 2&quot;</td><td>null</td><td>220601</td><td>&quot;SAN MARTÃN&quot;</td><td>&quot;MARISCAL CÃCERES&quot;</td><td>&quot;JUANJUÃ&quot;</td><td>2</td><td>71</td><td>&quot;APOYO AL DIAGNÃSTICO&quot;</td><td>null</td><td>&quot;DM0046235051&quot;</td><td>20230503</td><td>&quot;OBSTETRIZ&quot;</td><td>0</td><td>&quot;E119&quot;</td><td>&quot;DIABETES MELLITUS TIPO 2 SIN M…</td><td>&quot;PRESUNTIVO&nbsp;&nbsp;&nbsp;&nbsp;&nbsp;&quot;</td><td>0</td><td>24728</td><td>&quot;COLESTEROL TOTAL ENZIMATICO AU…</td><td>&quot;KIT&quot;</td><td>1</td><td>0.0</td></tr><tr><td>202309</td><td>&quot;E61A9207C93CC140C64BB93735F7E5…</td><td>19571010</td><td>65</td><td>1</td><td>&quot;DIABETES MELLITUS TIPO 2&quot;</td><td>null</td><td>220601</td><td>&quot;SAN MARTÃN&quot;</td><td>&quot;MARISCAL CÃCERES&quot;</td><td>&quot;JUANJUÃ&quot;</td><td>2</td><td>71</td><td>&quot;APOYO AL DIAGNÃSTICO&quot;</td><td>null</td><td>&quot;DM0065969415&quot;</td><td>20230804</td><td>&quot;OBSTETRIZ&quot;</td><td>1</td><td>&quot;E119&quot;</td><td>&quot;DIABETES MELLITUS TIPO 2 SIN M…</td><td>&quot;PRESUNTIVO&nbsp;&nbsp;&nbsp;&nbsp;&nbsp;&quot;</td><td>0</td><td>10436</td><td>&quot;TUBO CAPILARES PARA HEMATOCRIT…</td><td>&quot;UNI&quot;</td><td>1</td><td>0.0</td></tr><tr><td>202309</td><td>&quot;E61A9207C93CC140C64BB93735F7E5…</td><td>19571010</td><td>65</td><td>1</td><td>&quot;DIABETES MELLITUS TIPO 2&quot;</td><td>null</td><td>220204</td><td>&quot;SAN MARTÃN&quot;</td><td>&quot;BELLAVISTA&quot;</td><td>&quot;HUALLAGA&quot;</td><td>1</td><td>910</td><td>&quot;TELEMONITOREO CON PRESCRIPCIÃ…</td><td>null</td><td>&quot;DM0064528597&quot;</td><td>20230324</td><td>&quot;PSICOLOGO&quot;</td><td>0</td><td>&quot;E149&quot;</td><td>&quot;DIABETES MELLITUS&nbsp;&nbsp;NO ESPECIFI…</td><td>&quot;REPETIDO&nbsp;&nbsp;&nbsp;&nbsp;&nbsp;&nbsp;&nbsp;&quot;</td><td>2</td><td>null</td><td>&quot;Telemonitoreo&quot;</td><td>null</td><td>1</td><td>0.0</td></tr><tr><td>202309</td><td>&quot;E61A9207C93CC140C64BB93735F7E5…</td><td>19571010</td><td>65</td><td>1</td><td>&quot;DIABETES MELLITUS TIPO 2&quot;</td><td>null</td><td>220601</td><td>&quot;SAN MARTÃN&quot;</td><td>&quot;MARISCAL CÃCERES&quot;</td><td>&quot;JUANJUÃ&quot;</td><td>2</td><td>71</td><td>&quot;APOYO AL DIAGNÃSTICO&quot;</td><td>null</td><td>&quot;DM0046235051&quot;</td><td>20230503</td><td>&quot;OBSTETRIZ&quot;</td><td>0</td><td>&quot;E119&quot;</td><td>&quot;DIABETES MELLITUS TIPO 2 SIN M…</td><td>&quot;PRESUNTIVO&nbsp;&nbsp;&nbsp;&nbsp;&nbsp;&quot;</td><td>2</td><td>85018</td><td>&quot;Hemoglobina&quot;</td><td>null</td><td>1</td><td>0.0</td></tr><tr><td>202309</td><td>&quot;E61A9207C93CC140C64BB93735F7E5…</td><td>19571010</td><td>64</td><td>1</td><td>&quot;DIABETES MELLITUS TIPO 2&quot;</td><td>null</td><td>220601</td><td>&quot;SAN MARTÃN&quot;</td><td>&quot;MARISCAL CÃCERES&quot;</td><td>&quot;JUANJUÃ&quot;</td><td>2</td><td>71</td><td>&quot;APOYO AL DIAGNÃSTICO&quot;</td><td>0</td><td>&quot;DM0065208386&quot;</td><td>20220407</td><td>&quot;OBSTETRIZ&quot;</td><td>0</td><td>&quot;E789&quot;</td><td>&quot;TRASTORNO DEL METABOLISMO DE L…</td><td>&quot;PRESUNTIVO&nbsp;&nbsp;&nbsp;&nbsp;&nbsp;&quot;</td><td>0</td><td>31386</td><td>&quot;LAMINILLA CUBRE OBJETO 25 mm X…</td><td>&quot;UNI&quot;</td><td>1</td><td>0.0</td></tr><tr><td>202309</td><td>&quot;E61A9207C93CC140C64BB93735F7E5…</td><td>19571010</td><td>65</td><td>1</td><td>&quot;DIABETES MELLITUS TIPO 2&quot;</td><td>null</td><td>220601</td><td>&quot;SAN MARTÃN&quot;</td><td>&quot;MARISCAL CÃCERES&quot;</td><td>&quot;JUANJUÃ&quot;</td><td>2</td><td>71</td><td>&quot;APOYO AL DIAGNÃSTICO&quot;</td><td>null</td><td>&quot;DM0045670333&quot;</td><td>20230508</td><td>&quot;OBSTETRIZ&quot;</td><td>1</td><td>&quot;E119&quot;</td><td>&quot;DIABETES MELLITUS TIPO 2 SIN M…</td><td>&quot;PRESUNTIVO&nbsp;&nbsp;&nbsp;&nbsp;&nbsp;&quot;</td><td>0</td><td>31340</td><td>&quot;TUBO PARA EXTRACCION DE SANGRE…</td><td>&quot;UNI&quot;</td><td>1</td><td>0.0</td></tr><tr><td>202309</td><td>&quot;E61A9207C93CC140C64BB93735F7E5…</td><td>19571010</td><td>65</td><td>1</td><td>&quot;DIABETES MELLITUS TIPO 2&quot;</td><td>null</td><td>220601</td><td>&quot;SAN MARTÃN&quot;</td><td>&quot;MARISCAL CÃCERES&quot;</td><td>&quot;JUANJUÃ&quot;</td><td>2</td><td>71</td><td>&quot;APOYO AL DIAGNÃSTICO&quot;</td><td>null</td><td>&quot;DM0065969415&quot;</td><td>20230804</td><td>&quot;OBSTETRIZ&quot;</td><td>1</td><td>&quot;E119&quot;</td><td>&quot;DIABETES MELLITUS TIPO 2 SIN M…</td><td>&quot;PRESUNTIVO&nbsp;&nbsp;&nbsp;&nbsp;&nbsp;&quot;</td><td>0</td><td>24728</td><td>&quot;COLESTEROL TOTAL ENZIMATICO AU…</td><td>&quot;KIT&quot;</td><td>1</td><td>0.0</td></tr><tr><td>202309</td><td>&quot;E61A9207C93CC140C64BB93735F7E5…</td><td>19571010</td><td>64</td><td>1</td><td>&quot;DIABETES MELLITUS TIPO 2&quot;</td><td>null</td><td>220204</td><td>&quot;SAN MARTÃN&quot;</td><td>&quot;BELLAVISTA&quot;</td><td>&quot;HUALLAGA&quot;</td><td>1</td><td>910</td><td>&quot;TELEMONITOREO CON PRESCRIPCIÃ…</td><td>null</td><td>&quot;DM0065346886&quot;</td><td>20220826</td><td>&quot;PSICOLOGO&quot;</td><td>0</td><td>&quot;E149&quot;</td><td>&quot;DIABETES MELLITUS&nbsp;&nbsp;NO ESPECIFI…</td><td>&quot;REPETIDO&nbsp;&nbsp;&nbsp;&nbsp;&nbsp;&nbsp;&nbsp;&quot;</td><td>2</td><td>null</td><td>&quot;Telemonitoreo&quot;</td><td>null</td><td>1</td><td>0.0</td></tr><tr><td>202309</td><td>&quot;E61A9207C93CC140C64BB93735F7E5…</td><td>19571010</td><td>65</td><td>1</td><td>&quot;DIABETES MELLITUS TIPO 2&quot;</td><td>null</td><td>220601</td><td>&quot;SAN MARTÃN&quot;</td><td>&quot;MARISCAL CÃCERES&quot;</td><td>&quot;JUANJUÃ&quot;</td><td>2</td><td>71</td><td>&quot;APOYO AL DIAGNÃSTICO&quot;</td><td>null</td><td>&quot;DM0065969415&quot;</td><td>20230804</td><td>&quot;OBSTETRIZ&quot;</td><td>1</td><td>&quot;E119&quot;</td><td>&quot;DIABETES MELLITUS TIPO 2 SIN M…</td><td>&quot;PRESUNTIVO&nbsp;&nbsp;&nbsp;&nbsp;&nbsp;&quot;</td><td>0</td><td>31385</td><td>&quot;LAMINA PORTA OBJETO 25 mm X 75…</td><td>&quot;UNI&quot;</td><td>1</td><td>0.0</td></tr><tr><td>202309</td><td>&quot;E61A9207C93CC140C64BB93735F7E5…</td><td>19571010</td><td>64</td><td>1</td><td>&quot;DIABETES MELLITUS TIPO 2&quot;</td><td>null</td><td>220601</td><td>&quot;SAN MARTÃN&quot;</td><td>&quot;MARISCAL CÃCERES&quot;</td><td>&quot;JUANJUÃ&quot;</td><td>2</td><td>71</td><td>&quot;APOYO AL DIAGNÃSTICO&quot;</td><td>null</td><td>&quot;DM0050733158&quot;</td><td>20220927</td><td>&quot;OBSTETRIZ&quot;</td><td>0</td><td>&quot;A162&quot;</td><td>&quot;TUBERCULOSIS DE PULMON&nbsp;&nbsp;SIN ME…</td><td>&quot;PRESUNTIVO&nbsp;&nbsp;&nbsp;&nbsp;&nbsp;&quot;</td><td>0</td><td>10325</td><td>&quot;BAJALENGUA DE MADERA ADULTO&quot;</td><td>&quot;UNI&quot;</td><td>2</td><td>0.0</td></tr><tr><td>202309</td><td>&quot;E61A9207C93CC140C64BB93735F7E5…</td><td>19571010</td><td>64</td><td>1</td><td>&quot;DIABETES MELLITUS TIPO 2&quot;</td><td>null</td><td>220601</td><td>&quot;SAN MARTÃN&quot;</td><td>&quot;MARISCAL CÃCERES&quot;</td><td>&quot;JUANJUÃ&quot;</td><td>2</td><td>71</td><td>&quot;APOYO AL DIAGNÃSTICO&quot;</td><td>0</td><td>&quot;DM0065208386&quot;</td><td>20220407</td><td>&quot;OBSTETRIZ&quot;</td><td>0</td><td>&quot;E789&quot;</td><td>&quot;TRASTORNO DEL METABOLISMO DE L…</td><td>&quot;PRESUNTIVO&nbsp;&nbsp;&nbsp;&nbsp;&nbsp;&quot;</td><td>2</td><td>85027</td><td>&quot;Recuento sanguÃ­neo completo a…</td><td>null</td><td>1</td><td>0.0</td></tr><tr><td>202309</td><td>&quot;E61A9207C93CC140C64BB93735F7E5…</td><td>19571010</td><td>65</td><td>1</td><td>&quot;DIABETES MELLITUS TIPO 2&quot;</td><td>null</td><td>220601</td><td>&quot;SAN MARTÃN&quot;</td><td>&quot;MARISCAL CÃCERES&quot;</td><td>&quot;JUANJUÃ&quot;</td><td>2</td><td>71</td><td>&quot;APOYO AL DIAGNÃSTICO&quot;</td><td>null</td><td>&quot;DM0045670333&quot;</td><td>20230508</td><td>&quot;OBSTETRIZ&quot;</td><td>1</td><td>&quot;E119&quot;</td><td>&quot;DIABETES MELLITUS TIPO 2 SIN M…</td><td>&quot;PRESUNTIVO&nbsp;&nbsp;&nbsp;&nbsp;&nbsp;&quot;</td><td>2</td><td>82565</td><td>&quot;Dosaje de creatinina en sangre&quot;</td><td>null</td><td>1</td><td>0.0</td></tr><tr><td>202309</td><td>&quot;E61A9207C93CC140C64BB93735F7E5…</td><td>19571010</td><td>65</td><td>1</td><td>&quot;DIABETES MELLITUS TIPO 2&quot;</td><td>null</td><td>220601</td><td>&quot;SAN MARTÃN&quot;</td><td>&quot;MARISCAL CÃCERES&quot;</td><td>&quot;JUANJUÃ&quot;</td><td>2</td><td>56</td><td>&quot;CONSULTA EXTERNA&quot;</td><td>null</td><td>&quot;DM0049491903&quot;</td><td>20230804</td><td>&quot;MEDICO&quot;</td><td>1</td><td>&quot;E119&quot;</td><td>&quot;DIABETES MELLITUS TIPO 2 SIN M…</td><td>&quot;DEFINITIVO&nbsp;&nbsp;&nbsp;&nbsp;&nbsp;&quot;</td><td>1</td><td>4696</td><td>&quot;METFORMINA CLORHIDRATO&quot;</td><td>&quot;TAB&quot;</td><td>60</td><td>0.0</td></tr><tr><td>&hellip;</td><td>&hellip;</td><td>&hellip;</td><td>&hellip;</td><td>&hellip;</td><td>&hellip;</td><td>&hellip;</td><td>&hellip;</td><td>&hellip;</td><td>&hellip;</td><td>&hellip;</td><td>&hellip;</td><td>&hellip;</td><td>&hellip;</td><td>&hellip;</td><td>&hellip;</td><td>&hellip;</td><td>&hellip;</td><td>&hellip;</td><td>&hellip;</td><td>&hellip;</td><td>&hellip;</td><td>&hellip;</td><td>&hellip;</td><td>&hellip;</td><td>&hellip;</td><td>&hellip;</td><td>&hellip;</td></tr><tr><td>202309</td><td>&quot;E61A9207C93CC140C64BB93735F7E5…</td><td>19571010</td><td>65</td><td>1</td><td>&quot;DIABETES MELLITUS TIPO 2&quot;</td><td>null</td><td>220601</td><td>&quot;SAN MARTÃN&quot;</td><td>&quot;MARISCAL CÃCERES&quot;</td><td>&quot;JUANJUÃ&quot;</td><td>2</td><td>71</td><td>&quot;APOYO AL DIAGNÃSTICO&quot;</td><td>null</td><td>&quot;DM0065969415&quot;</td><td>20230804</td><td>&quot;OBSTETRIZ&quot;</td><td>1</td><td>&quot;E119&quot;</td><td>&quot;DIABETES MELLITUS TIPO 2 SIN M…</td><td>&quot;PRESUNTIVO&nbsp;&nbsp;&nbsp;&nbsp;&nbsp;&quot;</td><td>2</td><td>82465</td><td>&quot;Dosaje de colesterol total en …</td><td>null</td><td>1</td><td>0.0</td></tr><tr><td>202309</td><td>&quot;E61A9207C93CC140C64BB93735F7E5…</td><td>19571010</td><td>65</td><td>1</td><td>&quot;DIABETES MELLITUS TIPO 2&quot;</td><td>null</td><td>220204</td><td>&quot;SAN MARTÃN&quot;</td><td>&quot;BELLAVISTA&quot;</td><td>&quot;HUALLAGA&quot;</td><td>1</td><td>56</td><td>&quot;CONSULTA EXTERNA&quot;</td><td>null</td><td>&quot;DM0064531470&quot;</td><td>20230315</td><td>&quot;PSICOLOGO&quot;</td><td>0</td><td>&quot;H103&quot;</td><td>&quot;CONJUNTIVITIS AGUDA&nbsp;&nbsp;NO ESPECI…</td><td>&quot;DEFINITIVO&nbsp;&nbsp;&nbsp;&nbsp;&nbsp;&quot;</td><td>1</td><td>6111</td><td>&quot;TETRACICLINA CLORHIDRATO&quot;</td><td>&quot;UNG_OFT&quot;</td><td>1</td><td>0.0</td></tr><tr><td>202309</td><td>&quot;E61A9207C93CC140C64BB93735F7E5…</td><td>19571010</td><td>65</td><td>1</td><td>&quot;DIABETES MELLITUS TIPO 2&quot;</td><td>null</td><td>220601</td><td>&quot;SAN MARTÃN&quot;</td><td>&quot;MARISCAL CÃCERES&quot;</td><td>&quot;JUANJUÃ&quot;</td><td>2</td><td>22</td><td>&quot;DETECCIÃN DE PROBLEMAS EN SAL…</td><td>null</td><td>&quot;DM0040315894&quot;</td><td>20230608</td><td>&quot;NUTRICIONISTA&quot;</td><td>1</td><td>&quot;Z133&quot;</td><td>&quot;EXAMEN DE PESQUISA ESPECIAL PA…</td><td>&quot;DEFINITIVO&nbsp;&nbsp;&nbsp;&nbsp;&nbsp;&quot;</td><td>2</td><td>99207</td><td>&quot;AtenciÃ³n en salud mental&quot;</td><td>null</td><td>1</td><td>0.0</td></tr><tr><td>202309</td><td>&quot;E61A9207C93CC140C64BB93735F7E5…</td><td>19571010</td><td>65</td><td>1</td><td>&quot;DIABETES MELLITUS TIPO 2&quot;</td><td>null</td><td>220204</td><td>&quot;SAN MARTÃN&quot;</td><td>&quot;BELLAVISTA&quot;</td><td>&quot;HUALLAGA&quot;</td><td>1</td><td>910</td><td>&quot;TELEMONITOREO CON PRESCRIPCIÃ…</td><td>null</td><td>&quot;DM0024698120&quot;</td><td>20230224</td><td>&quot;PSICOLOGO&quot;</td><td>0</td><td>&quot;E149&quot;</td><td>&quot;DIABETES MELLITUS&nbsp;&nbsp;NO ESPECIFI…</td><td>&quot;REPETIDO&nbsp;&nbsp;&nbsp;&nbsp;&nbsp;&nbsp;&nbsp;&quot;</td><td>2</td><td>null</td><td>&quot;Telemonitoreo&quot;</td><td>null</td><td>1</td><td>0.0</td></tr><tr><td>202309</td><td>&quot;E61A9207C93CC140C64BB93735F7E5…</td><td>19571010</td><td>64</td><td>1</td><td>&quot;DIABETES MELLITUS TIPO 2&quot;</td><td>null</td><td>220204</td><td>&quot;SAN MARTÃN&quot;</td><td>&quot;BELLAVISTA&quot;</td><td>&quot;HUALLAGA&quot;</td><td>1</td><td>903</td><td>&quot;ATENCIÃN INTEGRAL DE SALUD DE…</td><td>0</td><td>&quot;DM0039753301&quot;</td><td>20220405</td><td>&quot;MEDICO&quot;</td><td>0</td><td>&quot;E660&quot;</td><td>&quot;OBESIDAD DEBIDA A EXCESO DE CA…</td><td>&quot;DEFINITIVO&nbsp;&nbsp;&nbsp;&nbsp;&nbsp;&quot;</td><td>3</td><td>null</td><td>null</td><td>null</td><td>null</td><td>null</td></tr><tr><td>202309</td><td>&quot;E61A9207C93CC140C64BB93735F7E5…</td><td>19571010</td><td>65</td><td>1</td><td>&quot;DIABETES MELLITUS TIPO 2&quot;</td><td>null</td><td>220601</td><td>&quot;SAN MARTÃN&quot;</td><td>&quot;MARISCAL CÃCERES&quot;</td><td>&quot;JUANJUÃ&quot;</td><td>2</td><td>71</td><td>&quot;APOYO AL DIAGNÃSTICO&quot;</td><td>null</td><td>&quot;DM0046235051&quot;</td><td>20230503</td><td>&quot;OBSTETRIZ&quot;</td><td>0</td><td>&quot;E119&quot;</td><td>&quot;DIABETES MELLITUS TIPO 2 SIN M…</td><td>&quot;PRESUNTIVO&nbsp;&nbsp;&nbsp;&nbsp;&nbsp;&quot;</td><td>2</td><td>84478</td><td>&quot;TriglicÃ©ridos&quot;</td><td>null</td><td>1</td><td>0.0</td></tr><tr><td>202309</td><td>&quot;E61A9207C93CC140C64BB93735F7E5…</td><td>19571010</td><td>65</td><td>1</td><td>&quot;DIABETES MELLITUS TIPO 2&quot;</td><td>null</td><td>220601</td><td>&quot;SAN MARTÃN&quot;</td><td>&quot;MARISCAL CÃCERES&quot;</td><td>&quot;JUANJUÃ&quot;</td><td>2</td><td>71</td><td>&quot;APOYO AL DIAGNÃSTICO&quot;</td><td>null</td><td>&quot;DM0046235051&quot;</td><td>20230503</td><td>&quot;OBSTETRIZ&quot;</td><td>0</td><td>&quot;E119&quot;</td><td>&quot;DIABETES MELLITUS TIPO 2 SIN M…</td><td>&quot;PRESUNTIVO&nbsp;&nbsp;&nbsp;&nbsp;&nbsp;&quot;</td><td>0</td><td>31340</td><td>&quot;TUBO PARA EXTRACCION DE SANGRE…</td><td>&quot;UNI&quot;</td><td>1</td><td>0.0</td></tr><tr><td>202309</td><td>&quot;E61A9207C93CC140C64BB93735F7E5…</td><td>19571010</td><td>65</td><td>1</td><td>&quot;DIABETES MELLITUS TIPO 2&quot;</td><td>null</td><td>220204</td><td>&quot;SAN MARTÃN&quot;</td><td>&quot;BELLAVISTA&quot;</td><td>&quot;HUALLAGA&quot;</td><td>1</td><td>910</td><td>&quot;TELEMONITOREO CON PRESCRIPCIÃ…</td><td>null</td><td>&quot;DM0047189196&quot;</td><td>20221028</td><td>&quot;PSICOLOGO&quot;</td><td>0</td><td>&quot;E149&quot;</td><td>&quot;DIABETES MELLITUS&nbsp;&nbsp;NO ESPECIFI…</td><td>&quot;REPETIDO&nbsp;&nbsp;&nbsp;&nbsp;&nbsp;&nbsp;&nbsp;&quot;</td><td>1</td><td>4696</td><td>&quot;METFORMINA CLORHIDRATO&quot;</td><td>&quot;TAB&quot;</td><td>30</td><td>0.0</td></tr><tr><td>202309</td><td>&quot;E61A9207C93CC140C64BB93735F7E5…</td><td>19571010</td><td>65</td><td>1</td><td>&quot;DIABETES MELLITUS TIPO 2&quot;</td><td>null</td><td>220601</td><td>&quot;SAN MARTÃN&quot;</td><td>&quot;MARISCAL CÃCERES&quot;</td><td>&quot;JUANJUÃ&quot;</td><td>2</td><td>71</td><td>&quot;APOYO AL DIAGNÃSTICO&quot;</td><td>null</td><td>&quot;DM0045670333&quot;</td><td>20230508</td><td>&quot;OBSTETRIZ&quot;</td><td>1</td><td>&quot;E119&quot;</td><td>&quot;DIABETES MELLITUS TIPO 2 SIN M…</td><td>&quot;PRESUNTIVO&nbsp;&nbsp;&nbsp;&nbsp;&nbsp;&quot;</td><td>0</td><td>10436</td><td>&quot;TUBO CAPILARES PARA HEMATOCRIT…</td><td>&quot;UNI&quot;</td><td>1</td><td>0.0</td></tr><tr><td>202309</td><td>&quot;E61A9207C93CC140C64BB93735F7E5…</td><td>19571010</td><td>64</td><td>1</td><td>&quot;DIABETES MELLITUS TIPO 2&quot;</td><td>null</td><td>220204</td><td>&quot;SAN MARTÃN&quot;</td><td>&quot;BELLAVISTA&quot;</td><td>&quot;HUALLAGA&quot;</td><td>1</td><td>903</td><td>&quot;ATENCIÃN INTEGRAL DE SALUD DE…</td><td>0</td><td>&quot;DM0039753301&quot;</td><td>20220405</td><td>&quot;MEDICO&quot;</td><td>0</td><td>&quot;Z000&quot;</td><td>&quot;EXAMEN MEDICO GENERAL&quot;</td><td>&quot;DEFINITIVO&nbsp;&nbsp;&nbsp;&nbsp;&nbsp;&quot;</td><td>2</td><td>99403</td><td>&quot;ConsejerÃ­a en medicina preven…</td><td>null</td><td>1</td><td>0.0</td></tr><tr><td>202309</td><td>&quot;E61A9207C93CC140C64BB93735F7E5…</td><td>19571010</td><td>65</td><td>1</td><td>&quot;DIABETES MELLITUS TIPO 2&quot;</td><td>null</td><td>220601</td><td>&quot;SAN MARTÃN&quot;</td><td>&quot;MARISCAL CÃCERES&quot;</td><td>&quot;JUANJUÃ&quot;</td><td>2</td><td>63</td><td>&quot;ATENCIÃN POR EMERGENCIA CON O…</td><td>null</td><td>&quot;DM0027497102&quot;</td><td>20230504</td><td>&quot;MEDICO&quot;</td><td>1</td><td>&quot;E119&quot;</td><td>&quot;DIABETES MELLITUS TIPO 2 SIN M…</td><td>&quot;DEFINITIVO&nbsp;&nbsp;&nbsp;&nbsp;&nbsp;&quot;</td><td>2</td><td>85018</td><td>&quot;Hemoglobina&quot;</td><td>null</td><td>1</td><td>0.0</td></tr><tr><td>202309</td><td>&quot;E61A9207C93CC140C64BB93735F7E5…</td><td>19571010</td><td>65</td><td>1</td><td>&quot;DIABETES MELLITUS TIPO 2&quot;</td><td>null</td><td>220204</td><td>&quot;SAN MARTÃN&quot;</td><td>&quot;BELLAVISTA&quot;</td><td>&quot;HUALLAGA&quot;</td><td>1</td><td>910</td><td>&quot;TELEMONITOREO CON PRESCRIPCIÃ…</td><td>null</td><td>&quot;DM0064528597&quot;</td><td>20230324</td><td>&quot;PSICOLOGO&quot;</td><td>0</td><td>&quot;E149&quot;</td><td>&quot;DIABETES MELLITUS&nbsp;&nbsp;NO ESPECIFI…</td><td>&quot;REPETIDO&nbsp;&nbsp;&nbsp;&nbsp;&nbsp;&nbsp;&nbsp;&quot;</td><td>1</td><td>4696</td><td>&quot;METFORMINA CLORHIDRATO&quot;</td><td>&quot;TAB&quot;</td><td>30</td><td>0.0</td></tr><tr><td>202309</td><td>&quot;E61A9207C93CC140C64BB93735F7E5…</td><td>19571010</td><td>65</td><td>1</td><td>&quot;DIABETES MELLITUS TIPO 2&quot;</td><td>null</td><td>220601</td><td>&quot;SAN MARTÃN&quot;</td><td>&quot;MARISCAL CÃCERES&quot;</td><td>&quot;JUANJUÃ&quot;</td><td>2</td><td>63</td><td>&quot;ATENCIÃN POR EMERGENCIA CON O…</td><td>null</td><td>&quot;DM0027497102&quot;</td><td>20230504</td><td>&quot;MEDICO&quot;</td><td>1</td><td>&quot;E119&quot;</td><td>&quot;DIABETES MELLITUS TIPO 2 SIN M…</td><td>&quot;DEFINITIVO&nbsp;&nbsp;&nbsp;&nbsp;&nbsp;&quot;</td><td>2</td><td>81000</td><td>&quot;AnÃ¡lisis de orina por tira de…</td><td>null</td><td>1</td><td>0.0</td></tr><tr><td>202309</td><td>&quot;E61A9207C93CC140C64BB93735F7E5…</td><td>19571010</td><td>64</td><td>1</td><td>&quot;DIABETES MELLITUS TIPO 2&quot;</td><td>null</td><td>220601</td><td>&quot;SAN MARTÃN&quot;</td><td>&quot;MARISCAL CÃCERES&quot;</td><td>&quot;JUANJUÃ&quot;</td><td>2</td><td>71</td><td>&quot;APOYO AL DIAGNÃSTICO&quot;</td><td>0</td><td>&quot;DM0065208386&quot;</td><td>20220407</td><td>&quot;OBSTETRIZ&quot;</td><td>0</td><td>&quot;E789&quot;</td><td>&quot;TRASTORNO DEL METABOLISMO DE L…</td><td>&quot;PRESUNTIVO&nbsp;&nbsp;&nbsp;&nbsp;&nbsp;&quot;</td><td>0</td><td>31963</td><td>&quot;TIRA REACTIVA PARA ORINA DE 10…</td><td>&quot;KIT&quot;</td><td>1</td><td>0.0</td></tr></tbody></table></div>"
            ],
            "text/plain": [
              "shape: (138, 28)\n",
              "┌────────────────┬────────────────┬────────────────┬──────┬──────┬───────────────┬───────────────┬────────┬──────────────┬────────────┬──────────┬────────────┬───────────────┬───────────────┬───────────┬───────────────┬───────────────┬───────────────┬───────────────┬────────┬───────────────┬───────────────┬──────────────┬───────────────┬───────────────┬───────────────┬───────────────┬────────────┐\n",
              "│ ULTIMO_MES_CON ┆ CODIGO_ANONIMI ┆ FECHA_NACIMIEN ┆ EDAD ┆ SEXO ┆ TIPO_DIABETES ┆ FECHA_FALLECI ┆ UBIGEO ┆ DEPARTAMENTO ┆ PROVINCIA  ┆ DISTRITO ┆ NIVEL_EESS ┆ CODIGO_SERV_P ┆ SERVICIO_PRES ┆ DIAS_HOSP ┆ ID_REGISTRO_R ┆ FECHA_ATENCIO ┆ TIPO_PERSONAL ┆ FECATE_POST_F ┆ CODDIA ┆ C10_NOMBRE    ┆ TIPO_DIAGNOST ┆ TIPO_CONSUMO ┆ CODIGO_CONSUM ┆ NOMBRE_CONSUM ┆ FORMA_FARMACE ┆ CANTIDAD_ENTR ┆ VALOR_NETO │\n",
              "│ SUMOS          ┆ ZADO           ┆ TO             ┆ ---  ┆ ---  ┆ ---           ┆ MIENTO        ┆ ---    ┆ ---          ┆ ---        ┆ ---      ┆ ---        ┆ RESTACIONAL   ┆ TACIONAL      ┆ ---       ┆ EL            ┆ N             ┆ _SALUD        ┆ ECFED         ┆ ---    ┆ ---           ┆ ICO           ┆ ---          ┆ O             ┆ O             ┆ UTICA         ┆ EGADA         ┆ ---        │\n",
              "│ ---            ┆ ---            ┆ ---            ┆ i64  ┆ i8   ┆ str           ┆ ---           ┆ i64    ┆ str          ┆ str        ┆ str      ┆ i64        ┆ ---           ┆ ---           ┆ i64       ┆ ---           ┆ ---           ┆ ---           ┆ ---           ┆ str    ┆ str           ┆ ---           ┆ i8           ┆ ---           ┆ ---           ┆ ---           ┆ ---           ┆ f64        │\n",
              "│ i64            ┆ str            ┆ i64            ┆      ┆      ┆               ┆ i64           ┆        ┆              ┆            ┆          ┆            ┆ i64           ┆ str           ┆           ┆ str           ┆ i64           ┆ str           ┆ i8            ┆        ┆               ┆ str           ┆              ┆ i64           ┆ str           ┆ str           ┆ i64           ┆            │\n",
              "╞════════════════╪════════════════╪════════════════╪══════╪══════╪═══════════════╪═══════════════╪════════╪══════════════╪════════════╪══════════╪════════════╪═══════════════╪═══════════════╪═══════════╪═══════════════╪═══════════════╪═══════════════╪═══════════════╪════════╪═══════════════╪═══════════════╪══════════════╪═══════════════╪═══════════════╪═══════════════╪═══════════════╪════════════╡\n",
              "│ 202309         ┆ E61A9207C93CC1 ┆ 19571010       ┆ 64   ┆ 1    ┆ DIABETES      ┆ null          ┆ 220204 ┆ SAN MARTÃN  ┆ BELLAVISTA ┆ HUALLAGA ┆ 1          ┆ 910           ┆ TELEMONITOREO ┆ null      ┆ DM0040911071  ┆ 20220923      ┆ PSICOLOGO     ┆ 0             ┆ E149   ┆ DIABETES      ┆ REPETIDO      ┆ 2            ┆ null          ┆ Telemonitoreo ┆ null          ┆ 1             ┆ 0.0        │\n",
              "│                ┆ 40C64BB93735F7 ┆                ┆      ┆      ┆ MELLITUS TIPO ┆               ┆        ┆              ┆            ┆          ┆            ┆               ┆ CON           ┆           ┆               ┆               ┆               ┆               ┆        ┆ MELLITUS  NO  ┆               ┆              ┆               ┆               ┆               ┆               ┆            │\n",
              "│                ┆ E5…            ┆                ┆      ┆      ┆ 2             ┆               ┆        ┆              ┆            ┆          ┆            ┆               ┆ PRESCRIPCIÃ… ┆           ┆               ┆               ┆               ┆               ┆        ┆ ESPECIFI…     ┆               ┆              ┆               ┆               ┆               ┆               ┆            │\n",
              "│ 202309         ┆ E61A9207C93CC1 ┆ 19571010       ┆ 65   ┆ 1    ┆ DIABETES      ┆ null          ┆ 220601 ┆ SAN MARTÃN  ┆ MARISCAL   ┆ JUANJUÃ ┆ 2          ┆ 71            ┆ APOYO AL      ┆ null      ┆ DM0046235051  ┆ 20230503      ┆ OBSTETRIZ     ┆ 0             ┆ E119   ┆ DIABETES      ┆ PRESUNTIVO    ┆ 0            ┆ 24728         ┆ COLESTEROL    ┆ KIT           ┆ 1             ┆ 0.0        │\n",
              "│                ┆ 40C64BB93735F7 ┆                ┆      ┆      ┆ MELLITUS TIPO ┆               ┆        ┆              ┆ CÃCERES   ┆          ┆            ┆               ┆ DIAGNÃSTICO  ┆           ┆               ┆               ┆               ┆               ┆        ┆ MELLITUS TIPO ┆               ┆              ┆               ┆ TOTAL         ┆               ┆               ┆            │\n",
              "│                ┆ E5…            ┆                ┆      ┆      ┆ 2             ┆               ┆        ┆              ┆            ┆          ┆            ┆               ┆               ┆           ┆               ┆               ┆               ┆               ┆        ┆ 2 SIN M…      ┆               ┆              ┆               ┆ ENZIMATICO    ┆               ┆               ┆            │\n",
              "│                ┆                ┆                ┆      ┆      ┆               ┆               ┆        ┆              ┆            ┆          ┆            ┆               ┆               ┆           ┆               ┆               ┆               ┆               ┆        ┆               ┆               ┆              ┆               ┆ AU…           ┆               ┆               ┆            │\n",
              "│ 202309         ┆ E61A9207C93CC1 ┆ 19571010       ┆ 65   ┆ 1    ┆ DIABETES      ┆ null          ┆ 220601 ┆ SAN MARTÃN  ┆ MARISCAL   ┆ JUANJUÃ ┆ 2          ┆ 71            ┆ APOYO AL      ┆ null      ┆ DM0065969415  ┆ 20230804      ┆ OBSTETRIZ     ┆ 1             ┆ E119   ┆ DIABETES      ┆ PRESUNTIVO    ┆ 0            ┆ 10436         ┆ TUBO          ┆ UNI           ┆ 1             ┆ 0.0        │\n",
              "│                ┆ 40C64BB93735F7 ┆                ┆      ┆      ┆ MELLITUS TIPO ┆               ┆        ┆              ┆ CÃCERES   ┆          ┆            ┆               ┆ DIAGNÃSTICO  ┆           ┆               ┆               ┆               ┆               ┆        ┆ MELLITUS TIPO ┆               ┆              ┆               ┆ CAPILARES     ┆               ┆               ┆            │\n",
              "│                ┆ E5…            ┆                ┆      ┆      ┆ 2             ┆               ┆        ┆              ┆            ┆          ┆            ┆               ┆               ┆           ┆               ┆               ┆               ┆               ┆        ┆ 2 SIN M…      ┆               ┆              ┆               ┆ PARA          ┆               ┆               ┆            │\n",
              "│                ┆                ┆                ┆      ┆      ┆               ┆               ┆        ┆              ┆            ┆          ┆            ┆               ┆               ┆           ┆               ┆               ┆               ┆               ┆        ┆               ┆               ┆              ┆               ┆ HEMATOCRIT…   ┆               ┆               ┆            │\n",
              "│ 202309         ┆ E61A9207C93CC1 ┆ 19571010       ┆ 65   ┆ 1    ┆ DIABETES      ┆ null          ┆ 220204 ┆ SAN MARTÃN  ┆ BELLAVISTA ┆ HUALLAGA ┆ 1          ┆ 910           ┆ TELEMONITOREO ┆ null      ┆ DM0064528597  ┆ 20230324      ┆ PSICOLOGO     ┆ 0             ┆ E149   ┆ DIABETES      ┆ REPETIDO      ┆ 2            ┆ null          ┆ Telemonitoreo ┆ null          ┆ 1             ┆ 0.0        │\n",
              "│                ┆ 40C64BB93735F7 ┆                ┆      ┆      ┆ MELLITUS TIPO ┆               ┆        ┆              ┆            ┆          ┆            ┆               ┆ CON           ┆           ┆               ┆               ┆               ┆               ┆        ┆ MELLITUS  NO  ┆               ┆              ┆               ┆               ┆               ┆               ┆            │\n",
              "│                ┆ E5…            ┆                ┆      ┆      ┆ 2             ┆               ┆        ┆              ┆            ┆          ┆            ┆               ┆ PRESCRIPCIÃ… ┆           ┆               ┆               ┆               ┆               ┆        ┆ ESPECIFI…     ┆               ┆              ┆               ┆               ┆               ┆               ┆            │\n",
              "│ 202309         ┆ E61A9207C93CC1 ┆ 19571010       ┆ 65   ┆ 1    ┆ DIABETES      ┆ null          ┆ 220601 ┆ SAN MARTÃN  ┆ MARISCAL   ┆ JUANJUÃ ┆ 2          ┆ 71            ┆ APOYO AL      ┆ null      ┆ DM0046235051  ┆ 20230503      ┆ OBSTETRIZ     ┆ 0             ┆ E119   ┆ DIABETES      ┆ PRESUNTIVO    ┆ 2            ┆ 85018         ┆ Hemoglobina   ┆ null          ┆ 1             ┆ 0.0        │\n",
              "│                ┆ 40C64BB93735F7 ┆                ┆      ┆      ┆ MELLITUS TIPO ┆               ┆        ┆              ┆ CÃCERES   ┆          ┆            ┆               ┆ DIAGNÃSTICO  ┆           ┆               ┆               ┆               ┆               ┆        ┆ MELLITUS TIPO ┆               ┆              ┆               ┆               ┆               ┆               ┆            │\n",
              "│                ┆ E5…            ┆                ┆      ┆      ┆ 2             ┆               ┆        ┆              ┆            ┆          ┆            ┆               ┆               ┆           ┆               ┆               ┆               ┆               ┆        ┆ 2 SIN M…      ┆               ┆              ┆               ┆               ┆               ┆               ┆            │\n",
              "│ 202309         ┆ E61A9207C93CC1 ┆ 19571010       ┆ 64   ┆ 1    ┆ DIABETES      ┆ null          ┆ 220601 ┆ SAN MARTÃN  ┆ MARISCAL   ┆ JUANJUÃ ┆ 2          ┆ 71            ┆ APOYO AL      ┆ 0         ┆ DM0065208386  ┆ 20220407      ┆ OBSTETRIZ     ┆ 0             ┆ E789   ┆ TRASTORNO DEL ┆ PRESUNTIVO    ┆ 0            ┆ 31386         ┆ LAMINILLA     ┆ UNI           ┆ 1             ┆ 0.0        │\n",
              "│                ┆ 40C64BB93735F7 ┆                ┆      ┆      ┆ MELLITUS TIPO ┆               ┆        ┆              ┆ CÃCERES   ┆          ┆            ┆               ┆ DIAGNÃSTICO  ┆           ┆               ┆               ┆               ┆               ┆        ┆ METABOLISMO   ┆               ┆              ┆               ┆ CUBRE OBJETO  ┆               ┆               ┆            │\n",
              "│                ┆ E5…            ┆                ┆      ┆      ┆ 2             ┆               ┆        ┆              ┆            ┆          ┆            ┆               ┆               ┆           ┆               ┆               ┆               ┆               ┆        ┆ DE L…         ┆               ┆              ┆               ┆ 25 mm X…      ┆               ┆               ┆            │\n",
              "│ 202309         ┆ E61A9207C93CC1 ┆ 19571010       ┆ 65   ┆ 1    ┆ DIABETES      ┆ null          ┆ 220601 ┆ SAN MARTÃN  ┆ MARISCAL   ┆ JUANJUÃ ┆ 2          ┆ 71            ┆ APOYO AL      ┆ null      ┆ DM0045670333  ┆ 20230508      ┆ OBSTETRIZ     ┆ 1             ┆ E119   ┆ DIABETES      ┆ PRESUNTIVO    ┆ 0            ┆ 31340         ┆ TUBO PARA     ┆ UNI           ┆ 1             ┆ 0.0        │\n",
              "│                ┆ 40C64BB93735F7 ┆                ┆      ┆      ┆ MELLITUS TIPO ┆               ┆        ┆              ┆ CÃCERES   ┆          ┆            ┆               ┆ DIAGNÃSTICO  ┆           ┆               ┆               ┆               ┆               ┆        ┆ MELLITUS TIPO ┆               ┆              ┆               ┆ EXTRACCION DE ┆               ┆               ┆            │\n",
              "│                ┆ E5…            ┆                ┆      ┆      ┆ 2             ┆               ┆        ┆              ┆            ┆          ┆            ┆               ┆               ┆           ┆               ┆               ┆               ┆               ┆        ┆ 2 SIN M…      ┆               ┆              ┆               ┆ SANGRE…       ┆               ┆               ┆            │\n",
              "│ 202309         ┆ E61A9207C93CC1 ┆ 19571010       ┆ 65   ┆ 1    ┆ DIABETES      ┆ null          ┆ 220601 ┆ SAN MARTÃN  ┆ MARISCAL   ┆ JUANJUÃ ┆ 2          ┆ 71            ┆ APOYO AL      ┆ null      ┆ DM0065969415  ┆ 20230804      ┆ OBSTETRIZ     ┆ 1             ┆ E119   ┆ DIABETES      ┆ PRESUNTIVO    ┆ 0            ┆ 24728         ┆ COLESTEROL    ┆ KIT           ┆ 1             ┆ 0.0        │\n",
              "│                ┆ 40C64BB93735F7 ┆                ┆      ┆      ┆ MELLITUS TIPO ┆               ┆        ┆              ┆ CÃCERES   ┆          ┆            ┆               ┆ DIAGNÃSTICO  ┆           ┆               ┆               ┆               ┆               ┆        ┆ MELLITUS TIPO ┆               ┆              ┆               ┆ TOTAL         ┆               ┆               ┆            │\n",
              "│                ┆ E5…            ┆                ┆      ┆      ┆ 2             ┆               ┆        ┆              ┆            ┆          ┆            ┆               ┆               ┆           ┆               ┆               ┆               ┆               ┆        ┆ 2 SIN M…      ┆               ┆              ┆               ┆ ENZIMATICO    ┆               ┆               ┆            │\n",
              "│                ┆                ┆                ┆      ┆      ┆               ┆               ┆        ┆              ┆            ┆          ┆            ┆               ┆               ┆           ┆               ┆               ┆               ┆               ┆        ┆               ┆               ┆              ┆               ┆ AU…           ┆               ┆               ┆            │\n",
              "│ 202309         ┆ E61A9207C93CC1 ┆ 19571010       ┆ 64   ┆ 1    ┆ DIABETES      ┆ null          ┆ 220204 ┆ SAN MARTÃN  ┆ BELLAVISTA ┆ HUALLAGA ┆ 1          ┆ 910           ┆ TELEMONITOREO ┆ null      ┆ DM0065346886  ┆ 20220826      ┆ PSICOLOGO     ┆ 0             ┆ E149   ┆ DIABETES      ┆ REPETIDO      ┆ 2            ┆ null          ┆ Telemonitoreo ┆ null          ┆ 1             ┆ 0.0        │\n",
              "│                ┆ 40C64BB93735F7 ┆                ┆      ┆      ┆ MELLITUS TIPO ┆               ┆        ┆              ┆            ┆          ┆            ┆               ┆ CON           ┆           ┆               ┆               ┆               ┆               ┆        ┆ MELLITUS  NO  ┆               ┆              ┆               ┆               ┆               ┆               ┆            │\n",
              "│                ┆ E5…            ┆                ┆      ┆      ┆ 2             ┆               ┆        ┆              ┆            ┆          ┆            ┆               ┆ PRESCRIPCIÃ… ┆           ┆               ┆               ┆               ┆               ┆        ┆ ESPECIFI…     ┆               ┆              ┆               ┆               ┆               ┆               ┆            │\n",
              "│ 202309         ┆ E61A9207C93CC1 ┆ 19571010       ┆ 65   ┆ 1    ┆ DIABETES      ┆ null          ┆ 220601 ┆ SAN MARTÃN  ┆ MARISCAL   ┆ JUANJUÃ ┆ 2          ┆ 71            ┆ APOYO AL      ┆ null      ┆ DM0065969415  ┆ 20230804      ┆ OBSTETRIZ     ┆ 1             ┆ E119   ┆ DIABETES      ┆ PRESUNTIVO    ┆ 0            ┆ 31385         ┆ LAMINA PORTA  ┆ UNI           ┆ 1             ┆ 0.0        │\n",
              "│                ┆ 40C64BB93735F7 ┆                ┆      ┆      ┆ MELLITUS TIPO ┆               ┆        ┆              ┆ CÃCERES   ┆          ┆            ┆               ┆ DIAGNÃSTICO  ┆           ┆               ┆               ┆               ┆               ┆        ┆ MELLITUS TIPO ┆               ┆              ┆               ┆ OBJETO 25 mm  ┆               ┆               ┆            │\n",
              "│                ┆ E5…            ┆                ┆      ┆      ┆ 2             ┆               ┆        ┆              ┆            ┆          ┆            ┆               ┆               ┆           ┆               ┆               ┆               ┆               ┆        ┆ 2 SIN M…      ┆               ┆              ┆               ┆ X 75…         ┆               ┆               ┆            │\n",
              "│ 202309         ┆ E61A9207C93CC1 ┆ 19571010       ┆ 64   ┆ 1    ┆ DIABETES      ┆ null          ┆ 220601 ┆ SAN MARTÃN  ┆ MARISCAL   ┆ JUANJUÃ ┆ 2          ┆ 71            ┆ APOYO AL      ┆ null      ┆ DM0050733158  ┆ 20220927      ┆ OBSTETRIZ     ┆ 0             ┆ A162   ┆ TUBERCULOSIS  ┆ PRESUNTIVO    ┆ 0            ┆ 10325         ┆ BAJALENGUA DE ┆ UNI           ┆ 2             ┆ 0.0        │\n",
              "│                ┆ 40C64BB93735F7 ┆                ┆      ┆      ┆ MELLITUS TIPO ┆               ┆        ┆              ┆ CÃCERES   ┆          ┆            ┆               ┆ DIAGNÃSTICO  ┆           ┆               ┆               ┆               ┆               ┆        ┆ DE PULMON     ┆               ┆              ┆               ┆ MADERA ADULTO ┆               ┆               ┆            │\n",
              "│                ┆ E5…            ┆                ┆      ┆      ┆ 2             ┆               ┆        ┆              ┆            ┆          ┆            ┆               ┆               ┆           ┆               ┆               ┆               ┆               ┆        ┆ SIN ME…       ┆               ┆              ┆               ┆               ┆               ┆               ┆            │\n",
              "│ 202309         ┆ E61A9207C93CC1 ┆ 19571010       ┆ 64   ┆ 1    ┆ DIABETES      ┆ null          ┆ 220601 ┆ SAN MARTÃN  ┆ MARISCAL   ┆ JUANJUÃ ┆ 2          ┆ 71            ┆ APOYO AL      ┆ 0         ┆ DM0065208386  ┆ 20220407      ┆ OBSTETRIZ     ┆ 0             ┆ E789   ┆ TRASTORNO DEL ┆ PRESUNTIVO    ┆ 2            ┆ 85027         ┆ Recuento      ┆ null          ┆ 1             ┆ 0.0        │\n",
              "│                ┆ 40C64BB93735F7 ┆                ┆      ┆      ┆ MELLITUS TIPO ┆               ┆        ┆              ┆ CÃCERES   ┆          ┆            ┆               ┆ DIAGNÃSTICO  ┆           ┆               ┆               ┆               ┆               ┆        ┆ METABOLISMO   ┆               ┆              ┆               ┆ sanguÃ­neo     ┆               ┆               ┆            │\n",
              "│                ┆ E5…            ┆                ┆      ┆      ┆ 2             ┆               ┆        ┆              ┆            ┆          ┆            ┆               ┆               ┆           ┆               ┆               ┆               ┆               ┆        ┆ DE L…         ┆               ┆              ┆               ┆ completo a…   ┆               ┆               ┆            │\n",
              "│ 202309         ┆ E61A9207C93CC1 ┆ 19571010       ┆ 65   ┆ 1    ┆ DIABETES      ┆ null          ┆ 220601 ┆ SAN MARTÃN  ┆ MARISCAL   ┆ JUANJUÃ ┆ 2          ┆ 71            ┆ APOYO AL      ┆ null      ┆ DM0045670333  ┆ 20230508      ┆ OBSTETRIZ     ┆ 1             ┆ E119   ┆ DIABETES      ┆ PRESUNTIVO    ┆ 2            ┆ 82565         ┆ Dosaje de     ┆ null          ┆ 1             ┆ 0.0        │\n",
              "│                ┆ 40C64BB93735F7 ┆                ┆      ┆      ┆ MELLITUS TIPO ┆               ┆        ┆              ┆ CÃCERES   ┆          ┆            ┆               ┆ DIAGNÃSTICO  ┆           ┆               ┆               ┆               ┆               ┆        ┆ MELLITUS TIPO ┆               ┆              ┆               ┆ creatinina en ┆               ┆               ┆            │\n",
              "│                ┆ E5…            ┆                ┆      ┆      ┆ 2             ┆               ┆        ┆              ┆            ┆          ┆            ┆               ┆               ┆           ┆               ┆               ┆               ┆               ┆        ┆ 2 SIN M…      ┆               ┆              ┆               ┆ sangre        ┆               ┆               ┆            │\n",
              "│ 202309         ┆ E61A9207C93CC1 ┆ 19571010       ┆ 65   ┆ 1    ┆ DIABETES      ┆ null          ┆ 220601 ┆ SAN MARTÃN  ┆ MARISCAL   ┆ JUANJUÃ ┆ 2          ┆ 56            ┆ CONSULTA      ┆ null      ┆ DM0049491903  ┆ 20230804      ┆ MEDICO        ┆ 1             ┆ E119   ┆ DIABETES      ┆ DEFINITIVO    ┆ 1            ┆ 4696          ┆ METFORMINA    ┆ TAB           ┆ 60            ┆ 0.0        │\n",
              "│                ┆ 40C64BB93735F7 ┆                ┆      ┆      ┆ MELLITUS TIPO ┆               ┆        ┆              ┆ CÃCERES   ┆          ┆            ┆               ┆ EXTERNA       ┆           ┆               ┆               ┆               ┆               ┆        ┆ MELLITUS TIPO ┆               ┆              ┆               ┆ CLORHIDRATO   ┆               ┆               ┆            │\n",
              "│                ┆ E5…            ┆                ┆      ┆      ┆ 2             ┆               ┆        ┆              ┆            ┆          ┆            ┆               ┆               ┆           ┆               ┆               ┆               ┆               ┆        ┆ 2 SIN M…      ┆               ┆              ┆               ┆               ┆               ┆               ┆            │\n",
              "│ …              ┆ …              ┆ …              ┆ …    ┆ …    ┆ …             ┆ …             ┆ …      ┆ …            ┆ …          ┆ …        ┆ …          ┆ …             ┆ …             ┆ …         ┆ …             ┆ …             ┆ …             ┆ …             ┆ …      ┆ …             ┆ …             ┆ …            ┆ …             ┆ …             ┆ …             ┆ …             ┆ …          │\n",
              "│ 202309         ┆ E61A9207C93CC1 ┆ 19571010       ┆ 65   ┆ 1    ┆ DIABETES      ┆ null          ┆ 220601 ┆ SAN MARTÃN  ┆ MARISCAL   ┆ JUANJUÃ ┆ 2          ┆ 71            ┆ APOYO AL      ┆ null      ┆ DM0065969415  ┆ 20230804      ┆ OBSTETRIZ     ┆ 1             ┆ E119   ┆ DIABETES      ┆ PRESUNTIVO    ┆ 2            ┆ 82465         ┆ Dosaje de     ┆ null          ┆ 1             ┆ 0.0        │\n",
              "│                ┆ 40C64BB93735F7 ┆                ┆      ┆      ┆ MELLITUS TIPO ┆               ┆        ┆              ┆ CÃCERES   ┆          ┆            ┆               ┆ DIAGNÃSTICO  ┆           ┆               ┆               ┆               ┆               ┆        ┆ MELLITUS TIPO ┆               ┆              ┆               ┆ colesterol    ┆               ┆               ┆            │\n",
              "│                ┆ E5…            ┆                ┆      ┆      ┆ 2             ┆               ┆        ┆              ┆            ┆          ┆            ┆               ┆               ┆           ┆               ┆               ┆               ┆               ┆        ┆ 2 SIN M…      ┆               ┆              ┆               ┆ total en …    ┆               ┆               ┆            │\n",
              "│ 202309         ┆ E61A9207C93CC1 ┆ 19571010       ┆ 65   ┆ 1    ┆ DIABETES      ┆ null          ┆ 220204 ┆ SAN MARTÃN  ┆ BELLAVISTA ┆ HUALLAGA ┆ 1          ┆ 56            ┆ CONSULTA      ┆ null      ┆ DM0064531470  ┆ 20230315      ┆ PSICOLOGO     ┆ 0             ┆ H103   ┆ CONJUNTIVITIS ┆ DEFINITIVO    ┆ 1            ┆ 6111          ┆ TETRACICLINA  ┆ UNG_OFT       ┆ 1             ┆ 0.0        │\n",
              "│                ┆ 40C64BB93735F7 ┆                ┆      ┆      ┆ MELLITUS TIPO ┆               ┆        ┆              ┆            ┆          ┆            ┆               ┆ EXTERNA       ┆           ┆               ┆               ┆               ┆               ┆        ┆ AGUDA  NO     ┆               ┆              ┆               ┆ CLORHIDRATO   ┆               ┆               ┆            │\n",
              "│                ┆ E5…            ┆                ┆      ┆      ┆ 2             ┆               ┆        ┆              ┆            ┆          ┆            ┆               ┆               ┆           ┆               ┆               ┆               ┆               ┆        ┆ ESPECI…       ┆               ┆              ┆               ┆               ┆               ┆               ┆            │\n",
              "│ 202309         ┆ E61A9207C93CC1 ┆ 19571010       ┆ 65   ┆ 1    ┆ DIABETES      ┆ null          ┆ 220601 ┆ SAN MARTÃN  ┆ MARISCAL   ┆ JUANJUÃ ┆ 2          ┆ 22            ┆ DETECCIÃN DE ┆ null      ┆ DM0040315894  ┆ 20230608      ┆ NUTRICIONISTA ┆ 1             ┆ Z133   ┆ EXAMEN DE     ┆ DEFINITIVO    ┆ 2            ┆ 99207         ┆ AtenciÃ³n en  ┆ null          ┆ 1             ┆ 0.0        │\n",
              "│                ┆ 40C64BB93735F7 ┆                ┆      ┆      ┆ MELLITUS TIPO ┆               ┆        ┆              ┆ CÃCERES   ┆          ┆            ┆               ┆ PROBLEMAS EN  ┆           ┆               ┆               ┆               ┆               ┆        ┆ PESQUISA      ┆               ┆              ┆               ┆ salud mental  ┆               ┆               ┆            │\n",
              "│                ┆ E5…            ┆                ┆      ┆      ┆ 2             ┆               ┆        ┆              ┆            ┆          ┆            ┆               ┆ SAL…          ┆           ┆               ┆               ┆               ┆               ┆        ┆ ESPECIAL PA…  ┆               ┆              ┆               ┆               ┆               ┆               ┆            │\n",
              "│ 202309         ┆ E61A9207C93CC1 ┆ 19571010       ┆ 65   ┆ 1    ┆ DIABETES      ┆ null          ┆ 220204 ┆ SAN MARTÃN  ┆ BELLAVISTA ┆ HUALLAGA ┆ 1          ┆ 910           ┆ TELEMONITOREO ┆ null      ┆ DM0024698120  ┆ 20230224      ┆ PSICOLOGO     ┆ 0             ┆ E149   ┆ DIABETES      ┆ REPETIDO      ┆ 2            ┆ null          ┆ Telemonitoreo ┆ null          ┆ 1             ┆ 0.0        │\n",
              "│                ┆ 40C64BB93735F7 ┆                ┆      ┆      ┆ MELLITUS TIPO ┆               ┆        ┆              ┆            ┆          ┆            ┆               ┆ CON           ┆           ┆               ┆               ┆               ┆               ┆        ┆ MELLITUS  NO  ┆               ┆              ┆               ┆               ┆               ┆               ┆            │\n",
              "│                ┆ E5…            ┆                ┆      ┆      ┆ 2             ┆               ┆        ┆              ┆            ┆          ┆            ┆               ┆ PRESCRIPCIÃ… ┆           ┆               ┆               ┆               ┆               ┆        ┆ ESPECIFI…     ┆               ┆              ┆               ┆               ┆               ┆               ┆            │\n",
              "│ 202309         ┆ E61A9207C93CC1 ┆ 19571010       ┆ 64   ┆ 1    ┆ DIABETES      ┆ null          ┆ 220204 ┆ SAN MARTÃN  ┆ BELLAVISTA ┆ HUALLAGA ┆ 1          ┆ 903           ┆ ATENCIÃN     ┆ 0         ┆ DM0039753301  ┆ 20220405      ┆ MEDICO        ┆ 0             ┆ E660   ┆ OBESIDAD      ┆ DEFINITIVO    ┆ 3            ┆ null          ┆ null          ┆ null          ┆ null          ┆ null       │\n",
              "│                ┆ 40C64BB93735F7 ┆                ┆      ┆      ┆ MELLITUS TIPO ┆               ┆        ┆              ┆            ┆          ┆            ┆               ┆ INTEGRAL DE   ┆           ┆               ┆               ┆               ┆               ┆        ┆ DEBIDA A      ┆               ┆              ┆               ┆               ┆               ┆               ┆            │\n",
              "│                ┆ E5…            ┆                ┆      ┆      ┆ 2             ┆               ┆        ┆              ┆            ┆          ┆            ┆               ┆ SALUD DE…     ┆           ┆               ┆               ┆               ┆               ┆        ┆ EXCESO DE CA… ┆               ┆              ┆               ┆               ┆               ┆               ┆            │\n",
              "│ 202309         ┆ E61A9207C93CC1 ┆ 19571010       ┆ 65   ┆ 1    ┆ DIABETES      ┆ null          ┆ 220601 ┆ SAN MARTÃN  ┆ MARISCAL   ┆ JUANJUÃ ┆ 2          ┆ 71            ┆ APOYO AL      ┆ null      ┆ DM0046235051  ┆ 20230503      ┆ OBSTETRIZ     ┆ 0             ┆ E119   ┆ DIABETES      ┆ PRESUNTIVO    ┆ 2            ┆ 84478         ┆ TriglicÃ©rido ┆ null          ┆ 1             ┆ 0.0        │\n",
              "│                ┆ 40C64BB93735F7 ┆                ┆      ┆      ┆ MELLITUS TIPO ┆               ┆        ┆              ┆ CÃCERES   ┆          ┆            ┆               ┆ DIAGNÃSTICO  ┆           ┆               ┆               ┆               ┆               ┆        ┆ MELLITUS TIPO ┆               ┆              ┆               ┆ s             ┆               ┆               ┆            │\n",
              "│                ┆ E5…            ┆                ┆      ┆      ┆ 2             ┆               ┆        ┆              ┆            ┆          ┆            ┆               ┆               ┆           ┆               ┆               ┆               ┆               ┆        ┆ 2 SIN M…      ┆               ┆              ┆               ┆               ┆               ┆               ┆            │\n",
              "│ 202309         ┆ E61A9207C93CC1 ┆ 19571010       ┆ 65   ┆ 1    ┆ DIABETES      ┆ null          ┆ 220601 ┆ SAN MARTÃN  ┆ MARISCAL   ┆ JUANJUÃ ┆ 2          ┆ 71            ┆ APOYO AL      ┆ null      ┆ DM0046235051  ┆ 20230503      ┆ OBSTETRIZ     ┆ 0             ┆ E119   ┆ DIABETES      ┆ PRESUNTIVO    ┆ 0            ┆ 31340         ┆ TUBO PARA     ┆ UNI           ┆ 1             ┆ 0.0        │\n",
              "│                ┆ 40C64BB93735F7 ┆                ┆      ┆      ┆ MELLITUS TIPO ┆               ┆        ┆              ┆ CÃCERES   ┆          ┆            ┆               ┆ DIAGNÃSTICO  ┆           ┆               ┆               ┆               ┆               ┆        ┆ MELLITUS TIPO ┆               ┆              ┆               ┆ EXTRACCION DE ┆               ┆               ┆            │\n",
              "│                ┆ E5…            ┆                ┆      ┆      ┆ 2             ┆               ┆        ┆              ┆            ┆          ┆            ┆               ┆               ┆           ┆               ┆               ┆               ┆               ┆        ┆ 2 SIN M…      ┆               ┆              ┆               ┆ SANGRE…       ┆               ┆               ┆            │\n",
              "│ 202309         ┆ E61A9207C93CC1 ┆ 19571010       ┆ 65   ┆ 1    ┆ DIABETES      ┆ null          ┆ 220204 ┆ SAN MARTÃN  ┆ BELLAVISTA ┆ HUALLAGA ┆ 1          ┆ 910           ┆ TELEMONITOREO ┆ null      ┆ DM0047189196  ┆ 20221028      ┆ PSICOLOGO     ┆ 0             ┆ E149   ┆ DIABETES      ┆ REPETIDO      ┆ 1            ┆ 4696          ┆ METFORMINA    ┆ TAB           ┆ 30            ┆ 0.0        │\n",
              "│                ┆ 40C64BB93735F7 ┆                ┆      ┆      ┆ MELLITUS TIPO ┆               ┆        ┆              ┆            ┆          ┆            ┆               ┆ CON           ┆           ┆               ┆               ┆               ┆               ┆        ┆ MELLITUS  NO  ┆               ┆              ┆               ┆ CLORHIDRATO   ┆               ┆               ┆            │\n",
              "│                ┆ E5…            ┆                ┆      ┆      ┆ 2             ┆               ┆        ┆              ┆            ┆          ┆            ┆               ┆ PRESCRIPCIÃ… ┆           ┆               ┆               ┆               ┆               ┆        ┆ ESPECIFI…     ┆               ┆              ┆               ┆               ┆               ┆               ┆            │\n",
              "│ 202309         ┆ E61A9207C93CC1 ┆ 19571010       ┆ 65   ┆ 1    ┆ DIABETES      ┆ null          ┆ 220601 ┆ SAN MARTÃN  ┆ MARISCAL   ┆ JUANJUÃ ┆ 2          ┆ 71            ┆ APOYO AL      ┆ null      ┆ DM0045670333  ┆ 20230508      ┆ OBSTETRIZ     ┆ 1             ┆ E119   ┆ DIABETES      ┆ PRESUNTIVO    ┆ 0            ┆ 10436         ┆ TUBO          ┆ UNI           ┆ 1             ┆ 0.0        │\n",
              "│                ┆ 40C64BB93735F7 ┆                ┆      ┆      ┆ MELLITUS TIPO ┆               ┆        ┆              ┆ CÃCERES   ┆          ┆            ┆               ┆ DIAGNÃSTICO  ┆           ┆               ┆               ┆               ┆               ┆        ┆ MELLITUS TIPO ┆               ┆              ┆               ┆ CAPILARES     ┆               ┆               ┆            │\n",
              "│                ┆ E5…            ┆                ┆      ┆      ┆ 2             ┆               ┆        ┆              ┆            ┆          ┆            ┆               ┆               ┆           ┆               ┆               ┆               ┆               ┆        ┆ 2 SIN M…      ┆               ┆              ┆               ┆ PARA          ┆               ┆               ┆            │\n",
              "│                ┆                ┆                ┆      ┆      ┆               ┆               ┆        ┆              ┆            ┆          ┆            ┆               ┆               ┆           ┆               ┆               ┆               ┆               ┆        ┆               ┆               ┆              ┆               ┆ HEMATOCRIT…   ┆               ┆               ┆            │\n",
              "│ 202309         ┆ E61A9207C93CC1 ┆ 19571010       ┆ 64   ┆ 1    ┆ DIABETES      ┆ null          ┆ 220204 ┆ SAN MARTÃN  ┆ BELLAVISTA ┆ HUALLAGA ┆ 1          ┆ 903           ┆ ATENCIÃN     ┆ 0         ┆ DM0039753301  ┆ 20220405      ┆ MEDICO        ┆ 0             ┆ Z000   ┆ EXAMEN MEDICO ┆ DEFINITIVO    ┆ 2            ┆ 99403         ┆ ConsejerÃ­a en ┆ null          ┆ 1             ┆ 0.0        │\n",
              "│                ┆ 40C64BB93735F7 ┆                ┆      ┆      ┆ MELLITUS TIPO ┆               ┆        ┆              ┆            ┆          ┆            ┆               ┆ INTEGRAL DE   ┆           ┆               ┆               ┆               ┆               ┆        ┆ GENERAL       ┆               ┆              ┆               ┆ medicina      ┆               ┆               ┆            │\n",
              "│                ┆ E5…            ┆                ┆      ┆      ┆ 2             ┆               ┆        ┆              ┆            ┆          ┆            ┆               ┆ SALUD DE…     ┆           ┆               ┆               ┆               ┆               ┆        ┆               ┆               ┆              ┆               ┆ preven…       ┆               ┆               ┆            │\n",
              "│ 202309         ┆ E61A9207C93CC1 ┆ 19571010       ┆ 65   ┆ 1    ┆ DIABETES      ┆ null          ┆ 220601 ┆ SAN MARTÃN  ┆ MARISCAL   ┆ JUANJUÃ ┆ 2          ┆ 63            ┆ ATENCIÃN POR ┆ null      ┆ DM0027497102  ┆ 20230504      ┆ MEDICO        ┆ 1             ┆ E119   ┆ DIABETES      ┆ DEFINITIVO    ┆ 2            ┆ 85018         ┆ Hemoglobina   ┆ null          ┆ 1             ┆ 0.0        │\n",
              "│                ┆ 40C64BB93735F7 ┆                ┆      ┆      ┆ MELLITUS TIPO ┆               ┆        ┆              ┆ CÃCERES   ┆          ┆            ┆               ┆ EMERGENCIA    ┆           ┆               ┆               ┆               ┆               ┆        ┆ MELLITUS TIPO ┆               ┆              ┆               ┆               ┆               ┆               ┆            │\n",
              "│                ┆ E5…            ┆                ┆      ┆      ┆ 2             ┆               ┆        ┆              ┆            ┆          ┆            ┆               ┆ CON O…        ┆           ┆               ┆               ┆               ┆               ┆        ┆ 2 SIN M…      ┆               ┆              ┆               ┆               ┆               ┆               ┆            │\n",
              "│ 202309         ┆ E61A9207C93CC1 ┆ 19571010       ┆ 65   ┆ 1    ┆ DIABETES      ┆ null          ┆ 220204 ┆ SAN MARTÃN  ┆ BELLAVISTA ┆ HUALLAGA ┆ 1          ┆ 910           ┆ TELEMONITOREO ┆ null      ┆ DM0064528597  ┆ 20230324      ┆ PSICOLOGO     ┆ 0             ┆ E149   ┆ DIABETES      ┆ REPETIDO      ┆ 1            ┆ 4696          ┆ METFORMINA    ┆ TAB           ┆ 30            ┆ 0.0        │\n",
              "│                ┆ 40C64BB93735F7 ┆                ┆      ┆      ┆ MELLITUS TIPO ┆               ┆        ┆              ┆            ┆          ┆            ┆               ┆ CON           ┆           ┆               ┆               ┆               ┆               ┆        ┆ MELLITUS  NO  ┆               ┆              ┆               ┆ CLORHIDRATO   ┆               ┆               ┆            │\n",
              "│                ┆ E5…            ┆                ┆      ┆      ┆ 2             ┆               ┆        ┆              ┆            ┆          ┆            ┆               ┆ PRESCRIPCIÃ… ┆           ┆               ┆               ┆               ┆               ┆        ┆ ESPECIFI…     ┆               ┆              ┆               ┆               ┆               ┆               ┆            │\n",
              "│ 202309         ┆ E61A9207C93CC1 ┆ 19571010       ┆ 65   ┆ 1    ┆ DIABETES      ┆ null          ┆ 220601 ┆ SAN MARTÃN  ┆ MARISCAL   ┆ JUANJUÃ ┆ 2          ┆ 63            ┆ ATENCIÃN POR ┆ null      ┆ DM0027497102  ┆ 20230504      ┆ MEDICO        ┆ 1             ┆ E119   ┆ DIABETES      ┆ DEFINITIVO    ┆ 2            ┆ 81000         ┆ AnÃ¡lisis de  ┆ null          ┆ 1             ┆ 0.0        │\n",
              "│                ┆ 40C64BB93735F7 ┆                ┆      ┆      ┆ MELLITUS TIPO ┆               ┆        ┆              ┆ CÃCERES   ┆          ┆            ┆               ┆ EMERGENCIA    ┆           ┆               ┆               ┆               ┆               ┆        ┆ MELLITUS TIPO ┆               ┆              ┆               ┆ orina por     ┆               ┆               ┆            │\n",
              "│                ┆ E5…            ┆                ┆      ┆      ┆ 2             ┆               ┆        ┆              ┆            ┆          ┆            ┆               ┆ CON O…        ┆           ┆               ┆               ┆               ┆               ┆        ┆ 2 SIN M…      ┆               ┆              ┆               ┆ tira de…      ┆               ┆               ┆            │\n",
              "│ 202309         ┆ E61A9207C93CC1 ┆ 19571010       ┆ 64   ┆ 1    ┆ DIABETES      ┆ null          ┆ 220601 ┆ SAN MARTÃN  ┆ MARISCAL   ┆ JUANJUÃ ┆ 2          ┆ 71            ┆ APOYO AL      ┆ 0         ┆ DM0065208386  ┆ 20220407      ┆ OBSTETRIZ     ┆ 0             ┆ E789   ┆ TRASTORNO DEL ┆ PRESUNTIVO    ┆ 0            ┆ 31963         ┆ TIRA REACTIVA ┆ KIT           ┆ 1             ┆ 0.0        │\n",
              "│                ┆ 40C64BB93735F7 ┆                ┆      ┆      ┆ MELLITUS TIPO ┆               ┆        ┆              ┆ CÃCERES   ┆          ┆            ┆               ┆ DIAGNÃSTICO  ┆           ┆               ┆               ┆               ┆               ┆        ┆ METABOLISMO   ┆               ┆              ┆               ┆ PARA ORINA DE ┆               ┆               ┆            │\n",
              "│                ┆ E5…            ┆                ┆      ┆      ┆ 2             ┆               ┆        ┆              ┆            ┆          ┆            ┆               ┆               ┆           ┆               ┆               ┆               ┆               ┆        ┆ DE L…         ┆               ┆              ┆               ┆ 10…           ┆               ┆               ┆            │\n",
              "└────────────────┴────────────────┴────────────────┴──────┴──────┴───────────────┴───────────────┴────────┴──────────────┴────────────┴──────────┴────────────┴───────────────┴───────────────┴───────────┴───────────────┴───────────────┴───────────────┴───────────────┴────────┴───────────────┴───────────────┴──────────────┴───────────────┴───────────────┴───────────────┴───────────────┴────────────┘"
            ]
          },
          "execution_count": 57,
          "metadata": {},
          "output_type": "execute_result"
        }
      ],
      "source": [
        "df.filter(\n",
        "    pl.col(\"CODIGO_ANONIMIZADO\").str.starts_with(\"E61A9207C93CC140C64BB93735F7E5\")\n",
        ")\n"
      ]
    },
    {
      "cell_type": "markdown",
      "metadata": {},
      "source": [
        "### FORMA_FARMACEUTICA"
      ]
    },
    {
      "cell_type": "code",
      "execution_count": 60,
      "metadata": {},
      "outputs": [
        {
          "name": "stderr",
          "output_type": "stream",
          "text": [
            "C:\\Users\\quine\\AppData\\Local\\Temp\\ipykernel_12532\\3826610804.py:3: DeprecationWarning: `pl.count()` is deprecated. Please use `pl.len()` instead.\n",
            "(Deprecated in version 0.20.5)\n",
            "  .agg(pl.count().alias(\"count\")) \\\n"
          ]
        },
        {
          "data": {
            "text/html": [
              "<div><style>\n",
              ".dataframe > thead > tr,\n",
              ".dataframe > tbody > tr {\n",
              "  text-align: right;\n",
              "  white-space: pre-wrap;\n",
              "}\n",
              "</style>\n",
              "<small>shape: (50, 2)</small><table border=\"1\" class=\"dataframe\"><thead><tr><th>FORMA_FARMACEUTICA</th><th>count</th></tr><tr><td>str</td><td>u32</td></tr></thead><tbody><tr><td>null</td><td>24768141</td></tr><tr><td>&quot;TAB&quot;</td><td>8438924</td></tr><tr><td>&quot;UNI&quot;</td><td>5778977</td></tr><tr><td>&quot;INY&quot;</td><td>4436520</td></tr><tr><td>&quot;PAR&quot;</td><td>535836</td></tr><tr><td>&quot;SOL&quot;</td><td>270606</td></tr><tr><td>&quot;SUS&quot;</td><td>268356</td></tr><tr><td>&quot;CRM&quot;</td><td>227401</td></tr><tr><td>&quot;TAB_LM&quot;</td><td>162027</td></tr><tr><td>&quot;JBE&quot;</td><td>140576</td></tr><tr><td>&quot;AER&quot;</td><td>140379</td></tr><tr><td>&quot;SOL_OFT&quot;</td><td>117202</td></tr><tr><td>&quot;KIT&quot;</td><td>66200</td></tr><tr><td>&quot;PLV&quot;</td><td>55450</td></tr><tr><td>&hellip;</td><td>&hellip;</td></tr><tr><td>&quot;JABON LIQUIDO&quot;</td><td>125</td></tr><tr><td>&quot;EMUL&quot;</td><td>63</td></tr><tr><td>&quot;PAS&quot;</td><td>48</td></tr><tr><td>&quot;JABON&quot;</td><td>45</td></tr><tr><td>&quot;CHAMP&quot;</td><td>25</td></tr><tr><td>&quot;CAJA&quot;</td><td>8</td></tr><tr><td>&quot;CAP&quot;</td><td>6</td></tr><tr><td>&quot;BARRA&quot;</td><td>4</td></tr><tr><td>&quot;FCO-SUS&quot;</td><td>3</td></tr><tr><td>&quot;AMP&quot;</td><td>2</td></tr><tr><td>&quot;SISTE&quot;</td><td>2</td></tr><tr><td>&quot;DET&quot;</td><td>1</td></tr><tr><td>&quot;FCO-SOL&quot;</td><td>1</td></tr><tr><td>&quot;ENV&quot;</td><td>1</td></tr></tbody></table></div>"
            ],
            "text/plain": [
              "shape: (50, 2)\n",
              "┌────────────────────┬──────────┐\n",
              "│ FORMA_FARMACEUTICA ┆ count    │\n",
              "│ ---                ┆ ---      │\n",
              "│ str                ┆ u32      │\n",
              "╞════════════════════╪══════════╡\n",
              "│ null               ┆ 24768141 │\n",
              "│ TAB                ┆ 8438924  │\n",
              "│ UNI                ┆ 5778977  │\n",
              "│ INY                ┆ 4436520  │\n",
              "│ PAR                ┆ 535836   │\n",
              "│ SOL                ┆ 270606   │\n",
              "│ SUS                ┆ 268356   │\n",
              "│ CRM                ┆ 227401   │\n",
              "│ TAB_LM             ┆ 162027   │\n",
              "│ JBE                ┆ 140576   │\n",
              "│ AER                ┆ 140379   │\n",
              "│ SOL_OFT            ┆ 117202   │\n",
              "│ KIT                ┆ 66200    │\n",
              "│ PLV                ┆ 55450    │\n",
              "│ …                  ┆ …        │\n",
              "│ JABON LIQUIDO      ┆ 125      │\n",
              "│ EMUL               ┆ 63       │\n",
              "│ PAS                ┆ 48       │\n",
              "│ JABON              ┆ 45       │\n",
              "│ CHAMP              ┆ 25       │\n",
              "│ CAJA               ┆ 8        │\n",
              "│ CAP                ┆ 6        │\n",
              "│ BARRA              ┆ 4        │\n",
              "│ FCO-SUS            ┆ 3        │\n",
              "│ AMP                ┆ 2        │\n",
              "│ SISTE              ┆ 2        │\n",
              "│ DET                ┆ 1        │\n",
              "│ FCO-SOL            ┆ 1        │\n",
              "│ ENV                ┆ 1        │\n",
              "└────────────────────┴──────────┘"
            ]
          },
          "execution_count": 60,
          "metadata": {},
          "output_type": "execute_result"
        }
      ],
      "source": [
        "\n",
        "df.select(\"FORMA_FARMACEUTICA\") \\\n",
        "  .group_by(\"FORMA_FARMACEUTICA\") \\\n",
        "  .agg(pl.count().alias(\"count\")) \\\n",
        "  .sort(\"count\", descending=True)\n"
      ]
    },
    {
      "cell_type": "code",
      "execution_count": 61,
      "metadata": {},
      "outputs": [],
      "source": [
        "df = df.drop(\"FORMA_FARMACEUTICA\")\n"
      ]
    },
    {
      "cell_type": "markdown",
      "metadata": {},
      "source": [
        "### CODIGO_CONSUMO"
      ]
    },
    {
      "cell_type": "code",
      "execution_count": null,
      "metadata": {},
      "outputs": [
        {
          "data": {
            "text/html": [
              "<div><style>\n",
              ".dataframe > thead > tr,\n",
              ".dataframe > tbody > tr {\n",
              "  text-align: right;\n",
              "  white-space: pre-wrap;\n",
              "}\n",
              "</style>\n",
              "<small>shape: (0, 27)</small><table border=\"1\" class=\"dataframe\"><thead><tr><th>ULTIMO_MES_CONSUMOS</th><th>&hellip;</th><th>VALOR_NETO</th></tr><tr><td>i64</td><td>&hellip;</td><td>f64</td></tr></thead><tbody></tbody></table></div>"
            ],
            "text/plain": [
              "shape: (0, 27)\n",
              "┌─────────────────────┬────────────────────┬───┬────────────┐\n",
              "│ ULTIMO_MES_CONSUMOS ┆ CODIGO_ANONIMIZADO ┆ … ┆ VALOR_NETO │\n",
              "│ ---                 ┆ ---                ┆   ┆ ---        │\n",
              "│ i64                 ┆ str                ┆   ┆ f64        │\n",
              "╞═════════════════════╪════════════════════╪═══╪════════════╡\n",
              "└─────────────────────┴────────────────────┴───┴────────────┘"
            ]
          },
          "execution_count": 63,
          "metadata": {},
          "output_type": "execute_result"
        }
      ],
      "source": [
        "df_filtered = df.filter(\n",
        "    pl.col(\"NOMBRE_CONSUMO\").is_null() & pl.col(\"CODIGO_CONSUMO\").is_not_null()\n",
        ")\n",
        "\n",
        "df_filtered"
      ]
    },
    {
      "cell_type": "code",
      "execution_count": null,
      "metadata": {},
      "outputs": [],
      "source": [
        "df = df.drop(\"CODIGO_CONSUMO\")"
      ]
    },
    {
      "cell_type": "markdown",
      "metadata": {},
      "source": [
        "### NOMBRE_CONSUMO"
      ]
    },
    {
      "cell_type": "code",
      "execution_count": null,
      "metadata": {},
      "outputs": [],
      "source": []
    },
    {
      "cell_type": "markdown",
      "metadata": {},
      "source": []
    },
    {
      "cell_type": "markdown",
      "metadata": {},
      "source": [
        "### VALOR_NETO"
      ]
    },
    {
      "cell_type": "code",
      "execution_count": null,
      "metadata": {},
      "outputs": [],
      "source": [
        "import polars as pl\n",
        "\n",
        "df = df.with_columns(\n",
        "    pl.col(\"VALOR_NETO\").fill_null(0)\n",
        ")\n"
      ]
    },
    {
      "cell_type": "markdown",
      "metadata": {},
      "source": [
        "### TIPO_PERSONAL_SALUD"
      ]
    },
    {
      "cell_type": "code",
      "execution_count": 73,
      "metadata": {},
      "outputs": [
        {
          "name": "stderr",
          "output_type": "stream",
          "text": [
            "C:\\Users\\quine\\AppData\\Local\\Temp\\ipykernel_12532\\2661118794.py:3: DeprecationWarning: `pl.count()` is deprecated. Please use `pl.len()` instead.\n",
            "(Deprecated in version 0.20.5)\n",
            "  .agg(pl.count().alias(\"count\")) \\\n"
          ]
        },
        {
          "data": {
            "text/html": [
              "<div><style>\n",
              ".dataframe > thead > tr,\n",
              ".dataframe > tbody > tr {\n",
              "  text-align: right;\n",
              "  white-space: pre-wrap;\n",
              "}\n",
              "</style>\n",
              "<small>shape: (19, 2)</small><table border=\"1\" class=\"dataframe\"><thead><tr><th>TIPO_PERSONAL_SALUD</th><th>count</th></tr><tr><td>str</td><td>u32</td></tr></thead><tbody><tr><td>&quot;MEDICO&quot;</td><td>36976876</td></tr><tr><td>&quot;ENFERMERO(A)&quot;</td><td>1447995</td></tr><tr><td>&quot;AUXILIAR DE ENFERMERIA&quot;</td><td>1307509</td></tr><tr><td>&quot;TECNOLOGO MEDICO&quot;</td><td>1279968</td></tr><tr><td>&quot;PSICOLOGO&quot;</td><td>1064757</td></tr><tr><td>&quot;OBSTETRIZ&quot;</td><td>970923</td></tr><tr><td>&quot;BIOLOGO&quot;</td><td>843908</td></tr><tr><td>&quot;TEC. ENFERMERIA&quot;</td><td>768794</td></tr><tr><td>&quot;NUTRICIONISTA&quot;</td><td>426233</td></tr><tr><td>&quot;FARMACEUTICO&quot;</td><td>235792</td></tr><tr><td>&quot;ODONTOLOGO&quot;</td><td>178339</td></tr><tr><td>&quot;TECNICO LABORATORIO&quot;</td><td>137785</td></tr><tr><td>&quot;TRABAJADORA SOCIAL&quot;</td><td>12655</td></tr><tr><td>&quot;OTROS&quot;</td><td>7972</td></tr><tr><td>&quot;TECNICO DE FARMACIA&quot;</td><td>4053</td></tr><tr><td>&quot;TECNICO EN RAYOS X&quot;</td><td>1582</td></tr><tr><td>&quot;LIC EN EDUCACIÃN ESPECIAL&quot;</td><td>891</td></tr><tr><td>&quot;TEC ENFERMERIA PROG RADIOLOGIA&quot;</td><td>745</td></tr><tr><td>&quot;PERSONAL ADMINISTRATIVO&quot;</td><td>45</td></tr></tbody></table></div>"
            ],
            "text/plain": [
              "shape: (19, 2)\n",
              "┌────────────────────────────────┬──────────┐\n",
              "│ TIPO_PERSONAL_SALUD            ┆ count    │\n",
              "│ ---                            ┆ ---      │\n",
              "│ str                            ┆ u32      │\n",
              "╞════════════════════════════════╪══════════╡\n",
              "│ MEDICO                         ┆ 36976876 │\n",
              "│ ENFERMERO(A)                   ┆ 1447995  │\n",
              "│ AUXILIAR DE ENFERMERIA         ┆ 1307509  │\n",
              "│ TECNOLOGO MEDICO               ┆ 1279968  │\n",
              "│ PSICOLOGO                      ┆ 1064757  │\n",
              "│ OBSTETRIZ                      ┆ 970923   │\n",
              "│ BIOLOGO                        ┆ 843908   │\n",
              "│ TEC. ENFERMERIA                ┆ 768794   │\n",
              "│ NUTRICIONISTA                  ┆ 426233   │\n",
              "│ FARMACEUTICO                   ┆ 235792   │\n",
              "│ ODONTOLOGO                     ┆ 178339   │\n",
              "│ TECNICO LABORATORIO            ┆ 137785   │\n",
              "│ TRABAJADORA SOCIAL             ┆ 12655    │\n",
              "│ OTROS                          ┆ 7972     │\n",
              "│ TECNICO DE FARMACIA            ┆ 4053     │\n",
              "│ TECNICO EN RAYOS X             ┆ 1582     │\n",
              "│ LIC EN EDUCACIÃN ESPECIAL     ┆ 891      │\n",
              "│ TEC ENFERMERIA PROG RADIOLOGIA ┆ 745      │\n",
              "│ PERSONAL ADMINISTRATIVO        ┆ 45       │\n",
              "└────────────────────────────────┴──────────┘"
            ]
          },
          "execution_count": 73,
          "metadata": {},
          "output_type": "execute_result"
        }
      ],
      "source": [
        "df.select(\"TIPO_PERSONAL_SALUD\") \\\n",
        "  .group_by(\"TIPO_PERSONAL_SALUD\") \\\n",
        "  .agg(pl.count().alias(\"count\")) \\\n",
        "  .sort(\"count\", descending=True)\n"
      ]
    },
    {
      "cell_type": "code",
      "execution_count": 72,
      "metadata": {},
      "outputs": [
        {
          "data": {
            "text/html": [
              "<div><style>\n",
              ".dataframe > thead > tr,\n",
              ".dataframe > tbody > tr {\n",
              "  text-align: right;\n",
              "  white-space: pre-wrap;\n",
              "}\n",
              "</style>\n",
              "<small>shape: (0, 26)</small><table border=\"1\" class=\"dataframe\"><thead><tr><th>ULTIMO_MES_CONSUMOS</th><th>CODIGO_ANONIMIZADO</th><th>FECHA_NACIMIENTO</th><th>EDAD</th><th>SEXO</th><th>TIPO_DIABETES</th><th>FECHA_FALLECIMIENTO</th><th>UBIGEO</th><th>DEPARTAMENTO</th><th>PROVINCIA</th><th>DISTRITO</th><th>NIVEL_EESS</th><th>CODIGO_SERV_PRESTACIONAL</th><th>SERVICIO_PRESTACIONAL</th><th>DIAS_HOSP</th><th>ID_REGISTRO_REL</th><th>FECHA_ATENCION</th><th>TIPO_PERSONAL_SALUD</th><th>FECATE_POST_FECFED</th><th>CODDIA</th><th>C10_NOMBRE</th><th>TIPO_DIAGNOSTICO</th><th>TIPO_CONSUMO</th><th>NOMBRE_CONSUMO</th><th>CANTIDAD_ENTREGADA</th><th>VALOR_NETO</th></tr><tr><td>i64</td><td>str</td><td>i64</td><td>i64</td><td>i8</td><td>str</td><td>i64</td><td>i64</td><td>str</td><td>str</td><td>str</td><td>i64</td><td>i64</td><td>str</td><td>i64</td><td>str</td><td>i64</td><td>str</td><td>i8</td><td>str</td><td>str</td><td>str</td><td>i8</td><td>str</td><td>i64</td><td>f64</td></tr></thead><tbody></tbody></table></div>"
            ],
            "text/plain": [
              "shape: (0, 26)\n",
              "┌───────────────────┬───────────────────┬──────────────────┬──────┬──────┬───────────────┬───────────────────┬────────┬──────────────┬───────────┬──────────┬────────────┬───────────────────┬───────────────────┬───────────┬─────────────────┬────────────────┬──────────────────┬──────────────────┬────────┬────────────┬──────────────────┬──────────────┬────────────────┬──────────────────┬────────────┐\n",
              "│ ULTIMO_MES_CONSUM ┆ CODIGO_ANONIMIZAD ┆ FECHA_NACIMIENTO ┆ EDAD ┆ SEXO ┆ TIPO_DIABETES ┆ FECHA_FALLECIMIEN ┆ UBIGEO ┆ DEPARTAMENTO ┆ PROVINCIA ┆ DISTRITO ┆ NIVEL_EESS ┆ CODIGO_SERV_PREST ┆ SERVICIO_PRESTACI ┆ DIAS_HOSP ┆ ID_REGISTRO_REL ┆ FECHA_ATENCION ┆ TIPO_PERSONAL_SA ┆ FECATE_POST_FECF ┆ CODDIA ┆ C10_NOMBRE ┆ TIPO_DIAGNOSTICO ┆ TIPO_CONSUMO ┆ NOMBRE_CONSUMO ┆ CANTIDAD_ENTREGA ┆ VALOR_NETO │\n",
              "│ OS                ┆ O                 ┆ ---              ┆ ---  ┆ ---  ┆ ---           ┆ TO                ┆ ---    ┆ ---          ┆ ---       ┆ ---      ┆ ---        ┆ ACIONAL           ┆ ONAL              ┆ ---       ┆ ---             ┆ ---            ┆ LUD              ┆ ED               ┆ ---    ┆ ---        ┆ ---              ┆ ---          ┆ ---            ┆ DA               ┆ ---        │\n",
              "│ ---               ┆ ---               ┆ i64              ┆ i64  ┆ i8   ┆ str           ┆ ---               ┆ i64    ┆ str          ┆ str       ┆ str      ┆ i64        ┆ ---               ┆ ---               ┆ i64       ┆ str             ┆ i64            ┆ ---              ┆ ---              ┆ str    ┆ str        ┆ str              ┆ i8           ┆ str            ┆ ---              ┆ f64        │\n",
              "│ i64               ┆ str               ┆                  ┆      ┆      ┆               ┆ i64               ┆        ┆              ┆           ┆          ┆            ┆ i64               ┆ str               ┆           ┆                 ┆                ┆ str              ┆ i8               ┆        ┆            ┆                  ┆              ┆                ┆ i64              ┆            │\n",
              "╞═══════════════════╪═══════════════════╪══════════════════╪══════╪══════╪═══════════════╪═══════════════════╪════════╪══════════════╪═══════════╪══════════╪════════════╪═══════════════════╪═══════════════════╪═══════════╪═════════════════╪════════════════╪══════════════════╪══════════════════╪════════╪════════════╪══════════════════╪══════════════╪════════════════╪══════════════════╪════════════╡\n",
              "└───────────────────┴───────────────────┴──────────────────┴──────┴──────┴───────────────┴───────────────────┴────────┴──────────────┴───────────┴──────────┴────────────┴───────────────────┴───────────────────┴───────────┴─────────────────┴────────────────┴──────────────────┴──────────────────┴────────┴────────────┴──────────────────┴──────────────┴────────────────┴──────────────────┴────────────┘"
            ]
          },
          "execution_count": 72,
          "metadata": {},
          "output_type": "execute_result"
        }
      ],
      "source": [
        "pl.Config.set_tbl_cols(100)  # or a large enough number to cover all your columns\n",
        "pl.Config.set_tbl_width_chars(400)  # increase width if needed\n",
        "\n",
        "\n",
        "df.filter(\n",
        "    (pl.col(\"TIPO_PERSONAL_SALUD\").is_null()) \n",
        ")\n"
      ]
    },
    {
      "cell_type": "code",
      "execution_count": 71,
      "metadata": {},
      "outputs": [],
      "source": [
        "df = df.with_columns(\n",
        "    pl.col(\"TIPO_PERSONAL_SALUD\").fill_null(\"AUXILIAR DE ENFERMERIA\")\n",
        ")\n"
      ]
    },
    {
      "cell_type": "markdown",
      "metadata": {},
      "source": [
        "# EDA"
      ]
    },
    {
      "cell_type": "markdown",
      "metadata": {},
      "source": [
        "# Data Transformation"
      ]
    },
    {
      "cell_type": "markdown",
      "metadata": {},
      "source": []
    },
    {
      "cell_type": "code",
      "execution_count": null,
      "metadata": {},
      "outputs": [],
      "source": []
    },
    {
      "cell_type": "code",
      "execution_count": null,
      "metadata": {},
      "outputs": [],
      "source": []
    },
    {
      "cell_type": "code",
      "execution_count": null,
      "metadata": {},
      "outputs": [],
      "source": []
    },
    {
      "cell_type": "code",
      "execution_count": null,
      "metadata": {},
      "outputs": [],
      "source": []
    },
    {
      "cell_type": "code",
      "execution_count": null,
      "metadata": {},
      "outputs": [],
      "source": []
    },
    {
      "cell_type": "code",
      "execution_count": null,
      "metadata": {},
      "outputs": [],
      "source": []
    },
    {
      "cell_type": "code",
      "execution_count": null,
      "metadata": {},
      "outputs": [],
      "source": []
    }
  ],
  "metadata": {
    "colab": {
      "provenance": []
    },
    "kernelspec": {
      "display_name": "venv",
      "language": "python",
      "name": "python3"
    },
    "language_info": {
      "codemirror_mode": {
        "name": "ipython",
        "version": 3
      },
      "file_extension": ".py",
      "mimetype": "text/x-python",
      "name": "python",
      "nbconvert_exporter": "python",
      "pygments_lexer": "ipython3",
      "version": "3.11.4"
    }
  },
  "nbformat": 4,
  "nbformat_minor": 0
}
