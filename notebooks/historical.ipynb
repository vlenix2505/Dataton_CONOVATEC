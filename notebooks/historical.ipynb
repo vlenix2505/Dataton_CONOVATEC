{
 "cells": [
  {
   "cell_type": "code",
   "execution_count": 1,
   "id": "333cac0f",
   "metadata": {},
   "outputs": [
    {
     "data": {
      "text/html": [
       "<div><style>\n",
       ".dataframe > thead > tr,\n",
       ".dataframe > tbody > tr {\n",
       "  text-align: right;\n",
       "  white-space: pre-wrap;\n",
       "}\n",
       "</style>\n",
       "<small>shape: (5, 27)</small><table border=\"1\" class=\"dataframe\"><thead><tr><th>CODIGO_ANONIMIZADO</th><th>FECHA_NACIMIENTO</th><th>EDAD</th><th>SEXO</th><th>TIPO_DIABETES</th><th>FECHA_FALLECIMIENTO</th><th>UBIGEO</th><th>DEPARTAMENTO</th><th>PROVINCIA</th><th>DISTRITO</th><th>NIVEL_EESS</th><th>SERVICIO_PRESTACIONAL</th><th>DIAS_HOSP</th><th>ID_REGISTRO_REL</th><th>FECHA_ATENCION</th><th>TIPO_PERSONAL_SALUD</th><th>FECATE_POST_FECFED</th><th>CODDIA</th><th>C10_NOMBRE</th><th>TIPO_DIAGNOSTICO</th><th>TIPO_CONSUMO</th><th>CODIGO_CONSUMO</th><th>NOMBRE_CONSUMO</th><th>CANTIDAD_ENTREGADA</th><th>VALOR_NETO</th><th>CLAVE_CONSUMO</th><th>CONSUMO_OFICIAL</th></tr><tr><td>str</td><td>datetime[μs]</td><td>i64</td><td>str</td><td>str</td><td>datetime[μs]</td><td>i64</td><td>str</td><td>str</td><td>str</td><td>i64</td><td>str</td><td>i64</td><td>str</td><td>datetime[μs]</td><td>str</td><td>str</td><td>str</td><td>str</td><td>str</td><td>str</td><td>i64</td><td>str</td><td>i64</td><td>f64</td><td>str</td><td>str</td></tr></thead><tbody><tr><td>&quot;18C9F497A5208F212E68D50C112AFD…</td><td>1983-02-09 00:00:00</td><td>38</td><td>&quot;FEMENINO&quot;</td><td>&quot;DIABETES MELLITUS TIPO 2&quot;</td><td>null</td><td>150108</td><td>&quot;LIMA&quot;</td><td>&quot;LIMA&quot;</td><td>&quot;CHORRILLOS&quot;</td><td>1</td><td>&quot;ATENCIÃN PRENATAL&quot;</td><td>0</td><td>&quot;DM0042047563&quot;</td><td>2022-01-06 00:00:00</td><td>&quot;ENFERMERO(A)&quot;</td><td>&quot;NO&quot;</td><td>&quot;Z348&quot;</td><td>&quot;SUPERVISION DE OTROS EMBARAZOS…</td><td>&quot;DEFINITIVO&nbsp;&nbsp;&nbsp;&nbsp;&nbsp;&quot;</td><td>&quot;MEDICAMENTO&quot;</td><td>20635</td><td>&quot;CALCIO CARBONATO&quot;</td><td>60</td><td>0.0</td><td>&quot;MEDICAMENTO_20635&quot;</td><td>null</td></tr><tr><td>&quot;10991DD5539E8E7DA5F1543EE71B1D…</td><td>1978-10-24 00:00:00</td><td>43</td><td>&quot;MASCULINO&quot;</td><td>&quot;DIABETES MELLITUS NO ESPECIFIC…</td><td>2022-06-12 00:00:00</td><td>150135</td><td>&quot;LIMA&quot;</td><td>&quot;LIMA&quot;</td><td>&quot;SAN MARTÃN DE PORRES&quot;</td><td>3</td><td>&quot;INTERNAMIENTO EN EESS SIN INTE…</td><td>7</td><td>&quot;DM0043974259&quot;</td><td>2022-06-06 00:00:00</td><td>&quot;MEDICO&quot;</td><td>&quot;SI&quot;</td><td>&quot;C859&quot;</td><td>&quot;LINFOMA NO HODGKIN&nbsp;&nbsp;NO ESPECIF…</td><td>&quot;REPETIDO&nbsp;&nbsp;&nbsp;&nbsp;&nbsp;&nbsp;&nbsp;&quot;</td><td>&quot;MEDICAMENTO&quot;</td><td>35040</td><td>&quot;OMEPRAZOL&quot;</td><td>15</td><td>0.945</td><td>&quot;MEDICAMENTO_35040&quot;</td><td>null</td></tr><tr><td>&quot;9ED115C3E24F0B26F8B2BAD3849F2D…</td><td>1955-07-20 00:00:00</td><td>67</td><td>&quot;FEMENINO&quot;</td><td>&quot;DIABETES MELLITUS TIPO 2&quot;</td><td>null</td><td>150110</td><td>&quot;LIMA&quot;</td><td>&quot;LIMA&quot;</td><td>&quot;COMAS&quot;</td><td>1</td><td>&quot;CONSULTA EXTERNA&quot;</td><td>0</td><td>&quot;DM0044094856&quot;</td><td>2022-08-01 00:00:00</td><td>&quot;MEDICO&quot;</td><td>&quot;SI&quot;</td><td>&quot;J00X&quot;</td><td>&quot;RINOFARINGITIS AGUDA [RESFRIAD…</td><td>&quot;DEFINITIVO&nbsp;&nbsp;&nbsp;&nbsp;&nbsp;&quot;</td><td>&quot;MEDICAMENTO&quot;</td><td>4982</td><td>&quot;NAPROXENO&quot;</td><td>8</td><td>0.0</td><td>&quot;MEDICAMENTO_4982&quot;</td><td>null</td></tr><tr><td>&quot;F0362A16D552BA88EC574825F40185…</td><td>1979-02-24 00:00:00</td><td>43</td><td>&quot;FEMENINO&quot;</td><td>&quot;DIABETES MELLITUS TIPO 2&quot;</td><td>null</td><td>60101</td><td>&quot;CAJAMARCA&quot;</td><td>&quot;CAJAMARCA&quot;</td><td>&quot;CAJAMARCA&quot;</td><td>2</td><td>&quot;INTERNAMIENTO EN EESS SIN INTE…</td><td>15</td><td>&quot;DM0042244574&quot;</td><td>2022-11-17 00:00:00</td><td>&quot;MEDICO&quot;</td><td>&quot;SI&quot;</td><td>&quot;I10X&quot;</td><td>&quot;HIPERTENSION ESENCIAL (PRIMARI…</td><td>&quot;DEFINITIVO&nbsp;&nbsp;&nbsp;&nbsp;&nbsp;&quot;</td><td>&quot;MEDICAMENTO&quot;</td><td>4695</td><td>&quot;METFORMINA CLORHIDRATO&quot;</td><td>102</td><td>0.0</td><td>&quot;MEDICAMENTO_4695&quot;</td><td>null</td></tr><tr><td>&quot;8B4E5D835EB1692921C929529C02CE…</td><td>1959-08-06 00:00:00</td><td>62</td><td>&quot;FEMENINO&quot;</td><td>&quot;DIABETES MELLITUS TIPO 1&quot;</td><td>null</td><td>60307</td><td>&quot;CAJAMARCA&quot;</td><td>&quot;CELENDÃN&quot;</td><td>&quot;MIGUEL IGLESIAS&quot;</td><td>1</td><td>&quot;CONSULTA EXTERNA&quot;</td><td>0</td><td>&quot;DM0042432103&quot;</td><td>2022-01-05 00:00:00</td><td>&quot;ENFERMERO(A)&quot;</td><td>&quot;SI&quot;</td><td>&quot;I10X&quot;</td><td>&quot;HIPERTENSION ESENCIAL (PRIMARI…</td><td>&quot;REPETIDO&nbsp;&nbsp;&nbsp;&nbsp;&nbsp;&nbsp;&nbsp;&quot;</td><td>&quot;MEDICAMENTO&quot;</td><td>4523</td><td>&quot;LOSARTAN POTASICO&quot;</td><td>30</td><td>0.0</td><td>&quot;MEDICAMENTO_4523&quot;</td><td>null</td></tr></tbody></table></div>"
      ],
      "text/plain": [
       "shape: (5, 27)\n",
       "┌────────────┬────────────┬──────┬───────────┬───┬────────────┬────────────┬───────────┬───────────┐\n",
       "│ CODIGO_ANO ┆ FECHA_NACI ┆ EDAD ┆ SEXO      ┆ … ┆ CANTIDAD_E ┆ VALOR_NETO ┆ CLAVE_CON ┆ CONSUMO_O │\n",
       "│ NIMIZADO   ┆ MIENTO     ┆ ---  ┆ ---       ┆   ┆ NTREGADA   ┆ ---        ┆ SUMO      ┆ FICIAL    │\n",
       "│ ---        ┆ ---        ┆ i64  ┆ str       ┆   ┆ ---        ┆ f64        ┆ ---       ┆ ---       │\n",
       "│ str        ┆ datetime[μ ┆      ┆           ┆   ┆ i64        ┆            ┆ str       ┆ str       │\n",
       "│            ┆ s]         ┆      ┆           ┆   ┆            ┆            ┆           ┆           │\n",
       "╞════════════╪════════════╪══════╪═══════════╪═══╪════════════╪════════════╪═══════════╪═══════════╡\n",
       "│ 18C9F497A5 ┆ 1983-02-09 ┆ 38   ┆ FEMENINO  ┆ … ┆ 60         ┆ 0.0        ┆ MEDICAMEN ┆ null      │\n",
       "│ 208F212E68 ┆ 00:00:00   ┆      ┆           ┆   ┆            ┆            ┆ TO_20635  ┆           │\n",
       "│ D50C112AFD ┆            ┆      ┆           ┆   ┆            ┆            ┆           ┆           │\n",
       "│ …          ┆            ┆      ┆           ┆   ┆            ┆            ┆           ┆           │\n",
       "│ 10991DD553 ┆ 1978-10-24 ┆ 43   ┆ MASCULINO ┆ … ┆ 15         ┆ 0.945      ┆ MEDICAMEN ┆ null      │\n",
       "│ 9E8E7DA5F1 ┆ 00:00:00   ┆      ┆           ┆   ┆            ┆            ┆ TO_35040  ┆           │\n",
       "│ 543EE71B1D ┆            ┆      ┆           ┆   ┆            ┆            ┆           ┆           │\n",
       "│ …          ┆            ┆      ┆           ┆   ┆            ┆            ┆           ┆           │\n",
       "│ 9ED115C3E2 ┆ 1955-07-20 ┆ 67   ┆ FEMENINO  ┆ … ┆ 8          ┆ 0.0        ┆ MEDICAMEN ┆ null      │\n",
       "│ 4F0B26F8B2 ┆ 00:00:00   ┆      ┆           ┆   ┆            ┆            ┆ TO_4982   ┆           │\n",
       "│ BAD3849F2D ┆            ┆      ┆           ┆   ┆            ┆            ┆           ┆           │\n",
       "│ …          ┆            ┆      ┆           ┆   ┆            ┆            ┆           ┆           │\n",
       "│ F0362A16D5 ┆ 1979-02-24 ┆ 43   ┆ FEMENINO  ┆ … ┆ 102        ┆ 0.0        ┆ MEDICAMEN ┆ null      │\n",
       "│ 52BA88EC57 ┆ 00:00:00   ┆      ┆           ┆   ┆            ┆            ┆ TO_4695   ┆           │\n",
       "│ 4825F40185 ┆            ┆      ┆           ┆   ┆            ┆            ┆           ┆           │\n",
       "│ …          ┆            ┆      ┆           ┆   ┆            ┆            ┆           ┆           │\n",
       "│ 8B4E5D835E ┆ 1959-08-06 ┆ 62   ┆ FEMENINO  ┆ … ┆ 30         ┆ 0.0        ┆ MEDICAMEN ┆ null      │\n",
       "│ B1692921C9 ┆ 00:00:00   ┆      ┆           ┆   ┆            ┆            ┆ TO_4523   ┆           │\n",
       "│ 29529C02CE ┆            ┆      ┆           ┆   ┆            ┆            ┆           ┆           │\n",
       "│ …          ┆            ┆      ┆           ┆   ┆            ┆            ┆           ┆           │\n",
       "└────────────┴────────────┴──────┴───────────┴───┴────────────┴────────────┴───────────┴───────────┘"
      ]
     },
     "execution_count": 1,
     "metadata": {},
     "output_type": "execute_result"
    }
   ],
   "source": [
    "import polars as pl\n",
    "\n",
    "df_historical = pl.read_parquet(\"../data/df_historical.parquet\")\n",
    "\n",
    "df_historical.head()  # to preview the data\n"
   ]
  },
  {
   "cell_type": "code",
   "execution_count": 4,
   "id": "c070695d",
   "metadata": {},
   "outputs": [
    {
     "data": {
      "text/html": [
       "<div><style>\n",
       ".dataframe > thead > tr,\n",
       ".dataframe > tbody > tr {\n",
       "  text-align: right;\n",
       "  white-space: pre-wrap;\n",
       "}\n",
       "</style>\n",
       "<small>shape: (10, 2)</small><table border=\"1\" class=\"dataframe\"><thead><tr><th>NOMBRE_CONSUMO</th><th>count</th></tr><tr><td>str</td><td>u32</td></tr></thead><tbody><tr><td>null</td><td>528328</td></tr><tr><td>&quot;Dosaje de glucosa en sangre&nbsp;&nbsp;c…</td><td>341068</td></tr><tr><td>&quot;METFORMINA CLORHIDRATO&quot;</td><td>287471</td></tr><tr><td>&quot;SODIO CLORURO&quot;</td><td>252853</td></tr><tr><td>&quot;PARACETAMOL&quot;</td><td>192655</td></tr><tr><td>&quot;InyecciÃ³n profilÃ¡ctica&nbsp;&nbsp;diag…</td><td>184447</td></tr><tr><td>&quot;Dosaje de creatinina en sangre&quot;</td><td>182381</td></tr><tr><td>&quot;ConsejerÃ­a en medicina preven…</td><td>163798</td></tr><tr><td>&quot;Recuento sanguÃ­neo completo a…</td><td>161182</td></tr><tr><td>&quot;ConsejerÃ­a en medicina preven…</td><td>151441</td></tr></tbody></table></div>"
      ],
      "text/plain": [
       "shape: (10, 2)\n",
       "┌─────────────────────────────────┬────────┐\n",
       "│ NOMBRE_CONSUMO                  ┆ count  │\n",
       "│ ---                             ┆ ---    │\n",
       "│ str                             ┆ u32    │\n",
       "╞═════════════════════════════════╪════════╡\n",
       "│ null                            ┆ 528328 │\n",
       "│ Dosaje de glucosa en sangre  c… ┆ 341068 │\n",
       "│ METFORMINA CLORHIDRATO          ┆ 287471 │\n",
       "│ SODIO CLORURO                   ┆ 252853 │\n",
       "│ PARACETAMOL                     ┆ 192655 │\n",
       "│ InyecciÃ³n profilÃ¡ctica  diag… ┆ 184447 │\n",
       "│ Dosaje de creatinina en sangre  ┆ 182381 │\n",
       "│ ConsejerÃ­a en medicina preven…  ┆ 163798 │\n",
       "│ Recuento sanguÃ­neo completo a…  ┆ 161182 │\n",
       "│ ConsejerÃ­a en medicina preven…  ┆ 151441 │\n",
       "└─────────────────────────────────┴────────┘"
      ]
     },
     "execution_count": 4,
     "metadata": {},
     "output_type": "execute_result"
    }
   ],
   "source": [
    "top_10 = (\n",
    "    df_historical\n",
    "    .group_by(\"NOMBRE_CONSUMO\")\n",
    "    .agg(pl.len().alias(\"count\"))\n",
    "    .sort(\"count\", descending=True)\n",
    "    .head(10)\n",
    ")\n",
    "\n",
    "top_10"
   ]
  },
  {
   "cell_type": "code",
   "execution_count": 10,
   "id": "17ef4cb8",
   "metadata": {},
   "outputs": [
    {
     "data": {
      "text/html": [
       "<div><style>\n",
       ".dataframe > thead > tr,\n",
       ".dataframe > tbody > tr {\n",
       "  text-align: right;\n",
       "  white-space: pre-wrap;\n",
       "}\n",
       "</style>\n",
       "<small>shape: (9, 27)</small><table border=\"1\" class=\"dataframe\"><thead><tr><th>CODIGO_ANONIMIZADO</th><th>FECHA_NACIMIENTO</th><th>EDAD</th><th>SEXO</th><th>TIPO_DIABETES</th><th>FECHA_FALLECIMIENTO</th><th>UBIGEO</th><th>DEPARTAMENTO</th><th>PROVINCIA</th><th>DISTRITO</th><th>NIVEL_EESS</th><th>SERVICIO_PRESTACIONAL</th><th>DIAS_HOSP</th><th>ID_REGISTRO_REL</th><th>FECHA_ATENCION</th><th>TIPO_PERSONAL_SALUD</th><th>FECATE_POST_FECFED</th><th>CODDIA</th><th>C10_NOMBRE</th><th>TIPO_DIAGNOSTICO</th><th>TIPO_CONSUMO</th><th>CODIGO_CONSUMO</th><th>NOMBRE_CONSUMO</th><th>CANTIDAD_ENTREGADA</th><th>VALOR_NETO</th><th>CLAVE_CONSUMO</th><th>CONSUMO_OFICIAL</th></tr><tr><td>str</td><td>datetime[μs]</td><td>i64</td><td>str</td><td>str</td><td>datetime[μs]</td><td>i64</td><td>str</td><td>str</td><td>str</td><td>i64</td><td>str</td><td>i64</td><td>str</td><td>datetime[μs]</td><td>str</td><td>str</td><td>str</td><td>str</td><td>str</td><td>str</td><td>i64</td><td>str</td><td>i64</td><td>f64</td><td>str</td><td>str</td></tr></thead><tbody><tr><td>&quot;282FD4F233486B80725A4FD6FA47C9…</td><td>1991-05-31 00:00:00</td><td>32</td><td>&quot;FEMENINO&quot;</td><td>&quot;DIABETES MELLITUS TIPO 2&quot;</td><td>null</td><td>150101</td><td>&quot;LIMA&quot;</td><td>&quot;LIMA&quot;</td><td>&quot;LIMA&quot;</td><td>3</td><td>&quot;CESÃREA&quot;</td><td>2</td><td>&quot;DM0065827242&quot;</td><td>2023-09-16 00:00:00</td><td>&quot;MEDICO&quot;</td><td>&quot;SI&quot;</td><td>&quot;E669&quot;</td><td>&quot;OBESIDAD&nbsp;&nbsp;NO ESPECIFICADA&quot;</td><td>&quot;DEFINITIVO&nbsp;&nbsp;&nbsp;&nbsp;&nbsp;&quot;</td><td>&quot;PROCEDIMIENTO&quot;</td><td>86337</td><td>&quot;Anticuerpos contra la insulina&quot;</td><td>1</td><td>15.19</td><td>&quot;PROCEDIMIENTO_86337&quot;</td><td>null</td></tr><tr><td>&quot;E8CACB6D76C36E4ADAFDEE904D5240…</td><td>1993-06-10 00:00:00</td><td>28</td><td>&quot;FEMENINO&quot;</td><td>&quot;OTRAS DIABETES MELLITUS ESPECI…</td><td>null</td><td>150101</td><td>&quot;LIMA&quot;</td><td>&quot;LIMA&quot;</td><td>&quot;LIMA&quot;</td><td>3</td><td>&quot;INTERNAMIENTO EN EESS SIN INTE…</td><td>3</td><td>&quot;DM0056081989&quot;</td><td>2022-06-03 00:00:00</td><td>&quot;MEDICO&quot;</td><td>&quot;NO&quot;</td><td>&quot;E059&quot;</td><td>&quot;TIROTOXICOSIS&nbsp;&nbsp;NO ESPECIFICADA&quot;</td><td>&quot;DEFINITIVO&nbsp;&nbsp;&nbsp;&nbsp;&nbsp;&quot;</td><td>&quot;PROCEDIMIENTO&quot;</td><td>86337</td><td>&quot;Anticuerpos contra la insulina&quot;</td><td>1</td><td>15.19</td><td>&quot;PROCEDIMIENTO_86337&quot;</td><td>null</td></tr><tr><td>&quot;C65CF0F5C1625510B3474B6686F30C…</td><td>1990-05-08 00:00:00</td><td>32</td><td>&quot;FEMENINO&quot;</td><td>&quot;DIABETES MELLITUS TIPO 2&quot;</td><td>null</td><td>150101</td><td>&quot;LIMA&quot;</td><td>&quot;LIMA&quot;</td><td>&quot;LIMA&quot;</td><td>3</td><td>&quot;CESÃREA&quot;</td><td>3</td><td>&quot;DM0054301808&quot;</td><td>2023-04-12 00:00:00</td><td>&quot;MEDICO&quot;</td><td>&quot;SI&quot;</td><td>&quot;O992&quot;</td><td>&quot;ENFERMEDADES ENDOCRINAS&nbsp;&nbsp;DE LA…</td><td>&quot;DEFINITIVO&nbsp;&nbsp;&nbsp;&nbsp;&nbsp;&quot;</td><td>&quot;PROCEDIMIENTO&quot;</td><td>86337</td><td>&quot;Anticuerpos contra la insulina&quot;</td><td>1</td><td>15.19</td><td>&quot;PROCEDIMIENTO_86337&quot;</td><td>null</td></tr><tr><td>&quot;3FF418B4A5C0E89656FFEE21A0B509…</td><td>1974-12-27 00:00:00</td><td>47</td><td>&quot;FEMENINO&quot;</td><td>&quot;DIABETES MELLITUS TIPO 1&quot;</td><td>2022-02-24 00:00:00</td><td>160201</td><td>&quot;LORETO&quot;</td><td>&quot;ALTO AMAZONAS&quot;</td><td>&quot;YURIMAGUAS&quot;</td><td>2</td><td>&quot;INTERNAMIENTO CON ESTANCIA EN …</td><td>15</td><td>&quot;DM0057858836&quot;</td><td>2022-02-24 00:00:00</td><td>&quot;MEDICO&quot;</td><td>&quot;SI&quot;</td><td>&quot;R6521&quot;</td><td>&quot;SEPSIS GRAVE CON SHOCK SÃPTIC…</td><td>&quot;DEFINITIVO&nbsp;&nbsp;&nbsp;&nbsp;&nbsp;&quot;</td><td>&quot;PROCEDIMIENTO&quot;</td><td>91052</td><td>&quot;Test de secreciÃ³n gÃ¡strica c…</td><td>1</td><td>0.0</td><td>&quot;PROCEDIMIENTO_91052&quot;</td><td>null</td></tr><tr><td>&quot;DAE220E6AD501443CCF729E0234861…</td><td>1982-10-15 00:00:00</td><td>40</td><td>&quot;FEMENINO&quot;</td><td>&quot;DIABETES MELLITUS TIPO 2&quot;</td><td>null</td><td>150101</td><td>&quot;LIMA&quot;</td><td>&quot;LIMA&quot;</td><td>&quot;LIMA&quot;</td><td>3</td><td>&quot;CESÃREA&quot;</td><td>13</td><td>&quot;DM0048221202&quot;</td><td>2023-03-26 00:00:00</td><td>&quot;MEDICO&quot;</td><td>&quot;SI&quot;</td><td>&quot;O249&quot;</td><td>&quot;DIABETES MELLITUS NO ESPECIFIC…</td><td>&quot;DEFINITIVO&nbsp;&nbsp;&nbsp;&nbsp;&nbsp;&quot;</td><td>&quot;PROCEDIMIENTO&quot;</td><td>86337</td><td>&quot;Anticuerpos contra la insulina&quot;</td><td>1</td><td>15.19</td><td>&quot;PROCEDIMIENTO_86337&quot;</td><td>null</td></tr><tr><td>&quot;808A1B38679A9AEDE935AF580AA52D…</td><td>1948-09-18 00:00:00</td><td>74</td><td>&quot;MASCULINO&quot;</td><td>&quot;DIABETES MELLITUS TIPO 2&quot;</td><td>null</td><td>110201</td><td>&quot;ICA&quot;</td><td>&quot;CHINCHA&quot;</td><td>&quot;CHINCHA ALTA&quot;</td><td>2</td><td>&quot;INTERNAMIENTO EN EESS SIN INTE…</td><td>6</td><td>&quot;DM0028628101&quot;</td><td>2022-10-05 00:00:00</td><td>&quot;MEDICO&quot;</td><td>&quot;SI&quot;</td><td>&quot;N19X&quot;</td><td>&quot;INSUFICIENCIA RENAL NO ESPECIF…</td><td>&quot;DEFINITIVO&nbsp;&nbsp;&nbsp;&nbsp;&nbsp;&quot;</td><td>&quot;PROCEDIMIENTO&quot;</td><td>91052</td><td>&quot;Test de secreciÃ³n gÃ¡strica c…</td><td>1</td><td>17.19</td><td>&quot;PROCEDIMIENTO_91052&quot;</td><td>null</td></tr><tr><td>&quot;EF038F624BB3AF3D1BD67FF2C86A73…</td><td>1953-07-01 00:00:00</td><td>69</td><td>&quot;MASCULINO&quot;</td><td>&quot;DIABETES MELLITUS TIPO 2&quot;</td><td>2023-10-08 00:00:00</td><td>160201</td><td>&quot;LORETO&quot;</td><td>&quot;ALTO AMAZONAS&quot;</td><td>&quot;YURIMAGUAS&quot;</td><td>2</td><td>&quot;INTERNAMIENTO EN EESS SIN INTE…</td><td>14</td><td>&quot;DM0031238357&quot;</td><td>2023-06-28 00:00:00</td><td>&quot;MEDICO&quot;</td><td>&quot;NO&quot;</td><td>&quot;G009&quot;</td><td>&quot;MENINGITIS BACTERIANA&nbsp;&nbsp;NO ESPE…</td><td>&quot;DEFINITIVO&nbsp;&nbsp;&nbsp;&nbsp;&nbsp;&quot;</td><td>&quot;PROCEDIMIENTO&quot;</td><td>91052</td><td>&quot;Test de secreciÃ³n gÃ¡strica c…</td><td>1</td><td>17.19</td><td>&quot;PROCEDIMIENTO_91052&quot;</td><td>null</td></tr><tr><td>&quot;9FAE5D6A0F667A01D3CC046691442E…</td><td>1981-07-01 00:00:00</td><td>41</td><td>&quot;FEMENINO&quot;</td><td>&quot;DIABETES MELLITUS NO ESPECIFIC…</td><td>null</td><td>150101</td><td>&quot;LIMA&quot;</td><td>&quot;LIMA&quot;</td><td>&quot;LIMA&quot;</td><td>3</td><td>&quot;CESÃREA&quot;</td><td>17</td><td>&quot;DM0039640723&quot;</td><td>2022-11-24 00:00:00</td><td>&quot;MEDICO&quot;</td><td>&quot;SI&quot;</td><td>&quot;O249&quot;</td><td>&quot;DIABETES MELLITUS NO ESPECIFIC…</td><td>&quot;DEFINITIVO&nbsp;&nbsp;&nbsp;&nbsp;&nbsp;&quot;</td><td>&quot;PROCEDIMIENTO&quot;</td><td>86337</td><td>&quot;Anticuerpos contra la insulina&quot;</td><td>2</td><td>30.38</td><td>&quot;PROCEDIMIENTO_86337&quot;</td><td>null</td></tr><tr><td>&quot;4ECAF084D655C693F577A1B675111F…</td><td>1983-02-04 00:00:00</td><td>39</td><td>&quot;FEMENINO&quot;</td><td>&quot;DIABETES MELLITUS NO ESPECIFIC…</td><td>null</td><td>150101</td><td>&quot;LIMA&quot;</td><td>&quot;LIMA&quot;</td><td>&quot;LIMA&quot;</td><td>3</td><td>&quot;CESÃREA&quot;</td><td>6</td><td>&quot;DM0040441848&quot;</td><td>2022-09-19 00:00:00</td><td>&quot;MEDICO&quot;</td><td>&quot;NO&quot;</td><td>&quot;O861&quot;</td><td>&quot;OTRAS INFECCIONES GENITALES CO…</td><td>&quot;DEFINITIVO&nbsp;&nbsp;&nbsp;&nbsp;&nbsp;&quot;</td><td>&quot;PROCEDIMIENTO&quot;</td><td>86337</td><td>&quot;Anticuerpos contra la insulina&quot;</td><td>1</td><td>15.19</td><td>&quot;PROCEDIMIENTO_86337&quot;</td><td>null</td></tr></tbody></table></div>"
      ],
      "text/plain": [
       "shape: (9, 27)\n",
       "┌────────────┬────────────┬──────┬───────────┬───┬────────────┬────────────┬───────────┬───────────┐\n",
       "│ CODIGO_ANO ┆ FECHA_NACI ┆ EDAD ┆ SEXO      ┆ … ┆ CANTIDAD_E ┆ VALOR_NETO ┆ CLAVE_CON ┆ CONSUMO_O │\n",
       "│ NIMIZADO   ┆ MIENTO     ┆ ---  ┆ ---       ┆   ┆ NTREGADA   ┆ ---        ┆ SUMO      ┆ FICIAL    │\n",
       "│ ---        ┆ ---        ┆ i64  ┆ str       ┆   ┆ ---        ┆ f64        ┆ ---       ┆ ---       │\n",
       "│ str        ┆ datetime[μ ┆      ┆           ┆   ┆ i64        ┆            ┆ str       ┆ str       │\n",
       "│            ┆ s]         ┆      ┆           ┆   ┆            ┆            ┆           ┆           │\n",
       "╞════════════╪════════════╪══════╪═══════════╪═══╪════════════╪════════════╪═══════════╪═══════════╡\n",
       "│ 282FD4F233 ┆ 1991-05-31 ┆ 32   ┆ FEMENINO  ┆ … ┆ 1          ┆ 15.19      ┆ PROCEDIMI ┆ null      │\n",
       "│ 486B80725A ┆ 00:00:00   ┆      ┆           ┆   ┆            ┆            ┆ ENTO_8633 ┆           │\n",
       "│ 4FD6FA47C9 ┆            ┆      ┆           ┆   ┆            ┆            ┆ 7         ┆           │\n",
       "│ …          ┆            ┆      ┆           ┆   ┆            ┆            ┆           ┆           │\n",
       "│ E8CACB6D76 ┆ 1993-06-10 ┆ 28   ┆ FEMENINO  ┆ … ┆ 1          ┆ 15.19      ┆ PROCEDIMI ┆ null      │\n",
       "│ C36E4ADAFD ┆ 00:00:00   ┆      ┆           ┆   ┆            ┆            ┆ ENTO_8633 ┆           │\n",
       "│ EE904D5240 ┆            ┆      ┆           ┆   ┆            ┆            ┆ 7         ┆           │\n",
       "│ …          ┆            ┆      ┆           ┆   ┆            ┆            ┆           ┆           │\n",
       "│ C65CF0F5C1 ┆ 1990-05-08 ┆ 32   ┆ FEMENINO  ┆ … ┆ 1          ┆ 15.19      ┆ PROCEDIMI ┆ null      │\n",
       "│ 625510B347 ┆ 00:00:00   ┆      ┆           ┆   ┆            ┆            ┆ ENTO_8633 ┆           │\n",
       "│ 4B6686F30C ┆            ┆      ┆           ┆   ┆            ┆            ┆ 7         ┆           │\n",
       "│ …          ┆            ┆      ┆           ┆   ┆            ┆            ┆           ┆           │\n",
       "│ 3FF418B4A5 ┆ 1974-12-27 ┆ 47   ┆ FEMENINO  ┆ … ┆ 1          ┆ 0.0        ┆ PROCEDIMI ┆ null      │\n",
       "│ C0E89656FF ┆ 00:00:00   ┆      ┆           ┆   ┆            ┆            ┆ ENTO_9105 ┆           │\n",
       "│ EE21A0B509 ┆            ┆      ┆           ┆   ┆            ┆            ┆ 2         ┆           │\n",
       "│ …          ┆            ┆      ┆           ┆   ┆            ┆            ┆           ┆           │\n",
       "│ DAE220E6AD ┆ 1982-10-15 ┆ 40   ┆ FEMENINO  ┆ … ┆ 1          ┆ 15.19      ┆ PROCEDIMI ┆ null      │\n",
       "│ 501443CCF7 ┆ 00:00:00   ┆      ┆           ┆   ┆            ┆            ┆ ENTO_8633 ┆           │\n",
       "│ 29E0234861 ┆            ┆      ┆           ┆   ┆            ┆            ┆ 7         ┆           │\n",
       "│ …          ┆            ┆      ┆           ┆   ┆            ┆            ┆           ┆           │\n",
       "│ 808A1B3867 ┆ 1948-09-18 ┆ 74   ┆ MASCULINO ┆ … ┆ 1          ┆ 17.19      ┆ PROCEDIMI ┆ null      │\n",
       "│ 9A9AEDE935 ┆ 00:00:00   ┆      ┆           ┆   ┆            ┆            ┆ ENTO_9105 ┆           │\n",
       "│ AF580AA52D ┆            ┆      ┆           ┆   ┆            ┆            ┆ 2         ┆           │\n",
       "│ …          ┆            ┆      ┆           ┆   ┆            ┆            ┆           ┆           │\n",
       "│ EF038F624B ┆ 1953-07-01 ┆ 69   ┆ MASCULINO ┆ … ┆ 1          ┆ 17.19      ┆ PROCEDIMI ┆ null      │\n",
       "│ B3AF3D1BD6 ┆ 00:00:00   ┆      ┆           ┆   ┆            ┆            ┆ ENTO_9105 ┆           │\n",
       "│ 7FF2C86A73 ┆            ┆      ┆           ┆   ┆            ┆            ┆ 2         ┆           │\n",
       "│ …          ┆            ┆      ┆           ┆   ┆            ┆            ┆           ┆           │\n",
       "│ 9FAE5D6A0F ┆ 1981-07-01 ┆ 41   ┆ FEMENINO  ┆ … ┆ 2          ┆ 30.38      ┆ PROCEDIMI ┆ null      │\n",
       "│ 667A01D3CC ┆ 00:00:00   ┆      ┆           ┆   ┆            ┆            ┆ ENTO_8633 ┆           │\n",
       "│ 046691442E ┆            ┆      ┆           ┆   ┆            ┆            ┆ 7         ┆           │\n",
       "│ …          ┆            ┆      ┆           ┆   ┆            ┆            ┆           ┆           │\n",
       "│ 4ECAF084D6 ┆ 1983-02-04 ┆ 39   ┆ FEMENINO  ┆ … ┆ 1          ┆ 15.19      ┆ PROCEDIMI ┆ null      │\n",
       "│ 55C693F577 ┆ 00:00:00   ┆      ┆           ┆   ┆            ┆            ┆ ENTO_8633 ┆           │\n",
       "│ A1B675111F ┆            ┆      ┆           ┆   ┆            ┆            ┆ 7         ┆           │\n",
       "│ …          ┆            ┆      ┆           ┆   ┆            ┆            ┆           ┆           │\n",
       "└────────────┴────────────┴──────┴───────────┴───┴────────────┴────────────┴───────────┴───────────┘"
      ]
     },
     "execution_count": 10,
     "metadata": {},
     "output_type": "execute_result"
    }
   ],
   "source": [
    "import polars as pl\n",
    "\n",
    "# Read the parquet file\n",
    "df_historical = pl.read_parquet(\"../data/df_historical.parquet\")\n",
    "\n",
    "# Filter where NOMBRE_CONSUMO contains 'insul' (case insensitive)\n",
    "filtered = df_historical.filter(\n",
    "    pl.col(\"NOMBRE_CONSUMO\").str.contains(\"insul\")  # case=True → case sensitive\n",
    ")\n",
    "\n",
    "filtered"
   ]
  },
  {
   "cell_type": "code",
   "execution_count": null,
   "id": "ad28a896",
   "metadata": {},
   "outputs": [],
   "source": []
  }
 ],
 "metadata": {
  "kernelspec": {
   "display_name": "venv",
   "language": "python",
   "name": "python3"
  },
  "language_info": {
   "codemirror_mode": {
    "name": "ipython",
    "version": 3
   },
   "file_extension": ".py",
   "mimetype": "text/x-python",
   "name": "python",
   "nbconvert_exporter": "python",
   "pygments_lexer": "ipython3",
   "version": "3.11.4"
  }
 },
 "nbformat": 4,
 "nbformat_minor": 5
}
