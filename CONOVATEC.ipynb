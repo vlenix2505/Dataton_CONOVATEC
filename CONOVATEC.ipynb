{
  "cells": [
    {
      "cell_type": "code",
      "execution_count": 3,
      "metadata": {
        "id": "73D9QJ7v7PLx"
      },
      "outputs": [],
      "source": [
        "import urllib.request\n",
        "import pandas as pd\n",
        "import seaborn as sns\n",
        "import matplotlib.pyplot as plt"
      ]
    },
    {
      "cell_type": "code",
      "execution_count": 8,
      "metadata": {
        "colab": {
          "base_uri": "https://localhost:8080/"
        },
        "id": "ddbLCK3q7TAY",
        "outputId": "8061547b-02bb-4622-a287-d085288cad81"
      },
      "outputs": [
        {
          "name": "stdout",
          "output_type": "stream",
          "text": [
            "Archive:  OPENDATA_DS_01_2017_ATENCIONES_0.zip\n",
            "  inflating: OPENDATA_DS_01_2017_ATENCIONES.csv  \n"
          ]
        }
      ],
      "source": [
        "import urllib.request\n",
        "import pandas as pd\n",
        "\n",
        "# Descargar y descomprimir\n",
        "url = \"https://datosabiertos.gob.pe/sites/default/files/OPENDATA_DS_01_2017_ATENCIONES_0.zip\"\n",
        "nombre_archivo = \"OPENDATA_DS_01_2017_ATENCIONES_0.zip\"\n",
        "urllib.request.urlretrieve(url, nombre_archivo)\n",
        "\n",
        "# Descomprimir el ZIP\n",
        "!unzip -o OPENDATA_DS_01_2017_ATENCIONES_0.zip\n",
        "\n",
        "# Leer el CSV extraído con el nombre correcto\n",
        "df1 = pd.read_csv(\"OPENDATA_DS_01_2017_ATENCIONES.csv\", sep=',', low_memory=False)\n"
      ]
    },
    {
      "cell_type": "code",
      "execution_count": 9,
      "metadata": {
        "colab": {
          "base_uri": "https://localhost:8080/"
        },
        "id": "yujadyls-XDG",
        "outputId": "4ad5bbeb-7f28-4327-f8df-3e39fbdd5467"
      },
      "outputs": [
        {
          "name": "stdout",
          "output_type": "stream",
          "text": [
            "Archive:  OPENDATA_DS_01_2018_ATENCIONES_0.zip\n",
            "  inflating: OPENDATA_DS_01_2018_ATENCIONES.csv  \n"
          ]
        }
      ],
      "source": [
        "import urllib.request\n",
        "import pandas as pd\n",
        "\n",
        "# Descargar y descomprimir\n",
        "url = \"https://datosabiertos.gob.pe/sites/default/files/OPENDATA_DS_01_2018_ATENCIONES_0.zip\"\n",
        "nombre_archivo = \"OPENDATA_DS_01_2018_ATENCIONES_0.zip\"\n",
        "urllib.request.urlretrieve(url, nombre_archivo)\n",
        "\n",
        "# Descomprimir el ZIP\n",
        "!unzip -o OPENDATA_DS_01_2018_ATENCIONES_0.zip\n",
        "\n",
        "# Leer el CSV extraído con el nombre correcto\n",
        "df2 = pd.read_csv(\"OPENDATA_DS_01_2018_ATENCIONES.csv\", sep=',', low_memory=False)\n"
      ]
    },
    {
      "cell_type": "code",
      "execution_count": 10,
      "metadata": {
        "id": "xNkD1AQ1-6PM"
      },
      "outputs": [
        {
          "name": "stdout",
          "output_type": "stream",
          "text": [
            "Archive:  OPENDATA_DS_01_2019_ATENCIONES_0.zip\n",
            "  inflating: OPENDATA_DS_01_2019_ATENCIONES.csv  \n"
          ]
        }
      ],
      "source": [
        "import urllib.request\n",
        "import pandas as pd\n",
        "\n",
        "# Descargar y descomprimir el archivo ZIP para el año 2019\n",
        "url = \"https://datosabiertos.gob.pe/sites/default/files/OPENDATA_DS_01_2019_ATENCIONES_0.zip\"\n",
        "nombre_archivo = \"OPENDATA_DS_01_2019_ATENCIONES_0.zip\"\n",
        "urllib.request.urlretrieve(url, nombre_archivo)\n",
        "\n",
        "# Descomprimir el archivo ZIP\n",
        "!unzip -o OPENDATA_DS_01_2019_ATENCIONES_0.zip\n",
        "\n",
        "# Leer el CSV extraído con el nombre correcto\n",
        "df3 = pd.read_csv(\"OPENDATA_DS_01_2019_ATENCIONES.csv\", sep=',', low_memory=False)\n"
      ]
    },
    {
      "cell_type": "code",
      "execution_count": 11,
      "metadata": {
        "id": "wkcFtagg-lYt"
      },
      "outputs": [
        {
          "name": "stdout",
          "output_type": "stream",
          "text": [
            "Archive:  OPENDATA_DS_01_2020_ATENCIONES_0.zip\n",
            "  inflating: OPENDATA_DS_01_2020_ATENCIONES.csv  \n"
          ]
        }
      ],
      "source": [
        "import urllib.request\n",
        "import pandas as pd\n",
        "\n",
        "# Descargar y descomprimir el archivo ZIP para el año 2020\n",
        "url = \"https://datosabiertos.gob.pe/sites/default/files/OPENDATA_DS_01_2020_ATENCIONES_0.zip\"\n",
        "nombre_archivo = \"OPENDATA_DS_01_2020_ATENCIONES_0.zip\"\n",
        "urllib.request.urlretrieve(url, nombre_archivo)\n",
        "\n",
        "# Descomprimir el archivo ZIP\n",
        "!unzip -o OPENDATA_DS_01_2020_ATENCIONES_0.zip\n",
        "\n",
        "# Leer el CSV extraído con el nombre correcto\n",
        "df4 = pd.read_csv(\"OPENDATA_DS_01_2020_ATENCIONES.csv\", sep=',', low_memory=False)\n"
      ]
    },
    {
      "cell_type": "code",
      "execution_count": 12,
      "metadata": {
        "id": "BCIaYWPk8GI0"
      },
      "outputs": [
        {
          "name": "stdout",
          "output_type": "stream",
          "text": [
            "Archive:  OPENDATA_DS_01_2021_01_06_ATENCIONES_0.zip\n",
            "  inflating: OPENDATA_DS_01_2021_01_06_ATENCIONES.csv  \n"
          ]
        }
      ],
      "source": [
        "import urllib.request\n",
        "import pandas as pd\n",
        "\n",
        "# Descargar y descomprimir el archivo ZIP para el año 2021\n",
        "url = \"https://datosabiertos.gob.pe/sites/default/files/OPENDATA_DS_01_2021_01_06_ATENCIONES_0.zip\"\n",
        "nombre_archivo = \"OPENDATA_DS_01_2021_01_06_ATENCIONES_0.zip\"\n",
        "urllib.request.urlretrieve(url, nombre_archivo)\n",
        "\n",
        "# Descomprimir el archivo ZIP\n",
        "!unzip -o OPENDATA_DS_01_2021_01_06_ATENCIONES_0.zip\n",
        "\n",
        "# Leer el CSV extraído con el nombre correcto\n",
        "df5 = pd.read_csv(\"OPENDATA_DS_01_2021_01_06_ATENCIONES.csv\", sep=',', low_memory=False)\n"
      ]
    },
    {
      "cell_type": "code",
      "execution_count": 13,
      "metadata": {
        "id": "juEhOxMK_qjC"
      },
      "outputs": [
        {
          "name": "stdout",
          "output_type": "stream",
          "text": [
            "Archive:  OPENDATA_DS_01_2021_07_12_ATENCIONES_0.zip\n",
            "  inflating: OPENDATA_DS_01_2021_07_12_ATENCIONES.csv  \n"
          ]
        }
      ],
      "source": [
        "import urllib.request\n",
        "import pandas as pd\n",
        "\n",
        "# Descargar y descomprimir el archivo ZIP para el segundo semestre de 2021\n",
        "url = \"https://datosabiertos.gob.pe/sites/default/files/OPENDATA_DS_01_2021_07_12_ATENCIONES_0.zip\"\n",
        "nombre_archivo = \"OPENDATA_DS_01_2021_07_12_ATENCIONES_0.zip\"\n",
        "urllib.request.urlretrieve(url, nombre_archivo)\n",
        "\n",
        "# Descomprimir el archivo ZIP\n",
        "!unzip -o OPENDATA_DS_01_2021_07_12_ATENCIONES_0.zip\n",
        "\n",
        "# Leer el CSV extraído con el nombre correcto\n",
        "df6 = pd.read_csv(\"OPENDATA_DS_01_2021_07_12_ATENCIONES.csv\", sep=',', low_memory=False)\n"
      ]
    },
    {
      "cell_type": "code",
      "execution_count": 14,
      "metadata": {
        "id": "sqnDJybWABVI"
      },
      "outputs": [
        {
          "name": "stdout",
          "output_type": "stream",
          "text": [
            "Archive:  OPENDATA_DS_01_2022_01_06_ATENCIONES_0.zip\n",
            "  inflating: OPENDATA_DS_01_2022_01_06_ATENCIONES.csv  \n"
          ]
        }
      ],
      "source": [
        "import urllib.request\n",
        "import pandas as pd\n",
        "\n",
        "# Descargar y descomprimir el archivo ZIP para el primer semestre de 2022\n",
        "url = \"https://datosabiertos.gob.pe/sites/default/files/OPENDATA_DS_01_2022_01_06_ATENCIONES_0.zip\"\n",
        "nombre_archivo = \"OPENDATA_DS_01_2022_01_06_ATENCIONES_0.zip\"\n",
        "urllib.request.urlretrieve(url, nombre_archivo)\n",
        "\n",
        "# Descomprimir el archivo ZIP\n",
        "!unzip -o OPENDATA_DS_01_2022_01_06_ATENCIONES_0.zip\n",
        "\n",
        "# Leer el CSV extraído con el nombre correcto\n",
        "df7 = pd.read_csv(\"OPENDATA_DS_01_2022_01_06_ATENCIONES.csv\", sep=',', low_memory=False)\n"
      ]
    },
    {
      "cell_type": "code",
      "execution_count": 15,
      "metadata": {
        "id": "5KzvrnGrALo9"
      },
      "outputs": [
        {
          "name": "stdout",
          "output_type": "stream",
          "text": [
            "Archive:  OPENDATA_DS_01_2022_07_12_ATENCIONES_0.zip\n",
            "  inflating: OPENDATA_DS_01_2022_07_12_ATENCIONES.csv  \n"
          ]
        }
      ],
      "source": [
        "import urllib.request\n",
        "import pandas as pd\n",
        "\n",
        "# Descargar y descomprimir el archivo ZIP para el segundo semestre de 2022\n",
        "url = \"https://datosabiertos.gob.pe/sites/default/files/OPENDATA_DS_01_2022_07_12_ATENCIONES_0.zip\"\n",
        "nombre_archivo = \"OPENDATA_DS_01_2022_07_12_ATENCIONES_0.zip\"\n",
        "urllib.request.urlretrieve(url, nombre_archivo)\n",
        "\n",
        "# Descomprimir el archivo ZIP\n",
        "!unzip -o OPENDATA_DS_01_2022_07_12_ATENCIONES_0.zip\n",
        "\n",
        "# Leer el CSV extraído con el nombre correcto\n",
        "df8 = pd.read_csv(\"OPENDATA_DS_01_2022_07_12_ATENCIONES.csv\", sep=',', low_memory=False)\n"
      ]
    },
    {
      "cell_type": "code",
      "execution_count": 16,
      "metadata": {
        "id": "1CxO89QfAj-q"
      },
      "outputs": [
        {
          "name": "stdout",
          "output_type": "stream",
          "text": [
            "Archive:  OPENDATA_DS_01_2023_01_06_ATENCIONES_0.zip\n",
            "  inflating: OPENDATA_DS_01_2023_01_06_ATENCIONES.csv  \n"
          ]
        }
      ],
      "source": [
        "import urllib.request\n",
        "import pandas as pd\n",
        "\n",
        "# Descargar y descomprimir el archivo ZIP para el primer semestre de 2023\n",
        "url = \"https://datosabiertos.gob.pe/sites/default/files/OPENDATA_DS_01_2023_01_06_ATENCIONES_0.zip\"\n",
        "nombre_archivo = \"OPENDATA_DS_01_2023_01_06_ATENCIONES_0.zip\"\n",
        "urllib.request.urlretrieve(url, nombre_archivo)\n",
        "\n",
        "# Descomprimir el archivo ZIP\n",
        "!unzip -o OPENDATA_DS_01_2023_01_06_ATENCIONES_0.zip\n",
        "\n",
        "# Leer el CSV extraído con el nombre correcto\n",
        "df9 = pd.read_csv(\"OPENDATA_DS_01_2023_01_06_ATENCIONES.csv\", sep=',', low_memory=False)\n"
      ]
    },
    {
      "cell_type": "code",
      "execution_count": 22,
      "metadata": {
        "id": "0W7ayA9rAvTz"
      },
      "outputs": [
        {
          "name": "stdout",
          "output_type": "stream",
          "text": [
            "Archive:  OPENDATA_DS_01_2023_07_12_ATENCIONES_0.zip\n",
            "  inflating: OPENDATA_DS_01_2023_07_12_ATENCIONES.csv  \n"
          ]
        }
      ],
      "source": [
        "import urllib.request\n",
        "import pandas as pd\n",
        "\n",
        "# Descargar y descomprimir el archivo ZIP para el segundo semestre de 2023\n",
        "url = \"https://datosabiertos.gob.pe/sites/default/files/OPENDATA_DS_01_2023_07_12_ATENCIONES_0.zip\"\n",
        "nombre_archivo = \"OPENDATA_DS_01_2023_07_12_ATENCIONES_0.zip\"\n",
        "urllib.request.urlretrieve(url, nombre_archivo)\n",
        "\n",
        "# Descomprimir el archivo ZIP\n",
        "!unzip -o OPENDATA_DS_01_2023_07_12_ATENCIONES_0.zip\n",
        "\n",
        "# Leer el CSV extraído con el nombre correcto\n",
        "df10 = pd.read_csv(\"OPENDATA_DS_01_2023_07_12_ATENCIONES.csv\", sep=',', low_memory=False)\n"
      ]
    },
    {
      "cell_type": "code",
      "execution_count": 23,
      "metadata": {
        "id": "g_Qg0HRfA3zW"
      },
      "outputs": [
        {
          "name": "stdout",
          "output_type": "stream",
          "text": [
            "Archive:  OPENDATA_DS_01_2024_01_06_ATENCIONES.zip\n",
            "  inflating: OPENDATA_DS_01_2024_01_06_ATENCIONES.csv  \n"
          ]
        }
      ],
      "source": [
        "import urllib.request\n",
        "import pandas as pd\n",
        "\n",
        "# Descargar y descomprimir el archivo ZIP para el primer semestre de 2024\n",
        "url = \"https://datosabiertos.gob.pe/sites/default/files/OPENDATA_DS_01_2024_01_06_ATENCIONES.zip\"\n",
        "nombre_archivo = \"OPENDATA_DS_01_2024_01_06_ATENCIONES.zip\"\n",
        "urllib.request.urlretrieve(url, nombre_archivo)\n",
        "\n",
        "# Descomprimir el archivo ZIP\n",
        "!unzip -o OPENDATA_DS_01_2024_01_06_ATENCIONES.zip\n",
        "\n",
        "# Leer el CSV extraído con el nombre correcto\n",
        "df11 = pd.read_csv(\"OPENDATA_DS_01_2024_01_06_ATENCIONES.csv\", sep=',', low_memory=False)\n"
      ]
    },
    {
      "cell_type": "code",
      "execution_count": 19,
      "metadata": {
        "id": "o16sv9eWBAJe"
      },
      "outputs": [
        {
          "data": {
            "text/plain": [
              "(58368600, 17)"
            ]
          },
          "execution_count": 19,
          "metadata": {},
          "output_type": "execute_result"
        }
      ],
      "source": [
        "# Concatenate all DataFrames from df1 to df11\n",
        "df_all = pd.concat([df1, df2, df3, df4, df5, df6, df7, df8, df9, df10, df11], ignore_index=True)\n",
        "\n",
        "\n",
        "df_all.shape\n"
      ]
    },
    {
      "cell_type": "code",
      "execution_count": 20,
      "metadata": {
        "id": "82ew6VZlrpZq"
      },
      "outputs": [
        {
          "data": {
            "text/html": [
              "<div>\n",
              "<style scoped>\n",
              "    .dataframe tbody tr th:only-of-type {\n",
              "        vertical-align: middle;\n",
              "    }\n",
              "\n",
              "    .dataframe tbody tr th {\n",
              "        vertical-align: top;\n",
              "    }\n",
              "\n",
              "    .dataframe thead th {\n",
              "        text-align: right;\n",
              "    }\n",
              "</style>\n",
              "<table border=\"1\" class=\"dataframe\">\n",
              "  <thead>\n",
              "    <tr style=\"text-align: right;\">\n",
              "      <th></th>\n",
              "      <th>AÑO</th>\n",
              "      <th>MES</th>\n",
              "      <th>REGION</th>\n",
              "      <th>PROVINCIA</th>\n",
              "      <th>UBIGEO_DISTRITO</th>\n",
              "      <th>DISTRITO</th>\n",
              "      <th>COD_UNIDAD_EJECUTORA</th>\n",
              "      <th>DESC_UNIDAD_EJECUTORA</th>\n",
              "      <th>COD_IPRESS</th>\n",
              "      <th>IPRESS</th>\n",
              "      <th>NIVEL_EESS</th>\n",
              "      <th>PLAN_SEGURO</th>\n",
              "      <th>COD_SERVICIO</th>\n",
              "      <th>DESC_SERVICIO</th>\n",
              "      <th>SEXO</th>\n",
              "      <th>GRUPO_EDAD</th>\n",
              "      <th>ATENCIONES</th>\n",
              "    </tr>\n",
              "  </thead>\n",
              "  <tbody>\n",
              "    <tr>\n",
              "      <th>0</th>\n",
              "      <td>2017</td>\n",
              "      <td>2</td>\n",
              "      <td>AMAZONAS</td>\n",
              "      <td>RODRÍGUEZ DE MENDOZA</td>\n",
              "      <td>010609</td>\n",
              "      <td>OMIA</td>\n",
              "      <td>725.0</td>\n",
              "      <td>REGION AMAZONAS - SALUD</td>\n",
              "      <td>0000004946</td>\n",
              "      <td>OMIA</td>\n",
              "      <td>I</td>\n",
              "      <td>SIS GRATUITO</td>\n",
              "      <td>011</td>\n",
              "      <td>EXÁMENES DE LABORATORIO COMPLETO DE LA GESTANTE</td>\n",
              "      <td>FEMENINO</td>\n",
              "      <td>30 - 59 AÑOS</td>\n",
              "      <td>3</td>\n",
              "    </tr>\n",
              "    <tr>\n",
              "      <th>1</th>\n",
              "      <td>2017</td>\n",
              "      <td>2</td>\n",
              "      <td>AMAZONAS</td>\n",
              "      <td>RODRÍGUEZ DE MENDOZA</td>\n",
              "      <td>010609</td>\n",
              "      <td>OMIA</td>\n",
              "      <td>725.0</td>\n",
              "      <td>REGION AMAZONAS - SALUD</td>\n",
              "      <td>0000004946</td>\n",
              "      <td>OMIA</td>\n",
              "      <td>I</td>\n",
              "      <td>SIS GRATUITO</td>\n",
              "      <td>021</td>\n",
              "      <td>PREVENCION DE CARIES</td>\n",
              "      <td>FEMENINO</td>\n",
              "      <td>00 - 04 AÑOS</td>\n",
              "      <td>1</td>\n",
              "    </tr>\n",
              "    <tr>\n",
              "      <th>2</th>\n",
              "      <td>2017</td>\n",
              "      <td>2</td>\n",
              "      <td>ÁNCASH</td>\n",
              "      <td>HUAYLAS</td>\n",
              "      <td>021207</td>\n",
              "      <td>PUEBLO LIBRE</td>\n",
              "      <td>744.0</td>\n",
              "      <td>REGION ANCASH - SALUD CARAZ</td>\n",
              "      <td>0000001611</td>\n",
              "      <td>CENTRO DE SALUD PUEBLO LIBRE</td>\n",
              "      <td>I</td>\n",
              "      <td>SIS GRATUITO</td>\n",
              "      <td>056</td>\n",
              "      <td>CONSULTA EXTERNA</td>\n",
              "      <td>FEMENINO</td>\n",
              "      <td>00 - 04 AÑOS</td>\n",
              "      <td>37</td>\n",
              "    </tr>\n",
              "    <tr>\n",
              "      <th>3</th>\n",
              "      <td>2017</td>\n",
              "      <td>2</td>\n",
              "      <td>ÁNCASH</td>\n",
              "      <td>HUAYLAS</td>\n",
              "      <td>021207</td>\n",
              "      <td>PUEBLO LIBRE</td>\n",
              "      <td>744.0</td>\n",
              "      <td>REGION ANCASH - SALUD CARAZ</td>\n",
              "      <td>0000001611</td>\n",
              "      <td>CENTRO DE SALUD PUEBLO LIBRE</td>\n",
              "      <td>I</td>\n",
              "      <td>SIS GRATUITO</td>\n",
              "      <td>075</td>\n",
              "      <td>ATENCIÓN EXTRAMURAL RURAL (VISITA DOMICILIARIA)</td>\n",
              "      <td>FEMENINO</td>\n",
              "      <td>00 - 04 AÑOS</td>\n",
              "      <td>13</td>\n",
              "    </tr>\n",
              "    <tr>\n",
              "      <th>4</th>\n",
              "      <td>2017</td>\n",
              "      <td>2</td>\n",
              "      <td>ÁNCASH</td>\n",
              "      <td>HUAYLAS</td>\n",
              "      <td>021207</td>\n",
              "      <td>PUEBLO LIBRE</td>\n",
              "      <td>744.0</td>\n",
              "      <td>REGION ANCASH - SALUD CARAZ</td>\n",
              "      <td>0000001611</td>\n",
              "      <td>CENTRO DE SALUD PUEBLO LIBRE</td>\n",
              "      <td>I</td>\n",
              "      <td>SIS INDEPENDIENTE</td>\n",
              "      <td>071</td>\n",
              "      <td>APOYO AL DIAGNÓSTICO</td>\n",
              "      <td>FEMENINO</td>\n",
              "      <td>18 - 29 AÑOS</td>\n",
              "      <td>2</td>\n",
              "    </tr>\n",
              "  </tbody>\n",
              "</table>\n",
              "</div>"
            ],
            "text/plain": [
              "    AÑO  MES    REGION             PROVINCIA UBIGEO_DISTRITO      DISTRITO  \\\n",
              "0  2017    2  AMAZONAS  RODRÍGUEZ DE MENDOZA          010609          OMIA   \n",
              "1  2017    2  AMAZONAS  RODRÍGUEZ DE MENDOZA          010609          OMIA   \n",
              "2  2017    2    ÁNCASH               HUAYLAS          021207  PUEBLO LIBRE   \n",
              "3  2017    2    ÁNCASH               HUAYLAS          021207  PUEBLO LIBRE   \n",
              "4  2017    2    ÁNCASH               HUAYLAS          021207  PUEBLO LIBRE   \n",
              "\n",
              "   COD_UNIDAD_EJECUTORA        DESC_UNIDAD_EJECUTORA  COD_IPRESS  \\\n",
              "0                 725.0      REGION AMAZONAS - SALUD  0000004946   \n",
              "1                 725.0      REGION AMAZONAS - SALUD  0000004946   \n",
              "2                 744.0  REGION ANCASH - SALUD CARAZ  0000001611   \n",
              "3                 744.0  REGION ANCASH - SALUD CARAZ  0000001611   \n",
              "4                 744.0  REGION ANCASH - SALUD CARAZ  0000001611   \n",
              "\n",
              "                         IPRESS NIVEL_EESS        PLAN_SEGURO COD_SERVICIO  \\\n",
              "0                          OMIA          I       SIS GRATUITO          011   \n",
              "1                          OMIA          I       SIS GRATUITO          021   \n",
              "2  CENTRO DE SALUD PUEBLO LIBRE          I       SIS GRATUITO          056   \n",
              "3  CENTRO DE SALUD PUEBLO LIBRE          I       SIS GRATUITO          075   \n",
              "4  CENTRO DE SALUD PUEBLO LIBRE          I  SIS INDEPENDIENTE          071   \n",
              "\n",
              "                                     DESC_SERVICIO      SEXO    GRUPO_EDAD  \\\n",
              "0  EXÁMENES DE LABORATORIO COMPLETO DE LA GESTANTE  FEMENINO  30 - 59 AÑOS   \n",
              "1                             PREVENCION DE CARIES  FEMENINO  00 - 04 AÑOS   \n",
              "2                                 CONSULTA EXTERNA  FEMENINO  00 - 04 AÑOS   \n",
              "3  ATENCIÓN EXTRAMURAL RURAL (VISITA DOMICILIARIA)  FEMENINO  00 - 04 AÑOS   \n",
              "4                             APOYO AL DIAGNÓSTICO  FEMENINO  18 - 29 AÑOS   \n",
              "\n",
              "   ATENCIONES  \n",
              "0           3  \n",
              "1           1  \n",
              "2          37  \n",
              "3          13  \n",
              "4           2  "
            ]
          },
          "execution_count": 20,
          "metadata": {},
          "output_type": "execute_result"
        }
      ],
      "source": [
        "df_all.head()"
      ]
    },
    {
      "cell_type": "code",
      "execution_count": null,
      "metadata": {},
      "outputs": [],
      "source": []
    },
    {
      "cell_type": "code",
      "execution_count": 21,
      "metadata": {
        "id": "Qya2lDDbtLjV"
      },
      "outputs": [
        {
          "data": {
            "text/plain": [
              "Index(['AÑO', 'MES', 'REGION', 'PROVINCIA', 'UBIGEO_DISTRITO', 'DISTRITO',\n",
              "       'COD_UNIDAD_EJECUTORA', 'DESC_UNIDAD_EJECUTORA', 'COD_IPRESS', 'IPRESS',\n",
              "       'NIVEL_EESS', 'PLAN_SEGURO', 'COD_SERVICIO', 'DESC_SERVICIO', 'SEXO',\n",
              "       'GRUPO_EDAD', 'ATENCIONES'],\n",
              "      dtype='object')"
            ]
          },
          "execution_count": 21,
          "metadata": {},
          "output_type": "execute_result"
        }
      ],
      "source": [
        "df_all.columns"
      ]
    },
    {
      "cell_type": "code",
      "execution_count": 41,
      "metadata": {},
      "outputs": [
        {
          "data": {
            "text/plain": [
              "DESC_SERVICIO\n",
              "CONSULTA EXTERNA                                                             9731966\n",
              "DETECCIÓN DE PROBLEMAS EN SALUD MENTAL                                       5876834\n",
              "SALUD REPRODUCTIVA (PLANIFICACIÓN FAMILIAR)                                  3317660\n",
              "ATENCIÓN EXTRAMURAL RURAL (VISITA DOMICILIARIA)                              3203250\n",
              "APOYO AL DIAGNÓSTICO                                                         2622980\n",
              "                                                                              ...   \n",
              "SALUD ESCOLAR                                                                    252\n",
              "TRASLADO DE EMERGENCIA                                                           102\n",
              "TRATAMIENTO PROFILÁCTICO PARA GESTANTE POSITIVA A PRUEBA RÁPIDA/ELISA VIH         67\n",
              "COMPLEMENTARIO                                                                    39\n",
              "ASIGNACIÓN POR ALIMENTACIÓN                                                       27\n",
              "Name: count, Length: 66, dtype: int64"
            ]
          },
          "execution_count": 41,
          "metadata": {},
          "output_type": "execute_result"
        }
      ],
      "source": [
        "df_all['DESC_SERVICIO'].value_counts()"
      ]
    },
    {
      "cell_type": "code",
      "execution_count": 62,
      "metadata": {
        "colab": {
          "base_uri": "https://localhost:8080/",
          "height": 490
        },
        "id": "FtTTZpqAvGlq",
        "outputId": "6bb99c1e-ec7e-4f4e-b3a9-93f5986d772b"
      },
      "outputs": [
        {
          "data": {
            "text/plain": [
              "ATENCIONES\n",
              "1       16597177\n",
              "2        8902433\n",
              "3        5798432\n",
              "4        4197587\n",
              "5        3166680\n",
              "          ...   \n",
              "2372           1\n",
              "4849           1\n",
              "2325           1\n",
              "2544           1\n",
              "3030           1\n",
              "Name: count, Length: 3602, dtype: int64"
            ]
          },
          "execution_count": 62,
          "metadata": {},
          "output_type": "execute_result"
        }
      ],
      "source": [
        "df_all['ATENCIONES'].value_counts()"
      ]
    },
    {
      "cell_type": "code",
      "execution_count": 63,
      "metadata": {},
      "outputs": [
        {
          "data": {
            "text/plain": [
              "ATENCIONES\n",
              "3030           1\n",
              "2393           1\n",
              "2825           1\n",
              "2402           1\n",
              "3277           1\n",
              "          ...   \n",
              "5        3166680\n",
              "4        4197587\n",
              "3        5798432\n",
              "2        8902433\n",
              "1       16597177\n",
              "Name: count, Length: 3602, dtype: int64"
            ]
          },
          "execution_count": 63,
          "metadata": {},
          "output_type": "execute_result"
        }
      ],
      "source": [
        "counts = df_all['ATENCIONES'].value_counts()\n",
        "counts_sorted_asc = counts.sort_values(ascending=True)\n",
        "counts_sorted_asc"
      ]
    },
    {
      "cell_type": "code",
      "execution_count": 66,
      "metadata": {
        "colab": {
          "base_uri": "https://localhost:8080/",
          "height": 490
        },
        "id": "yLicp2Bsv_n9",
        "outputId": "d2fec844-7f61-46ff-821d-03c1fcbceeb9"
      },
      "outputs": [
        {
          "data": {
            "text/html": [
              "<div>\n",
              "<style scoped>\n",
              "    .dataframe tbody tr th:only-of-type {\n",
              "        vertical-align: middle;\n",
              "    }\n",
              "\n",
              "    .dataframe tbody tr th {\n",
              "        vertical-align: top;\n",
              "    }\n",
              "\n",
              "    .dataframe thead th {\n",
              "        text-align: right;\n",
              "    }\n",
              "</style>\n",
              "<table border=\"1\" class=\"dataframe\">\n",
              "  <thead>\n",
              "    <tr style=\"text-align: right;\">\n",
              "      <th></th>\n",
              "      <th>AÑO</th>\n",
              "      <th>MES</th>\n",
              "      <th>REGION</th>\n",
              "      <th>PROVINCIA</th>\n",
              "      <th>UBIGEO_DISTRITO</th>\n",
              "      <th>DISTRITO</th>\n",
              "      <th>COD_UNIDAD_EJECUTORA</th>\n",
              "      <th>DESC_UNIDAD_EJECUTORA</th>\n",
              "      <th>COD_IPRESS</th>\n",
              "      <th>IPRESS</th>\n",
              "      <th>NIVEL_EESS</th>\n",
              "      <th>PLAN_SEGURO</th>\n",
              "      <th>COD_SERVICIO</th>\n",
              "      <th>DESC_SERVICIO</th>\n",
              "      <th>SEXO</th>\n",
              "      <th>GRUPO_EDAD</th>\n",
              "      <th>ATENCIONES</th>\n",
              "    </tr>\n",
              "  </thead>\n",
              "  <tbody>\n",
              "    <tr>\n",
              "      <th>322205</th>\n",
              "      <td>2017</td>\n",
              "      <td>3</td>\n",
              "      <td>LIMA METROPOLITANA</td>\n",
              "      <td>LIMA</td>\n",
              "      <td>150133</td>\n",
              "      <td>SAN JUAN DE MIRAFLORES</td>\n",
              "      <td>141.0</td>\n",
              "      <td>HOSPITAL DE APOYO DEPARTAMENTAL MARIA AUXILIADORA</td>\n",
              "      <td>0000005987</td>\n",
              "      <td>HOSPITAL MARIA AUXILIADORA</td>\n",
              "      <td>III</td>\n",
              "      <td>SIS GRATUITO</td>\n",
              "      <td>056</td>\n",
              "      <td>CONSULTA EXTERNA</td>\n",
              "      <td>FEMENINO</td>\n",
              "      <td>30 - 59 AÑOS</td>\n",
              "      <td>8331</td>\n",
              "    </tr>\n",
              "    <tr>\n",
              "      <th>435728</th>\n",
              "      <td>2017</td>\n",
              "      <td>3</td>\n",
              "      <td>LIMA METROPOLITANA</td>\n",
              "      <td>LIMA</td>\n",
              "      <td>150101</td>\n",
              "      <td>LIMA</td>\n",
              "      <td>143.0</td>\n",
              "      <td>HOSPITAL NACIONAL ARZOBISPO LOAYZA</td>\n",
              "      <td>0000006207</td>\n",
              "      <td>NACIONAL ARZOBISPO LOAYZA</td>\n",
              "      <td>III</td>\n",
              "      <td>SIS GRATUITO</td>\n",
              "      <td>056</td>\n",
              "      <td>CONSULTA EXTERNA</td>\n",
              "      <td>FEMENINO</td>\n",
              "      <td>60 - MAS AÑOS</td>\n",
              "      <td>6348</td>\n",
              "    </tr>\n",
              "    <tr>\n",
              "      <th>538805</th>\n",
              "      <td>2017</td>\n",
              "      <td>2</td>\n",
              "      <td>LIMA METROPOLITANA</td>\n",
              "      <td>LIMA</td>\n",
              "      <td>150133</td>\n",
              "      <td>SAN JUAN DE MIRAFLORES</td>\n",
              "      <td>141.0</td>\n",
              "      <td>HOSPITAL DE APOYO DEPARTAMENTAL MARIA AUXILIADORA</td>\n",
              "      <td>0000005987</td>\n",
              "      <td>HOSPITAL MARIA AUXILIADORA</td>\n",
              "      <td>III</td>\n",
              "      <td>SIS GRATUITO</td>\n",
              "      <td>056</td>\n",
              "      <td>CONSULTA EXTERNA</td>\n",
              "      <td>FEMENINO</td>\n",
              "      <td>30 - 59 AÑOS</td>\n",
              "      <td>7614</td>\n",
              "    </tr>\n",
              "    <tr>\n",
              "      <th>861967</th>\n",
              "      <td>2017</td>\n",
              "      <td>1</td>\n",
              "      <td>LIMA METROPOLITANA</td>\n",
              "      <td>LIMA</td>\n",
              "      <td>150133</td>\n",
              "      <td>SAN JUAN DE MIRAFLORES</td>\n",
              "      <td>141.0</td>\n",
              "      <td>HOSPITAL DE APOYO DEPARTAMENTAL MARIA AUXILIADORA</td>\n",
              "      <td>0000005987</td>\n",
              "      <td>HOSPITAL MARIA AUXILIADORA</td>\n",
              "      <td>III</td>\n",
              "      <td>SIS GRATUITO</td>\n",
              "      <td>056</td>\n",
              "      <td>CONSULTA EXTERNA</td>\n",
              "      <td>FEMENINO</td>\n",
              "      <td>30 - 59 AÑOS</td>\n",
              "      <td>7877</td>\n",
              "    </tr>\n",
              "    <tr>\n",
              "      <th>881242</th>\n",
              "      <td>2017</td>\n",
              "      <td>1</td>\n",
              "      <td>LIMA METROPOLITANA</td>\n",
              "      <td>LIMA</td>\n",
              "      <td>150101</td>\n",
              "      <td>LIMA</td>\n",
              "      <td>143.0</td>\n",
              "      <td>HOSPITAL NACIONAL ARZOBISPO LOAYZA</td>\n",
              "      <td>0000006207</td>\n",
              "      <td>NACIONAL ARZOBISPO LOAYZA</td>\n",
              "      <td>III</td>\n",
              "      <td>SIS GRATUITO</td>\n",
              "      <td>056</td>\n",
              "      <td>CONSULTA EXTERNA</td>\n",
              "      <td>FEMENINO</td>\n",
              "      <td>30 - 59 AÑOS</td>\n",
              "      <td>6332</td>\n",
              "    </tr>\n",
              "    <tr>\n",
              "      <th>...</th>\n",
              "      <td>...</td>\n",
              "      <td>...</td>\n",
              "      <td>...</td>\n",
              "      <td>...</td>\n",
              "      <td>...</td>\n",
              "      <td>...</td>\n",
              "      <td>...</td>\n",
              "      <td>...</td>\n",
              "      <td>...</td>\n",
              "      <td>...</td>\n",
              "      <td>...</td>\n",
              "      <td>...</td>\n",
              "      <td>...</td>\n",
              "      <td>...</td>\n",
              "      <td>...</td>\n",
              "      <td>...</td>\n",
              "      <td>...</td>\n",
              "    </tr>\n",
              "    <tr>\n",
              "      <th>56833298</th>\n",
              "      <td>2024</td>\n",
              "      <td>1</td>\n",
              "      <td>LIMA METROPOLITANA</td>\n",
              "      <td>LIMA</td>\n",
              "      <td>150101</td>\n",
              "      <td>LIMA</td>\n",
              "      <td>127.0</td>\n",
              "      <td>INSTITUTO NACIONAL MATERNO PERINATAL</td>\n",
              "      <td>6208</td>\n",
              "      <td>INSTITUTO NACIONAL MATERNO PERINATAL</td>\n",
              "      <td>III</td>\n",
              "      <td>SIS GRATUITO</td>\n",
              "      <td>71</td>\n",
              "      <td>APOYO AL DIAGNÓSTICO</td>\n",
              "      <td>MASCULINO</td>\n",
              "      <td>00 - 04 AÑOS</td>\n",
              "      <td>5617</td>\n",
              "    </tr>\n",
              "    <tr>\n",
              "      <th>57577725</th>\n",
              "      <td>2024</td>\n",
              "      <td>5</td>\n",
              "      <td>LIMA METROPOLITANA</td>\n",
              "      <td>LIMA</td>\n",
              "      <td>150101</td>\n",
              "      <td>LIMA</td>\n",
              "      <td>149.0</td>\n",
              "      <td>HOSPITAL NACIONAL DOCENTE MADRE NIÑO - SAN BAR...</td>\n",
              "      <td>6215</td>\n",
              "      <td>HOSPITAL NACIONAL DOCENTE MADRE NIÑO SAN BARTO...</td>\n",
              "      <td>III</td>\n",
              "      <td>SIS GRATUITO</td>\n",
              "      <td>71</td>\n",
              "      <td>APOYO AL DIAGNÓSTICO</td>\n",
              "      <td>MASCULINO</td>\n",
              "      <td>00 - 04 AÑOS</td>\n",
              "      <td>5492</td>\n",
              "    </tr>\n",
              "    <tr>\n",
              "      <th>57942623</th>\n",
              "      <td>2024</td>\n",
              "      <td>1</td>\n",
              "      <td>LIMA METROPOLITANA</td>\n",
              "      <td>LIMA</td>\n",
              "      <td>150101</td>\n",
              "      <td>LIMA</td>\n",
              "      <td>127.0</td>\n",
              "      <td>INSTITUTO NACIONAL MATERNO PERINATAL</td>\n",
              "      <td>6208</td>\n",
              "      <td>INSTITUTO NACIONAL MATERNO PERINATAL</td>\n",
              "      <td>III</td>\n",
              "      <td>SIS GRATUITO</td>\n",
              "      <td>71</td>\n",
              "      <td>APOYO AL DIAGNÓSTICO</td>\n",
              "      <td>FEMENINO</td>\n",
              "      <td>00 - 04 AÑOS</td>\n",
              "      <td>5104</td>\n",
              "    </tr>\n",
              "    <tr>\n",
              "      <th>58095405</th>\n",
              "      <td>2024</td>\n",
              "      <td>5</td>\n",
              "      <td>LIMA METROPOLITANA</td>\n",
              "      <td>LIMA</td>\n",
              "      <td>150101</td>\n",
              "      <td>LIMA</td>\n",
              "      <td>149.0</td>\n",
              "      <td>HOSPITAL NACIONAL DOCENTE MADRE NIÑO - SAN BAR...</td>\n",
              "      <td>6215</td>\n",
              "      <td>HOSPITAL NACIONAL DOCENTE MADRE NIÑO SAN BARTO...</td>\n",
              "      <td>III</td>\n",
              "      <td>SIS GRATUITO</td>\n",
              "      <td>71</td>\n",
              "      <td>APOYO AL DIAGNÓSTICO</td>\n",
              "      <td>FEMENINO</td>\n",
              "      <td>00 - 04 AÑOS</td>\n",
              "      <td>5161</td>\n",
              "    </tr>\n",
              "    <tr>\n",
              "      <th>58334247</th>\n",
              "      <td>2024</td>\n",
              "      <td>1</td>\n",
              "      <td>LIMA METROPOLITANA</td>\n",
              "      <td>LIMA</td>\n",
              "      <td>150101</td>\n",
              "      <td>LIMA</td>\n",
              "      <td>149.0</td>\n",
              "      <td>HOSPITAL NACIONAL DOCENTE MADRE NIÑO - SAN BAR...</td>\n",
              "      <td>6215</td>\n",
              "      <td>HOSPITAL NACIONAL DOCENTE MADRE NIÑO SAN BARTO...</td>\n",
              "      <td>III</td>\n",
              "      <td>SIS GRATUITO</td>\n",
              "      <td>71</td>\n",
              "      <td>APOYO AL DIAGNÓSTICO</td>\n",
              "      <td>FEMENINO</td>\n",
              "      <td>00 - 04 AÑOS</td>\n",
              "      <td>5166</td>\n",
              "    </tr>\n",
              "  </tbody>\n",
              "</table>\n",
              "<p>250 rows × 17 columns</p>\n",
              "</div>"
            ],
            "text/plain": [
              "           AÑO  MES              REGION PROVINCIA UBIGEO_DISTRITO  \\\n",
              "322205    2017    3  LIMA METROPOLITANA      LIMA          150133   \n",
              "435728    2017    3  LIMA METROPOLITANA      LIMA          150101   \n",
              "538805    2017    2  LIMA METROPOLITANA      LIMA          150133   \n",
              "861967    2017    1  LIMA METROPOLITANA      LIMA          150133   \n",
              "881242    2017    1  LIMA METROPOLITANA      LIMA          150101   \n",
              "...        ...  ...                 ...       ...             ...   \n",
              "56833298  2024    1  LIMA METROPOLITANA      LIMA          150101   \n",
              "57577725  2024    5  LIMA METROPOLITANA      LIMA          150101   \n",
              "57942623  2024    1  LIMA METROPOLITANA      LIMA          150101   \n",
              "58095405  2024    5  LIMA METROPOLITANA      LIMA          150101   \n",
              "58334247  2024    1  LIMA METROPOLITANA      LIMA          150101   \n",
              "\n",
              "                        DISTRITO  COD_UNIDAD_EJECUTORA  \\\n",
              "322205    SAN JUAN DE MIRAFLORES                 141.0   \n",
              "435728                      LIMA                 143.0   \n",
              "538805    SAN JUAN DE MIRAFLORES                 141.0   \n",
              "861967    SAN JUAN DE MIRAFLORES                 141.0   \n",
              "881242                      LIMA                 143.0   \n",
              "...                          ...                   ...   \n",
              "56833298                    LIMA                 127.0   \n",
              "57577725                    LIMA                 149.0   \n",
              "57942623                    LIMA                 127.0   \n",
              "58095405                    LIMA                 149.0   \n",
              "58334247                    LIMA                 149.0   \n",
              "\n",
              "                                      DESC_UNIDAD_EJECUTORA  COD_IPRESS  \\\n",
              "322205    HOSPITAL DE APOYO DEPARTAMENTAL MARIA AUXILIADORA  0000005987   \n",
              "435728                   HOSPITAL NACIONAL ARZOBISPO LOAYZA  0000006207   \n",
              "538805    HOSPITAL DE APOYO DEPARTAMENTAL MARIA AUXILIADORA  0000005987   \n",
              "861967    HOSPITAL DE APOYO DEPARTAMENTAL MARIA AUXILIADORA  0000005987   \n",
              "881242                   HOSPITAL NACIONAL ARZOBISPO LOAYZA  0000006207   \n",
              "...                                                     ...         ...   \n",
              "56833298               INSTITUTO NACIONAL MATERNO PERINATAL        6208   \n",
              "57577725  HOSPITAL NACIONAL DOCENTE MADRE NIÑO - SAN BAR...        6215   \n",
              "57942623               INSTITUTO NACIONAL MATERNO PERINATAL        6208   \n",
              "58095405  HOSPITAL NACIONAL DOCENTE MADRE NIÑO - SAN BAR...        6215   \n",
              "58334247  HOSPITAL NACIONAL DOCENTE MADRE NIÑO - SAN BAR...        6215   \n",
              "\n",
              "                                                     IPRESS NIVEL_EESS  \\\n",
              "322205                           HOSPITAL MARIA AUXILIADORA        III   \n",
              "435728                            NACIONAL ARZOBISPO LOAYZA        III   \n",
              "538805                           HOSPITAL MARIA AUXILIADORA        III   \n",
              "861967                           HOSPITAL MARIA AUXILIADORA        III   \n",
              "881242                            NACIONAL ARZOBISPO LOAYZA        III   \n",
              "...                                                     ...        ...   \n",
              "56833298               INSTITUTO NACIONAL MATERNO PERINATAL        III   \n",
              "57577725  HOSPITAL NACIONAL DOCENTE MADRE NIÑO SAN BARTO...        III   \n",
              "57942623               INSTITUTO NACIONAL MATERNO PERINATAL        III   \n",
              "58095405  HOSPITAL NACIONAL DOCENTE MADRE NIÑO SAN BARTO...        III   \n",
              "58334247  HOSPITAL NACIONAL DOCENTE MADRE NIÑO SAN BARTO...        III   \n",
              "\n",
              "           PLAN_SEGURO COD_SERVICIO         DESC_SERVICIO       SEXO  \\\n",
              "322205    SIS GRATUITO          056      CONSULTA EXTERNA   FEMENINO   \n",
              "435728    SIS GRATUITO          056      CONSULTA EXTERNA   FEMENINO   \n",
              "538805    SIS GRATUITO          056      CONSULTA EXTERNA   FEMENINO   \n",
              "861967    SIS GRATUITO          056      CONSULTA EXTERNA   FEMENINO   \n",
              "881242    SIS GRATUITO          056      CONSULTA EXTERNA   FEMENINO   \n",
              "...                ...          ...                   ...        ...   \n",
              "56833298  SIS GRATUITO           71  APOYO AL DIAGNÓSTICO  MASCULINO   \n",
              "57577725  SIS GRATUITO           71  APOYO AL DIAGNÓSTICO  MASCULINO   \n",
              "57942623  SIS GRATUITO           71  APOYO AL DIAGNÓSTICO   FEMENINO   \n",
              "58095405  SIS GRATUITO           71  APOYO AL DIAGNÓSTICO   FEMENINO   \n",
              "58334247  SIS GRATUITO           71  APOYO AL DIAGNÓSTICO   FEMENINO   \n",
              "\n",
              "             GRUPO_EDAD  ATENCIONES  \n",
              "322205     30 - 59 AÑOS        8331  \n",
              "435728    60 - MAS AÑOS        6348  \n",
              "538805     30 - 59 AÑOS        7614  \n",
              "861967     30 - 59 AÑOS        7877  \n",
              "881242     30 - 59 AÑOS        6332  \n",
              "...                 ...         ...  \n",
              "56833298   00 - 04 AÑOS        5617  \n",
              "57577725   00 - 04 AÑOS        5492  \n",
              "57942623   00 - 04 AÑOS        5104  \n",
              "58095405   00 - 04 AÑOS        5161  \n",
              "58334247   00 - 04 AÑOS        5166  \n",
              "\n",
              "[250 rows x 17 columns]"
            ]
          },
          "execution_count": 66,
          "metadata": {},
          "output_type": "execute_result"
        }
      ],
      "source": [
        "df_all.query('ATENCIONES > 5000')"
      ]
    },
    {
      "cell_type": "code",
      "execution_count": 56,
      "metadata": {},
      "outputs": [
        {
          "data": {
            "text/plain": [
              "ATENCIONES\n",
              "31      132687\n",
              "32      123190\n",
              "33      115525\n",
              "34      108649\n",
              "35      102200\n",
              "         ...  \n",
              "2260         1\n",
              "1543         1\n",
              "2372         1\n",
              "3841         1\n",
              "2144         1\n",
              "Name: count, Length: 3572, dtype: int64"
            ]
          },
          "execution_count": 56,
          "metadata": {},
          "output_type": "execute_result"
        }
      ],
      "source": [
        "filtered_counts = df_all[df_all['ATENCIONES'] > 30]['ATENCIONES'].value_counts()\n",
        "filtered_counts\n"
      ]
    },
    {
      "cell_type": "code",
      "execution_count": 54,
      "metadata": {},
      "outputs": [
        {
          "data": {
            "image/png": "[encoded data removed]",
            "text/plain": [
              "<Figure size 1200x600 with 1 Axes>"
            ]
          },
          "metadata": {},
          "output_type": "display_data"
        }
      ],
      "source": [
        "plt.figure(figsize=(12, 6))\n",
        "plt.hist(df_all['ATENCIONES'].dropna(), bins=100, range=(0, 100), edgecolor='black')\n",
        "plt.title('Histogram of ATENCIONES (values 0 to 50)')\n",
        "plt.xlabel('ATENCIONES')\n",
        "plt.ylabel('Frequency')\n",
        "plt.tight_layout()\n",
        "plt.show()\n"
      ]
    },
    {
      "cell_type": "code",
      "execution_count": 45,
      "metadata": {},
      "outputs": [
        {
          "data": {
            "text/html": [
              "<div>\n",
              "<style scoped>\n",
              "    .dataframe tbody tr th:only-of-type {\n",
              "        vertical-align: middle;\n",
              "    }\n",
              "\n",
              "    .dataframe tbody tr th {\n",
              "        vertical-align: top;\n",
              "    }\n",
              "\n",
              "    .dataframe thead th {\n",
              "        text-align: right;\n",
              "    }\n",
              "</style>\n",
              "<table border=\"1\" class=\"dataframe\">\n",
              "  <thead>\n",
              "    <tr style=\"text-align: right;\">\n",
              "      <th></th>\n",
              "      <th>Null Count</th>\n",
              "      <th>Null Percentage</th>\n",
              "    </tr>\n",
              "  </thead>\n",
              "  <tbody>\n",
              "    <tr>\n",
              "      <th>PROVINCIA</th>\n",
              "      <td>27216</td>\n",
              "      <td>0.05</td>\n",
              "    </tr>\n",
              "    <tr>\n",
              "      <th>DISTRITO</th>\n",
              "      <td>27216</td>\n",
              "      <td>0.05</td>\n",
              "    </tr>\n",
              "    <tr>\n",
              "      <th>COD_UNIDAD_EJECUTORA</th>\n",
              "      <td>1239</td>\n",
              "      <td>0.00</td>\n",
              "    </tr>\n",
              "    <tr>\n",
              "      <th>DESC_UNIDAD_EJECUTORA</th>\n",
              "      <td>1239</td>\n",
              "      <td>0.00</td>\n",
              "    </tr>\n",
              "    <tr>\n",
              "      <th>PLAN_SEGURO</th>\n",
              "      <td>36</td>\n",
              "      <td>0.00</td>\n",
              "    </tr>\n",
              "  </tbody>\n",
              "</table>\n",
              "</div>"
            ],
            "text/plain": [
              "                       Null Count  Null Percentage\n",
              "PROVINCIA                   27216             0.05\n",
              "DISTRITO                    27216             0.05\n",
              "COD_UNIDAD_EJECUTORA         1239             0.00\n",
              "DESC_UNIDAD_EJECUTORA        1239             0.00\n",
              "PLAN_SEGURO                    36             0.00"
            ]
          },
          "execution_count": 45,
          "metadata": {},
          "output_type": "execute_result"
        }
      ],
      "source": [
        "# Calcular cantidad y porcentaje de nulos\n",
        "null_counts = df_all.isnull().sum()\n",
        "null_counts = null_counts[null_counts > 0]\n",
        "\n",
        "# Calcular porcentaje\n",
        "null_percent = (null_counts / len(df_all)) * 100\n",
        "\n",
        "# Crear tabla\n",
        "null_summary = pd.DataFrame({\n",
        "    'Null Count': null_counts,\n",
        "    'Null Percentage': null_percent.round(2)\n",
        "})\n",
        "\n",
        "null_summary\n"
      ]
    },
    {
      "cell_type": "code",
      "execution_count": null,
      "metadata": {},
      "outputs": [],
      "source": []
    }
  ],
  "metadata": {
    "colab": {
      "provenance": []
    },
    "kernelspec": {
      "display_name": "venv",
      "language": "python",
      "name": "python3"
    },
    "language_info": {
      "codemirror_mode": {
        "name": "ipython",
        "version": 3
      },
      "file_extension": ".py",
      "mimetype": "text/x-python",
      "name": "python",
      "nbconvert_exporter": "python",
      "pygments_lexer": "ipython3",
      "version": "3.11.4"
    }
  },
  "nbformat": 4,
  "nbformat_minor": 0
}
