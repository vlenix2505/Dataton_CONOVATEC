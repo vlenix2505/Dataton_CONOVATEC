{
  "cells": [
    {
      "cell_type": "code",
      "execution_count": 3,
      "metadata": {
        "id": "73D9QJ7v7PLx"
      },
      "outputs": [],
      "source": [
        "import urllib.request\n",
        "import pandas as pd\n",
        "import seaborn as sns\n",
        "import matplotlib.pyplot as plt"
      ]
    },
    {
      "cell_type": "code",
      "execution_count": null,
      "metadata": {
        "colab": {
          "base_uri": "https://localhost:8080/"
        },
        "id": "ddbLCK3q7TAY",
        "outputId": "8061547b-02bb-4622-a287-d085288cad81"
      },
      "outputs": [
        {
          "name": "stdout",
          "output_type": "stream",
          "text": [
            "Archive:  OPENDATA_DS_01_2017_ATENCIONES_0.zip\n",
            "  inflating: OPENDATA_DS_01_2017_ATENCIONES.csv  \n"
          ]
        }
      ],
      "source": [
        "import urllib.request\n",
        "import pandas as pd\n",
        "\n",
        "# Descargar y descomprimir\n",
        "nombre_archivo = \"Prestaciones de salud asociadas a los asegurados con Diabetes Mellitus.csv\"\n",
        "\n",
        "# Leer el CSV extraído con el nombre correcto\n",
        "df = pd.read_csv(nombre_archivo, sep=',', low_memory=False)\n"
      ]
    },
    {
      "cell_type": "code",
      "execution_count": null,
      "metadata": {},
      "outputs": [],
      "source": [
        "df.head()"
      ]
    }
  ],
  "metadata": {
    "colab": {
      "provenance": []
    },
    "kernelspec": {
      "display_name": "venv",
      "language": "python",
      "name": "python3"
    },
    "language_info": {
      "codemirror_mode": {
        "name": "ipython",
        "version": 3
      },
      "file_extension": ".py",
      "mimetype": "text/x-python",
      "name": "python",
      "nbconvert_exporter": "python",
      "pygments_lexer": "ipython3",
      "version": "3.11.4"
    }
  },
  "nbformat": 4,
  "nbformat_minor": 0
}
